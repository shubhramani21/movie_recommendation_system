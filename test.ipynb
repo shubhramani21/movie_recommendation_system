{
 "cells": [
  {
   "cell_type": "code",
   "execution_count": 75,
   "metadata": {},
   "outputs": [],
   "source": [
    "import numpy as np\n",
    "import pandas as pd"
   ]
  },
  {
   "cell_type": "code",
   "execution_count": 76,
   "metadata": {},
   "outputs": [],
   "source": [
    "credits = pd.read_csv('tmdb_credits.csv')\n",
    "movies = pd.read_csv('tmdb_movies.csv')"
   ]
  },
  {
   "cell_type": "code",
   "execution_count": 77,
   "metadata": {},
   "outputs": [
    {
     "data": {
      "text/plain": [
       "0"
      ]
     },
     "execution_count": 77,
     "metadata": {},
     "output_type": "execute_result"
    }
   ],
   "source": [
    "movies = movies.drop_duplicates(subset=['id'])\n",
    "movies.duplicated().sum()"
   ]
  },
  {
   "cell_type": "code",
   "execution_count": 78,
   "metadata": {},
   "outputs": [
    {
     "data": {
      "text/plain": [
       "0"
      ]
     },
     "execution_count": 78,
     "metadata": {},
     "output_type": "execute_result"
    }
   ],
   "source": [
    "credits = credits.drop_duplicates(subset=['movie_id'])\n",
    "credits.duplicated().sum()"
   ]
  },
  {
   "cell_type": "code",
   "execution_count": 79,
   "metadata": {},
   "outputs": [],
   "source": [
    "credits.rename(columns={'movie_id':'id'}, inplace=True)"
   ]
  },
  {
   "cell_type": "code",
   "execution_count": 80,
   "metadata": {},
   "outputs": [],
   "source": [
    "credits.drop('title' ,axis = 1, inplace = True)"
   ]
  },
  {
   "cell_type": "code",
   "execution_count": 81,
   "metadata": {},
   "outputs": [
    {
     "data": {
      "text/html": [
       "<div>\n",
       "<style scoped>\n",
       "    .dataframe tbody tr th:only-of-type {\n",
       "        vertical-align: middle;\n",
       "    }\n",
       "\n",
       "    .dataframe tbody tr th {\n",
       "        vertical-align: top;\n",
       "    }\n",
       "\n",
       "    .dataframe thead th {\n",
       "        text-align: right;\n",
       "    }\n",
       "</style>\n",
       "<table border=\"1\" class=\"dataframe\">\n",
       "  <thead>\n",
       "    <tr style=\"text-align: right;\">\n",
       "      <th></th>\n",
       "      <th>id</th>\n",
       "      <th>cast</th>\n",
       "      <th>crew</th>\n",
       "    </tr>\n",
       "  </thead>\n",
       "  <tbody>\n",
       "    <tr>\n",
       "      <th>4247</th>\n",
       "      <td>463461</td>\n",
       "      <td>[{'name': 'Chisato Kawamura', 'role': 'Ann-Ann...</td>\n",
       "      <td>[{'name': 'Lam Yee Hung', 'department': 'Direc...</td>\n",
       "    </tr>\n",
       "  </tbody>\n",
       "</table>\n",
       "</div>"
      ],
      "text/plain": [
       "          id                                               cast  \\\n",
       "4247  463461  [{'name': 'Chisato Kawamura', 'role': 'Ann-Ann...   \n",
       "\n",
       "                                                   crew  \n",
       "4247  [{'name': 'Lam Yee Hung', 'department': 'Direc...  "
      ]
     },
     "execution_count": 81,
     "metadata": {},
     "output_type": "execute_result"
    }
   ],
   "source": [
    "credits.sample()"
   ]
  },
  {
   "cell_type": "code",
   "execution_count": 82,
   "metadata": {},
   "outputs": [
    {
     "data": {
      "text/html": [
       "<div>\n",
       "<style scoped>\n",
       "    .dataframe tbody tr th:only-of-type {\n",
       "        vertical-align: middle;\n",
       "    }\n",
       "\n",
       "    .dataframe tbody tr th {\n",
       "        vertical-align: top;\n",
       "    }\n",
       "\n",
       "    .dataframe thead th {\n",
       "        text-align: right;\n",
       "    }\n",
       "</style>\n",
       "<table border=\"1\" class=\"dataframe\">\n",
       "  <thead>\n",
       "    <tr style=\"text-align: right;\">\n",
       "      <th></th>\n",
       "      <th>budget</th>\n",
       "      <th>genres</th>\n",
       "      <th>homepage</th>\n",
       "      <th>id</th>\n",
       "      <th>keywords</th>\n",
       "      <th>original_language</th>\n",
       "      <th>original_title</th>\n",
       "      <th>overview</th>\n",
       "      <th>popularity</th>\n",
       "      <th>production_companies</th>\n",
       "      <th>production_countries</th>\n",
       "      <th>release_date</th>\n",
       "      <th>revenue</th>\n",
       "      <th>runtime</th>\n",
       "      <th>spoken_languages</th>\n",
       "      <th>status</th>\n",
       "      <th>tagline</th>\n",
       "      <th>title</th>\n",
       "      <th>vote_average</th>\n",
       "      <th>vote_count</th>\n",
       "    </tr>\n",
       "  </thead>\n",
       "  <tbody>\n",
       "    <tr>\n",
       "      <th>893</th>\n",
       "      <td>0</td>\n",
       "      <td>Action, Comedy, Crime</td>\n",
       "      <td>https://www.netflix.com/title/81702144</td>\n",
       "      <td>1139817</td>\n",
       "      <td>martial arts, police officer, dramatic, amused</td>\n",
       "      <td>ko</td>\n",
       "      <td>무도실무관</td>\n",
       "      <td>A talented martial artist who can't walk past ...</td>\n",
       "      <td>58.365</td>\n",
       "      <td>Climax Studios, STUDIO706</td>\n",
       "      <td>KR</td>\n",
       "      <td>2024-09-10</td>\n",
       "      <td>0</td>\n",
       "      <td>108</td>\n",
       "      <td>ko</td>\n",
       "      <td>Released</td>\n",
       "      <td>Strike crime before it strikes the world.</td>\n",
       "      <td>Officer Black Belt</td>\n",
       "      <td>7.7</td>\n",
       "      <td>262</td>\n",
       "    </tr>\n",
       "  </tbody>\n",
       "</table>\n",
       "</div>"
      ],
      "text/plain": [
       "     budget                 genres                                homepage  \\\n",
       "893       0  Action, Comedy, Crime  https://www.netflix.com/title/81702144   \n",
       "\n",
       "          id                                        keywords  \\\n",
       "893  1139817  martial arts, police officer, dramatic, amused   \n",
       "\n",
       "    original_language original_title  \\\n",
       "893                ko          무도실무관   \n",
       "\n",
       "                                              overview  popularity  \\\n",
       "893  A talented martial artist who can't walk past ...      58.365   \n",
       "\n",
       "          production_companies production_countries release_date  revenue  \\\n",
       "893  Climax Studios, STUDIO706                   KR   2024-09-10        0   \n",
       "\n",
       "     runtime spoken_languages    status  \\\n",
       "893      108               ko  Released   \n",
       "\n",
       "                                       tagline               title  \\\n",
       "893  Strike crime before it strikes the world.  Officer Black Belt   \n",
       "\n",
       "     vote_average  vote_count  \n",
       "893           7.7         262  "
      ]
     },
     "execution_count": 82,
     "metadata": {},
     "output_type": "execute_result"
    }
   ],
   "source": [
    "movies.sample()"
   ]
  },
  {
   "cell_type": "code",
   "execution_count": 83,
   "metadata": {},
   "outputs": [],
   "source": [
    "movies = movies.merge(credits, on='id')"
   ]
  },
  {
   "cell_type": "code",
   "execution_count": 84,
   "metadata": {},
   "outputs": [
    {
     "data": {
      "text/html": [
       "<div>\n",
       "<style scoped>\n",
       "    .dataframe tbody tr th:only-of-type {\n",
       "        vertical-align: middle;\n",
       "    }\n",
       "\n",
       "    .dataframe tbody tr th {\n",
       "        vertical-align: top;\n",
       "    }\n",
       "\n",
       "    .dataframe thead th {\n",
       "        text-align: right;\n",
       "    }\n",
       "</style>\n",
       "<table border=\"1\" class=\"dataframe\">\n",
       "  <thead>\n",
       "    <tr style=\"text-align: right;\">\n",
       "      <th></th>\n",
       "      <th>budget</th>\n",
       "      <th>genres</th>\n",
       "      <th>homepage</th>\n",
       "      <th>id</th>\n",
       "      <th>keywords</th>\n",
       "      <th>original_language</th>\n",
       "      <th>original_title</th>\n",
       "      <th>overview</th>\n",
       "      <th>popularity</th>\n",
       "      <th>production_companies</th>\n",
       "      <th>...</th>\n",
       "      <th>revenue</th>\n",
       "      <th>runtime</th>\n",
       "      <th>spoken_languages</th>\n",
       "      <th>status</th>\n",
       "      <th>tagline</th>\n",
       "      <th>title</th>\n",
       "      <th>vote_average</th>\n",
       "      <th>vote_count</th>\n",
       "      <th>cast</th>\n",
       "      <th>crew</th>\n",
       "    </tr>\n",
       "  </thead>\n",
       "  <tbody>\n",
       "    <tr>\n",
       "      <th>0</th>\n",
       "      <td>150000000</td>\n",
       "      <td>Animation, Adventure, Family, Comedy</td>\n",
       "      <td>https://movies.disney.com/moana-2</td>\n",
       "      <td>1241982</td>\n",
       "      <td>sea, ocean, villain, musical, sequel, duringcr...</td>\n",
       "      <td>en</td>\n",
       "      <td>Moana 2</td>\n",
       "      <td>After receiving an unexpected call from her wa...</td>\n",
       "      <td>3664.907</td>\n",
       "      <td>Walt Disney Pictures, Walt Disney Animation St...</td>\n",
       "      <td>...</td>\n",
       "      <td>1044396565</td>\n",
       "      <td>99</td>\n",
       "      <td>en</td>\n",
       "      <td>Released</td>\n",
       "      <td>The ocean is calling them back.</td>\n",
       "      <td>Moana 2</td>\n",
       "      <td>7.2</td>\n",
       "      <td>1536</td>\n",
       "      <td>[{'name': 'Auliʻi Cravalho', 'role': 'Moana (v...</td>\n",
       "      <td>[{'name': 'David G. Derrick Jr.', 'department'...</td>\n",
       "    </tr>\n",
       "  </tbody>\n",
       "</table>\n",
       "<p>1 rows × 22 columns</p>\n",
       "</div>"
      ],
      "text/plain": [
       "      budget                                genres  \\\n",
       "0  150000000  Animation, Adventure, Family, Comedy   \n",
       "\n",
       "                            homepage       id  \\\n",
       "0  https://movies.disney.com/moana-2  1241982   \n",
       "\n",
       "                                            keywords original_language  \\\n",
       "0  sea, ocean, villain, musical, sequel, duringcr...                en   \n",
       "\n",
       "  original_title                                           overview  \\\n",
       "0        Moana 2  After receiving an unexpected call from her wa...   \n",
       "\n",
       "   popularity                               production_companies  ...  \\\n",
       "0    3664.907  Walt Disney Pictures, Walt Disney Animation St...  ...   \n",
       "\n",
       "      revenue runtime  spoken_languages    status  \\\n",
       "0  1044396565      99                en  Released   \n",
       "\n",
       "                           tagline    title vote_average vote_count  \\\n",
       "0  The ocean is calling them back.  Moana 2          7.2       1536   \n",
       "\n",
       "                                                cast  \\\n",
       "0  [{'name': 'Auliʻi Cravalho', 'role': 'Moana (v...   \n",
       "\n",
       "                                                crew  \n",
       "0  [{'name': 'David G. Derrick Jr.', 'department'...  \n",
       "\n",
       "[1 rows x 22 columns]"
      ]
     },
     "execution_count": 84,
     "metadata": {},
     "output_type": "execute_result"
    }
   ],
   "source": [
    "movies.head(1)"
   ]
  },
  {
   "cell_type": "code",
   "execution_count": 85,
   "metadata": {},
   "outputs": [
    {
     "name": "stdout",
     "output_type": "stream",
     "text": [
      "<class 'pandas.core.frame.DataFrame'>\n",
      "Int64Index: 3901 entries, 0 to 3900\n",
      "Data columns (total 22 columns):\n",
      " #   Column                Non-Null Count  Dtype  \n",
      "---  ------                --------------  -----  \n",
      " 0   budget                3901 non-null   int64  \n",
      " 1   genres                3889 non-null   object \n",
      " 2   homepage              2029 non-null   object \n",
      " 3   id                    3901 non-null   int64  \n",
      " 4   keywords              3643 non-null   object \n",
      " 5   original_language     3901 non-null   object \n",
      " 6   original_title        3901 non-null   object \n",
      " 7   overview              3876 non-null   object \n",
      " 8   popularity            3901 non-null   float64\n",
      " 9   production_companies  3771 non-null   object \n",
      " 10  production_countries  3858 non-null   object \n",
      " 11  release_date          3894 non-null   object \n",
      " 12  revenue               3901 non-null   int64  \n",
      " 13  runtime               3901 non-null   int64  \n",
      " 14  spoken_languages      3884 non-null   object \n",
      " 15  status                3901 non-null   object \n",
      " 16  tagline               3152 non-null   object \n",
      " 17  title                 3901 non-null   object \n",
      " 18  vote_average          3901 non-null   float64\n",
      " 19  vote_count            3901 non-null   int64  \n",
      " 20  cast                  3901 non-null   object \n",
      " 21  crew                  3901 non-null   object \n",
      "dtypes: float64(2), int64(5), object(15)\n",
      "memory usage: 701.0+ KB\n"
     ]
    }
   ],
   "source": [
    "movies.info()"
   ]
  },
  {
   "cell_type": "code",
   "execution_count": 27,
   "metadata": {},
   "outputs": [],
   "source": [
    "# genres id keywords overview title cast crew "
   ]
  },
  {
   "cell_type": "code",
   "execution_count": 86,
   "metadata": {},
   "outputs": [],
   "source": [
    "movies = movies[['id', 'title', 'overview', 'genres', 'keywords', 'cast', 'crew']]"
   ]
  },
  {
   "cell_type": "code",
   "execution_count": 87,
   "metadata": {},
   "outputs": [
    {
     "data": {
      "text/html": [
       "<div>\n",
       "<style scoped>\n",
       "    .dataframe tbody tr th:only-of-type {\n",
       "        vertical-align: middle;\n",
       "    }\n",
       "\n",
       "    .dataframe tbody tr th {\n",
       "        vertical-align: top;\n",
       "    }\n",
       "\n",
       "    .dataframe thead th {\n",
       "        text-align: right;\n",
       "    }\n",
       "</style>\n",
       "<table border=\"1\" class=\"dataframe\">\n",
       "  <thead>\n",
       "    <tr style=\"text-align: right;\">\n",
       "      <th></th>\n",
       "      <th>id</th>\n",
       "      <th>title</th>\n",
       "      <th>overview</th>\n",
       "      <th>genres</th>\n",
       "      <th>keywords</th>\n",
       "      <th>cast</th>\n",
       "      <th>crew</th>\n",
       "    </tr>\n",
       "  </thead>\n",
       "  <tbody>\n",
       "    <tr>\n",
       "      <th>0</th>\n",
       "      <td>1241982</td>\n",
       "      <td>Moana 2</td>\n",
       "      <td>After receiving an unexpected call from her wa...</td>\n",
       "      <td>Animation, Adventure, Family, Comedy</td>\n",
       "      <td>sea, ocean, villain, musical, sequel, duringcr...</td>\n",
       "      <td>[{'name': 'Auliʻi Cravalho', 'role': 'Moana (v...</td>\n",
       "      <td>[{'name': 'David G. Derrick Jr.', 'department'...</td>\n",
       "    </tr>\n",
       "    <tr>\n",
       "      <th>1</th>\n",
       "      <td>927342</td>\n",
       "      <td>Amaran</td>\n",
       "      <td>A heroic true story of Major Mukund Varadaraja...</td>\n",
       "      <td>Action, Drama, Adventure, War</td>\n",
       "      <td>based on novel or book, affectation, based on ...</td>\n",
       "      <td>[{'name': 'Sivakarthikeyan', 'role': 'Major Mu...</td>\n",
       "      <td>[{'name': 'C. H. Sai', 'department': 'Camera'}...</td>\n",
       "    </tr>\n",
       "    <tr>\n",
       "      <th>2</th>\n",
       "      <td>822119</td>\n",
       "      <td>Captain America: Brave New World</td>\n",
       "      <td>After meeting with newly elected U.S. Presiden...</td>\n",
       "      <td>Action, Thriller, Science Fiction</td>\n",
       "      <td>hero, superhero, revenge, blunt, aftercreditss...</td>\n",
       "      <td>[{'name': 'Anthony Mackie', 'role': 'Sam Wilso...</td>\n",
       "      <td>[{'name': 'Kevin Feige', 'department': 'Produc...</td>\n",
       "    </tr>\n",
       "    <tr>\n",
       "      <th>3</th>\n",
       "      <td>939243</td>\n",
       "      <td>Sonic the Hedgehog 3</td>\n",
       "      <td>Sonic, Knuckles, and Tails reunite against a p...</td>\n",
       "      <td>Action, Science Fiction, Comedy, Family</td>\n",
       "      <td>moon, sequel, based on video game, burlesque, ...</td>\n",
       "      <td>[{'name': 'Jim Carrey', 'role': 'Ivo Robotnik ...</td>\n",
       "      <td>[{'name': 'Neal H. Moritz', 'department': 'Pro...</td>\n",
       "    </tr>\n",
       "    <tr>\n",
       "      <th>4</th>\n",
       "      <td>1160956</td>\n",
       "      <td>Panda Plan</td>\n",
       "      <td>International action star Jackie Chan is invit...</td>\n",
       "      <td>Action, Comedy</td>\n",
       "      <td>assistant, zoo, panda, superstar, rescue opera...</td>\n",
       "      <td>[{'name': 'Jackie Chan', 'role': 'Jackie'}, {'...</td>\n",
       "      <td>[{'name': 'Wei Xu', 'department': 'Writing'}, ...</td>\n",
       "    </tr>\n",
       "  </tbody>\n",
       "</table>\n",
       "</div>"
      ],
      "text/plain": [
       "        id                             title  \\\n",
       "0  1241982                           Moana 2   \n",
       "1   927342                            Amaran   \n",
       "2   822119  Captain America: Brave New World   \n",
       "3   939243              Sonic the Hedgehog 3   \n",
       "4  1160956                        Panda Plan   \n",
       "\n",
       "                                            overview  \\\n",
       "0  After receiving an unexpected call from her wa...   \n",
       "1  A heroic true story of Major Mukund Varadaraja...   \n",
       "2  After meeting with newly elected U.S. Presiden...   \n",
       "3  Sonic, Knuckles, and Tails reunite against a p...   \n",
       "4  International action star Jackie Chan is invit...   \n",
       "\n",
       "                                    genres  \\\n",
       "0     Animation, Adventure, Family, Comedy   \n",
       "1            Action, Drama, Adventure, War   \n",
       "2        Action, Thriller, Science Fiction   \n",
       "3  Action, Science Fiction, Comedy, Family   \n",
       "4                           Action, Comedy   \n",
       "\n",
       "                                            keywords  \\\n",
       "0  sea, ocean, villain, musical, sequel, duringcr...   \n",
       "1  based on novel or book, affectation, based on ...   \n",
       "2  hero, superhero, revenge, blunt, aftercreditss...   \n",
       "3  moon, sequel, based on video game, burlesque, ...   \n",
       "4  assistant, zoo, panda, superstar, rescue opera...   \n",
       "\n",
       "                                                cast  \\\n",
       "0  [{'name': 'Auliʻi Cravalho', 'role': 'Moana (v...   \n",
       "1  [{'name': 'Sivakarthikeyan', 'role': 'Major Mu...   \n",
       "2  [{'name': 'Anthony Mackie', 'role': 'Sam Wilso...   \n",
       "3  [{'name': 'Jim Carrey', 'role': 'Ivo Robotnik ...   \n",
       "4  [{'name': 'Jackie Chan', 'role': 'Jackie'}, {'...   \n",
       "\n",
       "                                                crew  \n",
       "0  [{'name': 'David G. Derrick Jr.', 'department'...  \n",
       "1  [{'name': 'C. H. Sai', 'department': 'Camera'}...  \n",
       "2  [{'name': 'Kevin Feige', 'department': 'Produc...  \n",
       "3  [{'name': 'Neal H. Moritz', 'department': 'Pro...  \n",
       "4  [{'name': 'Wei Xu', 'department': 'Writing'}, ...  "
      ]
     },
     "execution_count": 87,
     "metadata": {},
     "output_type": "execute_result"
    }
   ],
   "source": [
    "movies.head()"
   ]
  },
  {
   "cell_type": "code",
   "execution_count": 90,
   "metadata": {},
   "outputs": [
    {
     "data": {
      "text/plain": [
       "(3901, 7)"
      ]
     },
     "execution_count": 90,
     "metadata": {},
     "output_type": "execute_result"
    }
   ],
   "source": [
    "movies.shape"
   ]
  },
  {
   "cell_type": "code",
   "execution_count": 95,
   "metadata": {},
   "outputs": [
    {
     "data": {
      "text/plain": [
       "id            0\n",
       "title         0\n",
       "overview     25\n",
       "genres       12\n",
       "keywords    258\n",
       "cast          0\n",
       "crew          0\n",
       "dtype: int64"
      ]
     },
     "execution_count": 95,
     "metadata": {},
     "output_type": "execute_result"
    }
   ],
   "source": [
    "movies.isnull().sum()"
   ]
  },
  {
   "cell_type": "code",
   "execution_count": 96,
   "metadata": {},
   "outputs": [],
   "source": [
    "movies = movies.dropna(subset=['overview', 'genres'])\n"
   ]
  },
  {
   "cell_type": "code",
   "execution_count": 99,
   "metadata": {},
   "outputs": [],
   "source": [
    "movies['keywords'].fillna('', inplace=True)"
   ]
  },
  {
   "cell_type": "code",
   "execution_count": 101,
   "metadata": {},
   "outputs": [
    {
     "data": {
      "text/plain": [
       "id          0\n",
       "title       0\n",
       "overview    0\n",
       "genres      0\n",
       "keywords    0\n",
       "cast        0\n",
       "crew        0\n",
       "dtype: int64"
      ]
     },
     "execution_count": 101,
     "metadata": {},
     "output_type": "execute_result"
    }
   ],
   "source": [
    "movies.isnull().sum()"
   ]
  },
  {
   "cell_type": "code",
   "execution_count": 102,
   "metadata": {},
   "outputs": [
    {
     "data": {
      "text/plain": [
       "(3866, 7)"
      ]
     },
     "execution_count": 102,
     "metadata": {},
     "output_type": "execute_result"
    }
   ],
   "source": [
    "movies.shape"
   ]
  },
  {
   "cell_type": "code",
   "execution_count": 104,
   "metadata": {},
   "outputs": [
    {
     "data": {
      "text/html": [
       "<div>\n",
       "<style scoped>\n",
       "    .dataframe tbody tr th:only-of-type {\n",
       "        vertical-align: middle;\n",
       "    }\n",
       "\n",
       "    .dataframe tbody tr th {\n",
       "        vertical-align: top;\n",
       "    }\n",
       "\n",
       "    .dataframe thead th {\n",
       "        text-align: right;\n",
       "    }\n",
       "</style>\n",
       "<table border=\"1\" class=\"dataframe\">\n",
       "  <thead>\n",
       "    <tr style=\"text-align: right;\">\n",
       "      <th></th>\n",
       "      <th>id</th>\n",
       "      <th>title</th>\n",
       "      <th>overview</th>\n",
       "      <th>genres</th>\n",
       "      <th>keywords</th>\n",
       "      <th>cast</th>\n",
       "      <th>crew</th>\n",
       "    </tr>\n",
       "  </thead>\n",
       "  <tbody>\n",
       "    <tr>\n",
       "      <th>167</th>\n",
       "      <td>19995</td>\n",
       "      <td>Avatar</td>\n",
       "      <td>In the 22nd century, a paraplegic Marine is di...</td>\n",
       "      <td>Action, Adventure, Fantasy, Science Fiction</td>\n",
       "      <td>paraplegic, attachment to nature, culture clas...</td>\n",
       "      <td>[{'name': 'Sam Worthington', 'role': 'Jake Sul...</td>\n",
       "      <td>[{'name': 'John Refoua', 'department': 'Editin...</td>\n",
       "    </tr>\n",
       "  </tbody>\n",
       "</table>\n",
       "</div>"
      ],
      "text/plain": [
       "        id   title                                           overview  \\\n",
       "167  19995  Avatar  In the 22nd century, a paraplegic Marine is di...   \n",
       "\n",
       "                                          genres  \\\n",
       "167  Action, Adventure, Fantasy, Science Fiction   \n",
       "\n",
       "                                              keywords  \\\n",
       "167  paraplegic, attachment to nature, culture clas...   \n",
       "\n",
       "                                                  cast  \\\n",
       "167  [{'name': 'Sam Worthington', 'role': 'Jake Sul...   \n",
       "\n",
       "                                                  crew  \n",
       "167  [{'name': 'John Refoua', 'department': 'Editin...  "
      ]
     },
     "execution_count": 104,
     "metadata": {},
     "output_type": "execute_result"
    }
   ],
   "source": [
    "movies[movies['title'] == 'Avatar']"
   ]
  },
  {
   "cell_type": "code",
   "execution_count": 106,
   "metadata": {},
   "outputs": [
    {
     "data": {
      "text/plain": [
       "'Animation, Adventure, Family, Comedy'"
      ]
     },
     "execution_count": 106,
     "metadata": {},
     "output_type": "execute_result"
    }
   ],
   "source": [
    "movies.genres[0]"
   ]
  },
  {
   "cell_type": "code",
   "execution_count": 114,
   "metadata": {},
   "outputs": [],
   "source": [
    "movies['genres'] = movies['genres'].apply(lambda x: x.split(','))"
   ]
  },
  {
   "cell_type": "code",
   "execution_count": 116,
   "metadata": {},
   "outputs": [
    {
     "data": {
      "text/html": [
       "<div>\n",
       "<style scoped>\n",
       "    .dataframe tbody tr th:only-of-type {\n",
       "        vertical-align: middle;\n",
       "    }\n",
       "\n",
       "    .dataframe tbody tr th {\n",
       "        vertical-align: top;\n",
       "    }\n",
       "\n",
       "    .dataframe thead th {\n",
       "        text-align: right;\n",
       "    }\n",
       "</style>\n",
       "<table border=\"1\" class=\"dataframe\">\n",
       "  <thead>\n",
       "    <tr style=\"text-align: right;\">\n",
       "      <th></th>\n",
       "      <th>id</th>\n",
       "      <th>title</th>\n",
       "      <th>overview</th>\n",
       "      <th>genres</th>\n",
       "      <th>keywords</th>\n",
       "      <th>cast</th>\n",
       "      <th>crew</th>\n",
       "    </tr>\n",
       "  </thead>\n",
       "  <tbody>\n",
       "    <tr>\n",
       "      <th>3503</th>\n",
       "      <td>91342</td>\n",
       "      <td>Barbie in A Mermaid Tale 2</td>\n",
       "      <td>Surf's up for Barbie as she returns as Merliah...</td>\n",
       "      <td>[Animation,  Family]</td>\n",
       "      <td>princess, mermaid, based on toy</td>\n",
       "      <td>[{'name': 'Kelly Sheridan', 'role': 'Merliah (...</td>\n",
       "      <td>[{'name': 'Brandon Tinney', 'department': 'Vis...</td>\n",
       "    </tr>\n",
       "  </tbody>\n",
       "</table>\n",
       "</div>"
      ],
      "text/plain": [
       "         id                       title  \\\n",
       "3503  91342  Barbie in A Mermaid Tale 2   \n",
       "\n",
       "                                               overview                genres  \\\n",
       "3503  Surf's up for Barbie as she returns as Merliah...  [Animation,  Family]   \n",
       "\n",
       "                             keywords  \\\n",
       "3503  princess, mermaid, based on toy   \n",
       "\n",
       "                                                   cast  \\\n",
       "3503  [{'name': 'Kelly Sheridan', 'role': 'Merliah (...   \n",
       "\n",
       "                                                   crew  \n",
       "3503  [{'name': 'Brandon Tinney', 'department': 'Vis...  "
      ]
     },
     "execution_count": 116,
     "metadata": {},
     "output_type": "execute_result"
    }
   ],
   "source": [
    "movies.sample()"
   ]
  },
  {
   "cell_type": "code",
   "execution_count": 117,
   "metadata": {},
   "outputs": [],
   "source": [
    "movies['keywords'] = movies['keywords'].apply(lambda x: x.split(','))\n"
   ]
  },
  {
   "cell_type": "code",
   "execution_count": 118,
   "metadata": {},
   "outputs": [
    {
     "data": {
      "text/html": [
       "<div>\n",
       "<style scoped>\n",
       "    .dataframe tbody tr th:only-of-type {\n",
       "        vertical-align: middle;\n",
       "    }\n",
       "\n",
       "    .dataframe tbody tr th {\n",
       "        vertical-align: top;\n",
       "    }\n",
       "\n",
       "    .dataframe thead th {\n",
       "        text-align: right;\n",
       "    }\n",
       "</style>\n",
       "<table border=\"1\" class=\"dataframe\">\n",
       "  <thead>\n",
       "    <tr style=\"text-align: right;\">\n",
       "      <th></th>\n",
       "      <th>id</th>\n",
       "      <th>title</th>\n",
       "      <th>overview</th>\n",
       "      <th>genres</th>\n",
       "      <th>keywords</th>\n",
       "      <th>cast</th>\n",
       "      <th>crew</th>\n",
       "    </tr>\n",
       "  </thead>\n",
       "  <tbody>\n",
       "    <tr>\n",
       "      <th>173</th>\n",
       "      <td>940551</td>\n",
       "      <td>Migration</td>\n",
       "      <td>After a migrating duck family alights on their...</td>\n",
       "      <td>[Animation,  Adventure,  Comedy,  Family]</td>\n",
       "      <td>[duck,  villain,  migration,  flight,  anthrop...</td>\n",
       "      <td>[{'name': 'Kumail Nanjiani', 'role': 'Mack Mal...</td>\n",
       "      <td>[{'name': 'Benjamin Renner', 'department': 'Di...</td>\n",
       "    </tr>\n",
       "  </tbody>\n",
       "</table>\n",
       "</div>"
      ],
      "text/plain": [
       "         id      title                                           overview  \\\n",
       "173  940551  Migration  After a migrating duck family alights on their...   \n",
       "\n",
       "                                        genres  \\\n",
       "173  [Animation,  Adventure,  Comedy,  Family]   \n",
       "\n",
       "                                              keywords  \\\n",
       "173  [duck,  villain,  migration,  flight,  anthrop...   \n",
       "\n",
       "                                                  cast  \\\n",
       "173  [{'name': 'Kumail Nanjiani', 'role': 'Mack Mal...   \n",
       "\n",
       "                                                  crew  \n",
       "173  [{'name': 'Benjamin Renner', 'department': 'Di...  "
      ]
     },
     "execution_count": 118,
     "metadata": {},
     "output_type": "execute_result"
    }
   ],
   "source": [
    "movies.sample()"
   ]
  },
  {
   "cell_type": "code",
   "execution_count": 123,
   "metadata": {},
   "outputs": [
    {
     "data": {
      "text/plain": [
       "'[{\\'name\\': \\'Sivakarthikeyan\\', \\'role\\': \\'Major Mukund Varadarajan\\'}, {\\'name\\': \\'Sai Pallavi\\', \\'role\\': \\'Indhu Rebecca Varghese\\'}, {\\'name\\': \\'Rahul Bose\\', \\'role\\': \\'Colonel Amit Singh Dabas\\'}, {\\'name\\': \\'Bhuvan Arora\\', \\'role\\': \\'Vikram Singh\\'}, {\\'name\\': \\'Lallu Prasath\\', \\'role\\': \\'Ravi Shankar\\'}, {\\'name\\': \\'Shyam Mohan\\', \\'role\\': \"Indhu\\'s brother\"}, {\\'name\\': \\'Mir Salman\\', \\'role\\': \\'Saifudeen K\\'}, {\\'name\\': \\'Shyamaprasad\\', \\'role\\': \\'R. Varadarajan\\'}, {\\'name\\': \\'Geetha Kailasam\\', \\'role\\': \\'Geetha Varadarajan\\'}, {\\'name\\': \\'Gaurav Venkatesh\\', \\'role\\': \\'Sepoy Venkanna\\'}, {\\'name\\': \\'Shreekumar\\', \\'role\\': \\'Michael\\'}, {\\'name\\': \\'Umair Lateef\\', \\'role\\': \\'Waheed\\'}, {\\'name\\': \\'Abhinav Raj\\', \\'role\\': \\'Major Srinath\\'}, {\\'name\\': \\'Vaibhav Murugesan\\', \\'role\\': \\'Vinod\\'}, {\\'name\\': \\'Prayas Mann\\', \\'role\\': \\'Joginder Singh\\'}, {\\'name\\': \\'Hanun Bawra\\', \\'role\\': \\'Abbas Nangroo (Terrorist)\\'}, {\\'name\\': \\'Anbu Thasan\\', \\'role\\': \\'Sepoy\\'}, {\\'name\\': \\'Ajaey Naga Raaman\\', \\'role\\': \\'Rajesh Shukla\\'}, {\\'name\\': \\'Paul T Baby\\', \\'role\\': \\'Andrews\\'}, {\\'name\\': \\'Sugamya Shankar\\', \\'role\\': \"Nithya (Mukund\\'s Sister)\"}, {\\'name\\': \\'Rohan Surya Kanuma Reddy\\', \\'role\\': \\'Rifleman Narasimha Rao\\'}, {\\'name\\': \\'Shrysh Zutshi\\', \\'role\\': \\'Atlaf Baba (Terrorist)\\'}, {\\'name\\': \\'Vikas Bangar\\', \\'role\\': \\'Jyoti Sharma\\'}, {\\'name\\': \\'Rohman Shawl\\', \\'role\\': \\'Asif Wani (Terrorist)\\'}, {\\'name\\': \\'Yasir Arafat Rahim\\', \\'role\\': \\'Yadhav\\'}]'"
      ]
     },
     "execution_count": 123,
     "metadata": {},
     "output_type": "execute_result"
    }
   ],
   "source": [
    "movies['cast'][1]"
   ]
  },
  {
   "cell_type": "code",
   "execution_count": null,
   "metadata": {},
   "outputs": [],
   "source": [
    "import ast\n",
    "\n",
    "def getCast(str_obj):\n",
    "    obj = ast.literal_eval(str_obj)\n",
    "    top3 = 3\n",
    "    cast = []\n",
    "    for i in obj[:top3]:\n",
    "        cast.append(i['name'])\n",
    "\n",
    "    return cast"
   ]
  },
  {
   "cell_type": "code",
   "execution_count": null,
   "metadata": {},
   "outputs": [],
   "source": [
    "movies['cast'] = movies['cast'].apply(getCast)"
   ]
  },
  {
   "cell_type": "code",
   "execution_count": 135,
   "metadata": {},
   "outputs": [
    {
     "data": {
      "text/html": [
       "<div>\n",
       "<style scoped>\n",
       "    .dataframe tbody tr th:only-of-type {\n",
       "        vertical-align: middle;\n",
       "    }\n",
       "\n",
       "    .dataframe tbody tr th {\n",
       "        vertical-align: top;\n",
       "    }\n",
       "\n",
       "    .dataframe thead th {\n",
       "        text-align: right;\n",
       "    }\n",
       "</style>\n",
       "<table border=\"1\" class=\"dataframe\">\n",
       "  <thead>\n",
       "    <tr style=\"text-align: right;\">\n",
       "      <th></th>\n",
       "      <th>id</th>\n",
       "      <th>title</th>\n",
       "      <th>overview</th>\n",
       "      <th>genres</th>\n",
       "      <th>keywords</th>\n",
       "      <th>cast</th>\n",
       "      <th>crew</th>\n",
       "    </tr>\n",
       "  </thead>\n",
       "  <tbody>\n",
       "    <tr>\n",
       "      <th>0</th>\n",
       "      <td>1241982</td>\n",
       "      <td>Moana 2</td>\n",
       "      <td>After receiving an unexpected call from her wa...</td>\n",
       "      <td>[Animation,  Adventure,  Family,  Comedy]</td>\n",
       "      <td>[sea,  ocean,  villain,  musical,  sequel,  du...</td>\n",
       "      <td>[Auliʻi Cravalho, Dwayne Johnson, Hualālai Chung]</td>\n",
       "      <td>[{'name': 'David G. Derrick Jr.', 'department'...</td>\n",
       "    </tr>\n",
       "    <tr>\n",
       "      <th>1</th>\n",
       "      <td>927342</td>\n",
       "      <td>Amaran</td>\n",
       "      <td>A heroic true story of Major Mukund Varadaraja...</td>\n",
       "      <td>[Action,  Drama,  Adventure,  War]</td>\n",
       "      <td>[based on novel or book,  affectation,  based ...</td>\n",
       "      <td>[Sivakarthikeyan, Sai Pallavi, Rahul Bose]</td>\n",
       "      <td>[{'name': 'C. H. Sai', 'department': 'Camera'}...</td>\n",
       "    </tr>\n",
       "    <tr>\n",
       "      <th>2</th>\n",
       "      <td>822119</td>\n",
       "      <td>Captain America: Brave New World</td>\n",
       "      <td>After meeting with newly elected U.S. Presiden...</td>\n",
       "      <td>[Action,  Thriller,  Science Fiction]</td>\n",
       "      <td>[hero,  superhero,  revenge,  blunt,  aftercre...</td>\n",
       "      <td>[Anthony Mackie, Harrison Ford, Danny Ramirez]</td>\n",
       "      <td>[{'name': 'Kevin Feige', 'department': 'Produc...</td>\n",
       "    </tr>\n",
       "    <tr>\n",
       "      <th>3</th>\n",
       "      <td>939243</td>\n",
       "      <td>Sonic the Hedgehog 3</td>\n",
       "      <td>Sonic, Knuckles, and Tails reunite against a p...</td>\n",
       "      <td>[Action,  Science Fiction,  Comedy,  Family]</td>\n",
       "      <td>[moon,  sequel,  based on video game,  burlesq...</td>\n",
       "      <td>[Jim Carrey, Ben Schwartz, Keanu Reeves]</td>\n",
       "      <td>[{'name': 'Neal H. Moritz', 'department': 'Pro...</td>\n",
       "    </tr>\n",
       "    <tr>\n",
       "      <th>4</th>\n",
       "      <td>1160956</td>\n",
       "      <td>Panda Plan</td>\n",
       "      <td>International action star Jackie Chan is invit...</td>\n",
       "      <td>[Action,  Comedy]</td>\n",
       "      <td>[assistant,  zoo,  panda,  superstar,  rescue ...</td>\n",
       "      <td>[Jackie Chan, Shi Ce, Wei Xiang]</td>\n",
       "      <td>[{'name': 'Wei Xu', 'department': 'Writing'}, ...</td>\n",
       "    </tr>\n",
       "    <tr>\n",
       "      <th>...</th>\n",
       "      <td>...</td>\n",
       "      <td>...</td>\n",
       "      <td>...</td>\n",
       "      <td>...</td>\n",
       "      <td>...</td>\n",
       "      <td>...</td>\n",
       "      <td>...</td>\n",
       "    </tr>\n",
       "    <tr>\n",
       "      <th>3896</th>\n",
       "      <td>1080512</td>\n",
       "      <td>Pandemonium</td>\n",
       "      <td>Nathan and Daniel are caught in a road acciden...</td>\n",
       "      <td>[Horror,  Drama]</td>\n",
       "      <td>[visions of hell,  macabre,  horror anthology]</td>\n",
       "      <td>[Arben Bajraktaraj, Ophélia Kolb, Manon Maindi...</td>\n",
       "      <td>[{'name': 'Quarxx', 'department': 'Directing'}...</td>\n",
       "    </tr>\n",
       "    <tr>\n",
       "      <th>3897</th>\n",
       "      <td>901385</td>\n",
       "      <td>Significant Other</td>\n",
       "      <td>Ruth and Harry decide to take a romantic backp...</td>\n",
       "      <td>[Science Fiction,  Thriller,  Horror,  Mystery...</td>\n",
       "      <td>[marriage proposal,  camping,  cliff,  hiking,...</td>\n",
       "      <td>[Maika Monroe, Jake Lacy, Matthew Yang King]</td>\n",
       "      <td>[{'name': 'Matt Mitchell', 'department': 'Came...</td>\n",
       "    </tr>\n",
       "    <tr>\n",
       "      <th>3898</th>\n",
       "      <td>11439</td>\n",
       "      <td>The Ghost Writer</td>\n",
       "      <td>A writer stumbles upon a long-hidden secret wh...</td>\n",
       "      <td>[Thriller,  Mystery]</td>\n",
       "      <td>[london,  england,  central intelligence agenc...</td>\n",
       "      <td>[Ewan McGregor, Pierce Brosnan, Kim Cattrall]</td>\n",
       "      <td>[{'name': 'Robert Harris', 'department': 'Writ...</td>\n",
       "    </tr>\n",
       "    <tr>\n",
       "      <th>3899</th>\n",
       "      <td>526050</td>\n",
       "      <td>Little</td>\n",
       "      <td>Jordan Sanders, a take-no-prisoners tech mogul...</td>\n",
       "      <td>[Comedy,  Fantasy,  Romance]</td>\n",
       "      <td>[friendship,  dreams,  assistant,  business wo...</td>\n",
       "      <td>[Regina Hall, Issa Rae, Marsai Martin]</td>\n",
       "      <td>[{'name': 'Gary Archer', 'department': 'Costum...</td>\n",
       "    </tr>\n",
       "    <tr>\n",
       "      <th>3900</th>\n",
       "      <td>6615</td>\n",
       "      <td>Lars and the Real Girl</td>\n",
       "      <td>Extremely shy Lars finds it impossible to make...</td>\n",
       "      <td>[Comedy,  Drama,  Romance]</td>\n",
       "      <td>[dying and death,  shyness,  wisconsin,  delus...</td>\n",
       "      <td>[Ryan Gosling, Emily Mortimer, Paul Schneider]</td>\n",
       "      <td>[{'name': 'Sarah Aubrey', 'department': 'Produ...</td>\n",
       "    </tr>\n",
       "  </tbody>\n",
       "</table>\n",
       "<p>3866 rows × 7 columns</p>\n",
       "</div>"
      ],
      "text/plain": [
       "           id                             title  \\\n",
       "0     1241982                           Moana 2   \n",
       "1      927342                            Amaran   \n",
       "2      822119  Captain America: Brave New World   \n",
       "3      939243              Sonic the Hedgehog 3   \n",
       "4     1160956                        Panda Plan   \n",
       "...       ...                               ...   \n",
       "3896  1080512                       Pandemonium   \n",
       "3897   901385                 Significant Other   \n",
       "3898    11439                  The Ghost Writer   \n",
       "3899   526050                            Little   \n",
       "3900     6615            Lars and the Real Girl   \n",
       "\n",
       "                                               overview  \\\n",
       "0     After receiving an unexpected call from her wa...   \n",
       "1     A heroic true story of Major Mukund Varadaraja...   \n",
       "2     After meeting with newly elected U.S. Presiden...   \n",
       "3     Sonic, Knuckles, and Tails reunite against a p...   \n",
       "4     International action star Jackie Chan is invit...   \n",
       "...                                                 ...   \n",
       "3896  Nathan and Daniel are caught in a road acciden...   \n",
       "3897  Ruth and Harry decide to take a romantic backp...   \n",
       "3898  A writer stumbles upon a long-hidden secret wh...   \n",
       "3899  Jordan Sanders, a take-no-prisoners tech mogul...   \n",
       "3900  Extremely shy Lars finds it impossible to make...   \n",
       "\n",
       "                                                 genres  \\\n",
       "0             [Animation,  Adventure,  Family,  Comedy]   \n",
       "1                    [Action,  Drama,  Adventure,  War]   \n",
       "2                 [Action,  Thriller,  Science Fiction]   \n",
       "3          [Action,  Science Fiction,  Comedy,  Family]   \n",
       "4                                     [Action,  Comedy]   \n",
       "...                                                 ...   \n",
       "3896                                   [Horror,  Drama]   \n",
       "3897  [Science Fiction,  Thriller,  Horror,  Mystery...   \n",
       "3898                               [Thriller,  Mystery]   \n",
       "3899                       [Comedy,  Fantasy,  Romance]   \n",
       "3900                         [Comedy,  Drama,  Romance]   \n",
       "\n",
       "                                               keywords  \\\n",
       "0     [sea,  ocean,  villain,  musical,  sequel,  du...   \n",
       "1     [based on novel or book,  affectation,  based ...   \n",
       "2     [hero,  superhero,  revenge,  blunt,  aftercre...   \n",
       "3     [moon,  sequel,  based on video game,  burlesq...   \n",
       "4     [assistant,  zoo,  panda,  superstar,  rescue ...   \n",
       "...                                                 ...   \n",
       "3896     [visions of hell,  macabre,  horror anthology]   \n",
       "3897  [marriage proposal,  camping,  cliff,  hiking,...   \n",
       "3898  [london,  england,  central intelligence agenc...   \n",
       "3899  [friendship,  dreams,  assistant,  business wo...   \n",
       "3900  [dying and death,  shyness,  wisconsin,  delus...   \n",
       "\n",
       "                                                   cast  \\\n",
       "0     [Auliʻi Cravalho, Dwayne Johnson, Hualālai Chung]   \n",
       "1            [Sivakarthikeyan, Sai Pallavi, Rahul Bose]   \n",
       "2        [Anthony Mackie, Harrison Ford, Danny Ramirez]   \n",
       "3              [Jim Carrey, Ben Schwartz, Keanu Reeves]   \n",
       "4                      [Jackie Chan, Shi Ce, Wei Xiang]   \n",
       "...                                                 ...   \n",
       "3896  [Arben Bajraktaraj, Ophélia Kolb, Manon Maindi...   \n",
       "3897       [Maika Monroe, Jake Lacy, Matthew Yang King]   \n",
       "3898      [Ewan McGregor, Pierce Brosnan, Kim Cattrall]   \n",
       "3899             [Regina Hall, Issa Rae, Marsai Martin]   \n",
       "3900     [Ryan Gosling, Emily Mortimer, Paul Schneider]   \n",
       "\n",
       "                                                   crew  \n",
       "0     [{'name': 'David G. Derrick Jr.', 'department'...  \n",
       "1     [{'name': 'C. H. Sai', 'department': 'Camera'}...  \n",
       "2     [{'name': 'Kevin Feige', 'department': 'Produc...  \n",
       "3     [{'name': 'Neal H. Moritz', 'department': 'Pro...  \n",
       "4     [{'name': 'Wei Xu', 'department': 'Writing'}, ...  \n",
       "...                                                 ...  \n",
       "3896  [{'name': 'Quarxx', 'department': 'Directing'}...  \n",
       "3897  [{'name': 'Matt Mitchell', 'department': 'Came...  \n",
       "3898  [{'name': 'Robert Harris', 'department': 'Writ...  \n",
       "3899  [{'name': 'Gary Archer', 'department': 'Costum...  \n",
       "3900  [{'name': 'Sarah Aubrey', 'department': 'Produ...  \n",
       "\n",
       "[3866 rows x 7 columns]"
      ]
     },
     "execution_count": 135,
     "metadata": {},
     "output_type": "execute_result"
    }
   ],
   "source": [
    "movies"
   ]
  },
  {
   "cell_type": "code",
   "execution_count": 140,
   "metadata": {},
   "outputs": [
    {
     "name": "stdout",
     "output_type": "stream",
     "text": [
      "David G. Derrick Jr.\n",
      "Jason Hand\n",
      "Dana Ledoux Miller\n"
     ]
    }
   ],
   "source": [
    "str_obj  =  ast.literal_eval(movies['crew'][0])\n",
    "\n",
    "obj =str_obj\n",
    "\n",
    "obj\n",
    "\n",
    "for role in obj:\n",
    "    if role['department'] == 'Directing':\n",
    "        print(role['name'])\n"
   ]
  },
  {
   "cell_type": "code",
   "execution_count": 144,
   "metadata": {},
   "outputs": [],
   "source": [
    "def getDirector(str_obj):\n",
    "    obj = ast.literal_eval(str_obj)\n",
    "    director = []\n",
    "    for role in obj:\n",
    "        if role['department'] == 'Directing':\n",
    "            director.append(role['name'])\n",
    "    \n",
    "    return director\n"
   ]
  },
  {
   "cell_type": "code",
   "execution_count": 145,
   "metadata": {},
   "outputs": [],
   "source": [
    "movies['director'] = movies['crew'].apply(getDirector)"
   ]
  },
  {
   "cell_type": "code",
   "execution_count": 148,
   "metadata": {},
   "outputs": [
    {
     "data": {
      "text/html": [
       "<div>\n",
       "<style scoped>\n",
       "    .dataframe tbody tr th:only-of-type {\n",
       "        vertical-align: middle;\n",
       "    }\n",
       "\n",
       "    .dataframe tbody tr th {\n",
       "        vertical-align: top;\n",
       "    }\n",
       "\n",
       "    .dataframe thead th {\n",
       "        text-align: right;\n",
       "    }\n",
       "</style>\n",
       "<table border=\"1\" class=\"dataframe\">\n",
       "  <thead>\n",
       "    <tr style=\"text-align: right;\">\n",
       "      <th></th>\n",
       "      <th>id</th>\n",
       "      <th>title</th>\n",
       "      <th>overview</th>\n",
       "      <th>genres</th>\n",
       "      <th>keywords</th>\n",
       "      <th>cast</th>\n",
       "      <th>crew</th>\n",
       "      <th>director</th>\n",
       "    </tr>\n",
       "  </thead>\n",
       "  <tbody>\n",
       "    <tr>\n",
       "      <th>104</th>\n",
       "      <td>155</td>\n",
       "      <td>The Dark Knight</td>\n",
       "      <td>Batman raises the stakes in his war on crime. ...</td>\n",
       "      <td>[Drama,  Action,  Crime,  Thriller]</td>\n",
       "      <td>[joker,  sadism,  chaos,  secret identity,  cr...</td>\n",
       "      <td>[Christian Bale, Heath Ledger, Aaron Eckhart]</td>\n",
       "      <td>[{'name': 'Lee Smith', 'department': 'Editing'...</td>\n",
       "      <td>[Steve Gehrke, Brandon Lambdin, Nilo Otero, Ch...</td>\n",
       "    </tr>\n",
       "  </tbody>\n",
       "</table>\n",
       "</div>"
      ],
      "text/plain": [
       "      id            title                                           overview  \\\n",
       "104  155  The Dark Knight  Batman raises the stakes in his war on crime. ...   \n",
       "\n",
       "                                  genres  \\\n",
       "104  [Drama,  Action,  Crime,  Thriller]   \n",
       "\n",
       "                                              keywords  \\\n",
       "104  [joker,  sadism,  chaos,  secret identity,  cr...   \n",
       "\n",
       "                                              cast  \\\n",
       "104  [Christian Bale, Heath Ledger, Aaron Eckhart]   \n",
       "\n",
       "                                                  crew  \\\n",
       "104  [{'name': 'Lee Smith', 'department': 'Editing'...   \n",
       "\n",
       "                                              director  \n",
       "104  [Steve Gehrke, Brandon Lambdin, Nilo Otero, Ch...  "
      ]
     },
     "execution_count": 148,
     "metadata": {},
     "output_type": "execute_result"
    }
   ],
   "source": [
    "movies[movies['title'] == 'The Dark Knight']"
   ]
  },
  {
   "cell_type": "code",
   "execution_count": 151,
   "metadata": {},
   "outputs": [],
   "source": [
    "movies.drop('crew', axis = 1, inplace = True)"
   ]
  },
  {
   "cell_type": "code",
   "execution_count": 152,
   "metadata": {},
   "outputs": [
    {
     "data": {
      "text/html": [
       "<div>\n",
       "<style scoped>\n",
       "    .dataframe tbody tr th:only-of-type {\n",
       "        vertical-align: middle;\n",
       "    }\n",
       "\n",
       "    .dataframe tbody tr th {\n",
       "        vertical-align: top;\n",
       "    }\n",
       "\n",
       "    .dataframe thead th {\n",
       "        text-align: right;\n",
       "    }\n",
       "</style>\n",
       "<table border=\"1\" class=\"dataframe\">\n",
       "  <thead>\n",
       "    <tr style=\"text-align: right;\">\n",
       "      <th></th>\n",
       "      <th>id</th>\n",
       "      <th>title</th>\n",
       "      <th>overview</th>\n",
       "      <th>genres</th>\n",
       "      <th>keywords</th>\n",
       "      <th>cast</th>\n",
       "      <th>director</th>\n",
       "    </tr>\n",
       "  </thead>\n",
       "  <tbody>\n",
       "    <tr>\n",
       "      <th>0</th>\n",
       "      <td>1241982</td>\n",
       "      <td>Moana 2</td>\n",
       "      <td>After receiving an unexpected call from her wa...</td>\n",
       "      <td>[Animation,  Adventure,  Family,  Comedy]</td>\n",
       "      <td>[sea,  ocean,  villain,  musical,  sequel,  du...</td>\n",
       "      <td>[Auliʻi Cravalho, Dwayne Johnson, Hualālai Chung]</td>\n",
       "      <td>[David G. Derrick Jr., Jason Hand, Dana Ledoux...</td>\n",
       "    </tr>\n",
       "    <tr>\n",
       "      <th>1</th>\n",
       "      <td>927342</td>\n",
       "      <td>Amaran</td>\n",
       "      <td>A heroic true story of Major Mukund Varadaraja...</td>\n",
       "      <td>[Action,  Drama,  Adventure,  War]</td>\n",
       "      <td>[based on novel or book,  affectation,  based ...</td>\n",
       "      <td>[Sivakarthikeyan, Sai Pallavi, Rahul Bose]</td>\n",
       "      <td>[Rajkumar Periasamy]</td>\n",
       "    </tr>\n",
       "    <tr>\n",
       "      <th>2</th>\n",
       "      <td>822119</td>\n",
       "      <td>Captain America: Brave New World</td>\n",
       "      <td>After meeting with newly elected U.S. Presiden...</td>\n",
       "      <td>[Action,  Thriller,  Science Fiction]</td>\n",
       "      <td>[hero,  superhero,  revenge,  blunt,  aftercre...</td>\n",
       "      <td>[Anthony Mackie, Harrison Ford, Danny Ramirez]</td>\n",
       "      <td>[Julius Onah, Michele Panelli-Venetis, Robert ...</td>\n",
       "    </tr>\n",
       "    <tr>\n",
       "      <th>3</th>\n",
       "      <td>939243</td>\n",
       "      <td>Sonic the Hedgehog 3</td>\n",
       "      <td>Sonic, Knuckles, and Tails reunite against a p...</td>\n",
       "      <td>[Action,  Science Fiction,  Comedy,  Family]</td>\n",
       "      <td>[moon,  sequel,  based on video game,  burlesq...</td>\n",
       "      <td>[Jim Carrey, Ben Schwartz, Keanu Reeves]</td>\n",
       "      <td>[Jeff Fowler, Joey Coughlin, Peter Lyons Colli...</td>\n",
       "    </tr>\n",
       "    <tr>\n",
       "      <th>4</th>\n",
       "      <td>1160956</td>\n",
       "      <td>Panda Plan</td>\n",
       "      <td>International action star Jackie Chan is invit...</td>\n",
       "      <td>[Action,  Comedy]</td>\n",
       "      <td>[assistant,  zoo,  panda,  superstar,  rescue ...</td>\n",
       "      <td>[Jackie Chan, Shi Ce, Wei Xiang]</td>\n",
       "      <td>[Zhang Luan]</td>\n",
       "    </tr>\n",
       "    <tr>\n",
       "      <th>...</th>\n",
       "      <td>...</td>\n",
       "      <td>...</td>\n",
       "      <td>...</td>\n",
       "      <td>...</td>\n",
       "      <td>...</td>\n",
       "      <td>...</td>\n",
       "      <td>...</td>\n",
       "    </tr>\n",
       "    <tr>\n",
       "      <th>3896</th>\n",
       "      <td>1080512</td>\n",
       "      <td>Pandemonium</td>\n",
       "      <td>Nathan and Daniel are caught in a road acciden...</td>\n",
       "      <td>[Horror,  Drama]</td>\n",
       "      <td>[visions of hell,  macabre,  horror anthology]</td>\n",
       "      <td>[Arben Bajraktaraj, Ophélia Kolb, Manon Maindi...</td>\n",
       "      <td>[Quarxx]</td>\n",
       "    </tr>\n",
       "    <tr>\n",
       "      <th>3897</th>\n",
       "      <td>901385</td>\n",
       "      <td>Significant Other</td>\n",
       "      <td>Ruth and Harry decide to take a romantic backp...</td>\n",
       "      <td>[Science Fiction,  Thriller,  Horror,  Mystery...</td>\n",
       "      <td>[marriage proposal,  camping,  cliff,  hiking,...</td>\n",
       "      <td>[Maika Monroe, Jake Lacy, Matthew Yang King]</td>\n",
       "      <td>[Robert Olsen, Dan Berk, Kevin Brown, Amanda B...</td>\n",
       "    </tr>\n",
       "    <tr>\n",
       "      <th>3898</th>\n",
       "      <td>11439</td>\n",
       "      <td>The Ghost Writer</td>\n",
       "      <td>A writer stumbles upon a long-hidden secret wh...</td>\n",
       "      <td>[Thriller,  Mystery]</td>\n",
       "      <td>[london,  england,  central intelligence agenc...</td>\n",
       "      <td>[Ewan McGregor, Pierce Brosnan, Kim Cattrall]</td>\n",
       "      <td>[Roman Polanski, Sylvette Baudrot, Anna Zenowi...</td>\n",
       "    </tr>\n",
       "    <tr>\n",
       "      <th>3899</th>\n",
       "      <td>526050</td>\n",
       "      <td>Little</td>\n",
       "      <td>Jordan Sanders, a take-no-prisoners tech mogul...</td>\n",
       "      <td>[Comedy,  Fantasy,  Romance]</td>\n",
       "      <td>[friendship,  dreams,  assistant,  business wo...</td>\n",
       "      <td>[Regina Hall, Issa Rae, Marsai Martin]</td>\n",
       "      <td>[Tina Gordon]</td>\n",
       "    </tr>\n",
       "    <tr>\n",
       "      <th>3900</th>\n",
       "      <td>6615</td>\n",
       "      <td>Lars and the Real Girl</td>\n",
       "      <td>Extremely shy Lars finds it impossible to make...</td>\n",
       "      <td>[Comedy,  Drama,  Romance]</td>\n",
       "      <td>[dying and death,  shyness,  wisconsin,  delus...</td>\n",
       "      <td>[Ryan Gosling, Emily Mortimer, Paul Schneider]</td>\n",
       "      <td>[Craig Gillespie, Tim Singh, Libby Hodgson, Pa...</td>\n",
       "    </tr>\n",
       "  </tbody>\n",
       "</table>\n",
       "<p>3866 rows × 7 columns</p>\n",
       "</div>"
      ],
      "text/plain": [
       "           id                             title  \\\n",
       "0     1241982                           Moana 2   \n",
       "1      927342                            Amaran   \n",
       "2      822119  Captain America: Brave New World   \n",
       "3      939243              Sonic the Hedgehog 3   \n",
       "4     1160956                        Panda Plan   \n",
       "...       ...                               ...   \n",
       "3896  1080512                       Pandemonium   \n",
       "3897   901385                 Significant Other   \n",
       "3898    11439                  The Ghost Writer   \n",
       "3899   526050                            Little   \n",
       "3900     6615            Lars and the Real Girl   \n",
       "\n",
       "                                               overview  \\\n",
       "0     After receiving an unexpected call from her wa...   \n",
       "1     A heroic true story of Major Mukund Varadaraja...   \n",
       "2     After meeting with newly elected U.S. Presiden...   \n",
       "3     Sonic, Knuckles, and Tails reunite against a p...   \n",
       "4     International action star Jackie Chan is invit...   \n",
       "...                                                 ...   \n",
       "3896  Nathan and Daniel are caught in a road acciden...   \n",
       "3897  Ruth and Harry decide to take a romantic backp...   \n",
       "3898  A writer stumbles upon a long-hidden secret wh...   \n",
       "3899  Jordan Sanders, a take-no-prisoners tech mogul...   \n",
       "3900  Extremely shy Lars finds it impossible to make...   \n",
       "\n",
       "                                                 genres  \\\n",
       "0             [Animation,  Adventure,  Family,  Comedy]   \n",
       "1                    [Action,  Drama,  Adventure,  War]   \n",
       "2                 [Action,  Thriller,  Science Fiction]   \n",
       "3          [Action,  Science Fiction,  Comedy,  Family]   \n",
       "4                                     [Action,  Comedy]   \n",
       "...                                                 ...   \n",
       "3896                                   [Horror,  Drama]   \n",
       "3897  [Science Fiction,  Thriller,  Horror,  Mystery...   \n",
       "3898                               [Thriller,  Mystery]   \n",
       "3899                       [Comedy,  Fantasy,  Romance]   \n",
       "3900                         [Comedy,  Drama,  Romance]   \n",
       "\n",
       "                                               keywords  \\\n",
       "0     [sea,  ocean,  villain,  musical,  sequel,  du...   \n",
       "1     [based on novel or book,  affectation,  based ...   \n",
       "2     [hero,  superhero,  revenge,  blunt,  aftercre...   \n",
       "3     [moon,  sequel,  based on video game,  burlesq...   \n",
       "4     [assistant,  zoo,  panda,  superstar,  rescue ...   \n",
       "...                                                 ...   \n",
       "3896     [visions of hell,  macabre,  horror anthology]   \n",
       "3897  [marriage proposal,  camping,  cliff,  hiking,...   \n",
       "3898  [london,  england,  central intelligence agenc...   \n",
       "3899  [friendship,  dreams,  assistant,  business wo...   \n",
       "3900  [dying and death,  shyness,  wisconsin,  delus...   \n",
       "\n",
       "                                                   cast  \\\n",
       "0     [Auliʻi Cravalho, Dwayne Johnson, Hualālai Chung]   \n",
       "1            [Sivakarthikeyan, Sai Pallavi, Rahul Bose]   \n",
       "2        [Anthony Mackie, Harrison Ford, Danny Ramirez]   \n",
       "3              [Jim Carrey, Ben Schwartz, Keanu Reeves]   \n",
       "4                      [Jackie Chan, Shi Ce, Wei Xiang]   \n",
       "...                                                 ...   \n",
       "3896  [Arben Bajraktaraj, Ophélia Kolb, Manon Maindi...   \n",
       "3897       [Maika Monroe, Jake Lacy, Matthew Yang King]   \n",
       "3898      [Ewan McGregor, Pierce Brosnan, Kim Cattrall]   \n",
       "3899             [Regina Hall, Issa Rae, Marsai Martin]   \n",
       "3900     [Ryan Gosling, Emily Mortimer, Paul Schneider]   \n",
       "\n",
       "                                               director  \n",
       "0     [David G. Derrick Jr., Jason Hand, Dana Ledoux...  \n",
       "1                                  [Rajkumar Periasamy]  \n",
       "2     [Julius Onah, Michele Panelli-Venetis, Robert ...  \n",
       "3     [Jeff Fowler, Joey Coughlin, Peter Lyons Colli...  \n",
       "4                                          [Zhang Luan]  \n",
       "...                                                 ...  \n",
       "3896                                           [Quarxx]  \n",
       "3897  [Robert Olsen, Dan Berk, Kevin Brown, Amanda B...  \n",
       "3898  [Roman Polanski, Sylvette Baudrot, Anna Zenowi...  \n",
       "3899                                      [Tina Gordon]  \n",
       "3900  [Craig Gillespie, Tim Singh, Libby Hodgson, Pa...  \n",
       "\n",
       "[3866 rows x 7 columns]"
      ]
     },
     "execution_count": 152,
     "metadata": {},
     "output_type": "execute_result"
    }
   ],
   "source": [
    "movies"
   ]
  },
  {
   "cell_type": "code",
   "execution_count": 154,
   "metadata": {},
   "outputs": [],
   "source": [
    "movies['overview'] = movies['overview'].apply(lambda x : x.split())"
   ]
  },
  {
   "cell_type": "code",
   "execution_count": 160,
   "metadata": {},
   "outputs": [
    {
     "data": {
      "text/html": [
       "<div>\n",
       "<style scoped>\n",
       "    .dataframe tbody tr th:only-of-type {\n",
       "        vertical-align: middle;\n",
       "    }\n",
       "\n",
       "    .dataframe tbody tr th {\n",
       "        vertical-align: top;\n",
       "    }\n",
       "\n",
       "    .dataframe thead th {\n",
       "        text-align: right;\n",
       "    }\n",
       "</style>\n",
       "<table border=\"1\" class=\"dataframe\">\n",
       "  <thead>\n",
       "    <tr style=\"text-align: right;\">\n",
       "      <th></th>\n",
       "      <th>id</th>\n",
       "      <th>title</th>\n",
       "      <th>overview</th>\n",
       "      <th>genres</th>\n",
       "      <th>keywords</th>\n",
       "      <th>cast</th>\n",
       "      <th>director</th>\n",
       "    </tr>\n",
       "  </thead>\n",
       "  <tbody>\n",
       "    <tr>\n",
       "      <th>1910</th>\n",
       "      <td>774752</td>\n",
       "      <td>The Guardians of the Galaxy Holiday Special</td>\n",
       "      <td>[On, a, mission, to, make, Christmas, unforget...</td>\n",
       "      <td>[Comedy,  Science Fiction,  Adventure]</td>\n",
       "      <td>[holiday,  superhero,  celebrity,  saving chri...</td>\n",
       "      <td>[Chris Pratt, Dave Bautista, Karen Gillan]</td>\n",
       "      <td>[Amir R. Khan, Lars P. Winther, Arielle DePace...</td>\n",
       "    </tr>\n",
       "  </tbody>\n",
       "</table>\n",
       "</div>"
      ],
      "text/plain": [
       "          id                                        title  \\\n",
       "1910  774752  The Guardians of the Galaxy Holiday Special   \n",
       "\n",
       "                                               overview  \\\n",
       "1910  [On, a, mission, to, make, Christmas, unforget...   \n",
       "\n",
       "                                      genres  \\\n",
       "1910  [Comedy,  Science Fiction,  Adventure]   \n",
       "\n",
       "                                               keywords  \\\n",
       "1910  [holiday,  superhero,  celebrity,  saving chri...   \n",
       "\n",
       "                                            cast  \\\n",
       "1910  [Chris Pratt, Dave Bautista, Karen Gillan]   \n",
       "\n",
       "                                               director  \n",
       "1910  [Amir R. Khan, Lars P. Winther, Arielle DePace...  "
      ]
     },
     "execution_count": 160,
     "metadata": {},
     "output_type": "execute_result"
    }
   ],
   "source": [
    "movies.sample()"
   ]
  },
  {
   "cell_type": "code",
   "execution_count": 158,
   "metadata": {},
   "outputs": [
    {
     "data": {
      "text/plain": [
       "['LoganLerman', 'EmmaWatson', 'EzraMiller']"
      ]
     },
     "execution_count": 158,
     "metadata": {},
     "output_type": "execute_result"
    }
   ],
   "source": [
    "cast = ['Logan Lerman', 'Emma Watson', 'Ezra Miller']\n",
    "\n",
    "new_cast = [name.replace(\" \",\"\") for name in cast]\n",
    "new_cast\n"
   ]
  },
  {
   "cell_type": "code",
   "execution_count": 168,
   "metadata": {},
   "outputs": [
    {
     "data": {
      "text/plain": [
       "Index(['genres', 'keywords', 'cast', 'director'], dtype='object')"
      ]
     },
     "execution_count": 168,
     "metadata": {},
     "output_type": "execute_result"
    }
   ],
   "source": [
    "cols = movies.columns[3:]\n",
    "cols"
   ]
  },
  {
   "cell_type": "code",
   "execution_count": 166,
   "metadata": {},
   "outputs": [],
   "source": [
    "for col_name in cols:\n",
    "    movies[col_name] = movies[col_name].apply(lambda cast : [name.replace(' ', '') for name in cast])"
   ]
  },
  {
   "cell_type": "code",
   "execution_count": 167,
   "metadata": {},
   "outputs": [
    {
     "data": {
      "text/html": [
       "<div>\n",
       "<style scoped>\n",
       "    .dataframe tbody tr th:only-of-type {\n",
       "        vertical-align: middle;\n",
       "    }\n",
       "\n",
       "    .dataframe tbody tr th {\n",
       "        vertical-align: top;\n",
       "    }\n",
       "\n",
       "    .dataframe thead th {\n",
       "        text-align: right;\n",
       "    }\n",
       "</style>\n",
       "<table border=\"1\" class=\"dataframe\">\n",
       "  <thead>\n",
       "    <tr style=\"text-align: right;\">\n",
       "      <th></th>\n",
       "      <th>id</th>\n",
       "      <th>title</th>\n",
       "      <th>overview</th>\n",
       "      <th>genres</th>\n",
       "      <th>keywords</th>\n",
       "      <th>cast</th>\n",
       "      <th>director</th>\n",
       "    </tr>\n",
       "  </thead>\n",
       "  <tbody>\n",
       "    <tr>\n",
       "      <th>0</th>\n",
       "      <td>1241982</td>\n",
       "      <td>Moana 2</td>\n",
       "      <td>[After, receiving, an, unexpected, call, from,...</td>\n",
       "      <td>[Animation, Adventure, Family, Comedy]</td>\n",
       "      <td>[sea, ocean, villain, musical, sequel, duringc...</td>\n",
       "      <td>[AuliʻiCravalho, DwayneJohnson, HualālaiChung]</td>\n",
       "      <td>[DavidG.DerrickJr., JasonHand, DanaLedouxMiller]</td>\n",
       "    </tr>\n",
       "    <tr>\n",
       "      <th>1</th>\n",
       "      <td>927342</td>\n",
       "      <td>Amaran</td>\n",
       "      <td>[A, heroic, true, story, of, Major, Mukund, Va...</td>\n",
       "      <td>[Action, Drama, Adventure, War]</td>\n",
       "      <td>[basedonnovelorbook, affectation, basedontrues...</td>\n",
       "      <td>[Sivakarthikeyan, SaiPallavi, RahulBose]</td>\n",
       "      <td>[RajkumarPeriasamy]</td>\n",
       "    </tr>\n",
       "    <tr>\n",
       "      <th>2</th>\n",
       "      <td>822119</td>\n",
       "      <td>Captain America: Brave New World</td>\n",
       "      <td>[After, meeting, with, newly, elected, U.S., P...</td>\n",
       "      <td>[Action, Thriller, ScienceFiction]</td>\n",
       "      <td>[hero, superhero, revenge, blunt, aftercredits...</td>\n",
       "      <td>[AnthonyMackie, HarrisonFord, DannyRamirez]</td>\n",
       "      <td>[JuliusOnah, MichelePanelli-Venetis, RobertAlo...</td>\n",
       "    </tr>\n",
       "    <tr>\n",
       "      <th>3</th>\n",
       "      <td>939243</td>\n",
       "      <td>Sonic the Hedgehog 3</td>\n",
       "      <td>[Sonic,, Knuckles,, and, Tails, reunite, again...</td>\n",
       "      <td>[Action, ScienceFiction, Comedy, Family]</td>\n",
       "      <td>[moon, sequel, basedonvideogame, burlesque, du...</td>\n",
       "      <td>[JimCarrey, BenSchwartz, KeanuReeves]</td>\n",
       "      <td>[JeffFowler, JoeyCoughlin, PeterLyonsCollister...</td>\n",
       "    </tr>\n",
       "    <tr>\n",
       "      <th>4</th>\n",
       "      <td>1160956</td>\n",
       "      <td>Panda Plan</td>\n",
       "      <td>[International, action, star, Jackie, Chan, is...</td>\n",
       "      <td>[Action, Comedy]</td>\n",
       "      <td>[assistant, zoo, panda, superstar, rescueopera...</td>\n",
       "      <td>[JackieChan, ShiCe, WeiXiang]</td>\n",
       "      <td>[ZhangLuan]</td>\n",
       "    </tr>\n",
       "  </tbody>\n",
       "</table>\n",
       "</div>"
      ],
      "text/plain": [
       "        id                             title  \\\n",
       "0  1241982                           Moana 2   \n",
       "1   927342                            Amaran   \n",
       "2   822119  Captain America: Brave New World   \n",
       "3   939243              Sonic the Hedgehog 3   \n",
       "4  1160956                        Panda Plan   \n",
       "\n",
       "                                            overview  \\\n",
       "0  [After, receiving, an, unexpected, call, from,...   \n",
       "1  [A, heroic, true, story, of, Major, Mukund, Va...   \n",
       "2  [After, meeting, with, newly, elected, U.S., P...   \n",
       "3  [Sonic,, Knuckles,, and, Tails, reunite, again...   \n",
       "4  [International, action, star, Jackie, Chan, is...   \n",
       "\n",
       "                                     genres  \\\n",
       "0    [Animation, Adventure, Family, Comedy]   \n",
       "1           [Action, Drama, Adventure, War]   \n",
       "2        [Action, Thriller, ScienceFiction]   \n",
       "3  [Action, ScienceFiction, Comedy, Family]   \n",
       "4                          [Action, Comedy]   \n",
       "\n",
       "                                            keywords  \\\n",
       "0  [sea, ocean, villain, musical, sequel, duringc...   \n",
       "1  [basedonnovelorbook, affectation, basedontrues...   \n",
       "2  [hero, superhero, revenge, blunt, aftercredits...   \n",
       "3  [moon, sequel, basedonvideogame, burlesque, du...   \n",
       "4  [assistant, zoo, panda, superstar, rescueopera...   \n",
       "\n",
       "                                             cast  \\\n",
       "0  [AuliʻiCravalho, DwayneJohnson, HualālaiChung]   \n",
       "1        [Sivakarthikeyan, SaiPallavi, RahulBose]   \n",
       "2     [AnthonyMackie, HarrisonFord, DannyRamirez]   \n",
       "3           [JimCarrey, BenSchwartz, KeanuReeves]   \n",
       "4                   [JackieChan, ShiCe, WeiXiang]   \n",
       "\n",
       "                                            director  \n",
       "0   [DavidG.DerrickJr., JasonHand, DanaLedouxMiller]  \n",
       "1                                [RajkumarPeriasamy]  \n",
       "2  [JuliusOnah, MichelePanelli-Venetis, RobertAlo...  \n",
       "3  [JeffFowler, JoeyCoughlin, PeterLyonsCollister...  \n",
       "4                                        [ZhangLuan]  "
      ]
     },
     "execution_count": 167,
     "metadata": {},
     "output_type": "execute_result"
    }
   ],
   "source": [
    "movies.head()"
   ]
  },
  {
   "cell_type": "code",
   "execution_count": 169,
   "metadata": {},
   "outputs": [],
   "source": [
    "movies['tags'] = movies['overview']"
   ]
  },
  {
   "cell_type": "code",
   "execution_count": 170,
   "metadata": {},
   "outputs": [
    {
     "data": {
      "text/html": [
       "<div>\n",
       "<style scoped>\n",
       "    .dataframe tbody tr th:only-of-type {\n",
       "        vertical-align: middle;\n",
       "    }\n",
       "\n",
       "    .dataframe tbody tr th {\n",
       "        vertical-align: top;\n",
       "    }\n",
       "\n",
       "    .dataframe thead th {\n",
       "        text-align: right;\n",
       "    }\n",
       "</style>\n",
       "<table border=\"1\" class=\"dataframe\">\n",
       "  <thead>\n",
       "    <tr style=\"text-align: right;\">\n",
       "      <th></th>\n",
       "      <th>id</th>\n",
       "      <th>title</th>\n",
       "      <th>overview</th>\n",
       "      <th>genres</th>\n",
       "      <th>keywords</th>\n",
       "      <th>cast</th>\n",
       "      <th>director</th>\n",
       "      <th>tags</th>\n",
       "    </tr>\n",
       "  </thead>\n",
       "  <tbody>\n",
       "    <tr>\n",
       "      <th>0</th>\n",
       "      <td>1241982</td>\n",
       "      <td>Moana 2</td>\n",
       "      <td>[After, receiving, an, unexpected, call, from,...</td>\n",
       "      <td>[Animation, Adventure, Family, Comedy]</td>\n",
       "      <td>[sea, ocean, villain, musical, sequel, duringc...</td>\n",
       "      <td>[AuliʻiCravalho, DwayneJohnson, HualālaiChung]</td>\n",
       "      <td>[DavidG.DerrickJr., JasonHand, DanaLedouxMiller]</td>\n",
       "      <td>[After, receiving, an, unexpected, call, from,...</td>\n",
       "    </tr>\n",
       "    <tr>\n",
       "      <th>1</th>\n",
       "      <td>927342</td>\n",
       "      <td>Amaran</td>\n",
       "      <td>[A, heroic, true, story, of, Major, Mukund, Va...</td>\n",
       "      <td>[Action, Drama, Adventure, War]</td>\n",
       "      <td>[basedonnovelorbook, affectation, basedontrues...</td>\n",
       "      <td>[Sivakarthikeyan, SaiPallavi, RahulBose]</td>\n",
       "      <td>[RajkumarPeriasamy]</td>\n",
       "      <td>[A, heroic, true, story, of, Major, Mukund, Va...</td>\n",
       "    </tr>\n",
       "    <tr>\n",
       "      <th>2</th>\n",
       "      <td>822119</td>\n",
       "      <td>Captain America: Brave New World</td>\n",
       "      <td>[After, meeting, with, newly, elected, U.S., P...</td>\n",
       "      <td>[Action, Thriller, ScienceFiction]</td>\n",
       "      <td>[hero, superhero, revenge, blunt, aftercredits...</td>\n",
       "      <td>[AnthonyMackie, HarrisonFord, DannyRamirez]</td>\n",
       "      <td>[JuliusOnah, MichelePanelli-Venetis, RobertAlo...</td>\n",
       "      <td>[After, meeting, with, newly, elected, U.S., P...</td>\n",
       "    </tr>\n",
       "    <tr>\n",
       "      <th>3</th>\n",
       "      <td>939243</td>\n",
       "      <td>Sonic the Hedgehog 3</td>\n",
       "      <td>[Sonic,, Knuckles,, and, Tails, reunite, again...</td>\n",
       "      <td>[Action, ScienceFiction, Comedy, Family]</td>\n",
       "      <td>[moon, sequel, basedonvideogame, burlesque, du...</td>\n",
       "      <td>[JimCarrey, BenSchwartz, KeanuReeves]</td>\n",
       "      <td>[JeffFowler, JoeyCoughlin, PeterLyonsCollister...</td>\n",
       "      <td>[Sonic,, Knuckles,, and, Tails, reunite, again...</td>\n",
       "    </tr>\n",
       "    <tr>\n",
       "      <th>4</th>\n",
       "      <td>1160956</td>\n",
       "      <td>Panda Plan</td>\n",
       "      <td>[International, action, star, Jackie, Chan, is...</td>\n",
       "      <td>[Action, Comedy]</td>\n",
       "      <td>[assistant, zoo, panda, superstar, rescueopera...</td>\n",
       "      <td>[JackieChan, ShiCe, WeiXiang]</td>\n",
       "      <td>[ZhangLuan]</td>\n",
       "      <td>[International, action, star, Jackie, Chan, is...</td>\n",
       "    </tr>\n",
       "  </tbody>\n",
       "</table>\n",
       "</div>"
      ],
      "text/plain": [
       "        id                             title  \\\n",
       "0  1241982                           Moana 2   \n",
       "1   927342                            Amaran   \n",
       "2   822119  Captain America: Brave New World   \n",
       "3   939243              Sonic the Hedgehog 3   \n",
       "4  1160956                        Panda Plan   \n",
       "\n",
       "                                            overview  \\\n",
       "0  [After, receiving, an, unexpected, call, from,...   \n",
       "1  [A, heroic, true, story, of, Major, Mukund, Va...   \n",
       "2  [After, meeting, with, newly, elected, U.S., P...   \n",
       "3  [Sonic,, Knuckles,, and, Tails, reunite, again...   \n",
       "4  [International, action, star, Jackie, Chan, is...   \n",
       "\n",
       "                                     genres  \\\n",
       "0    [Animation, Adventure, Family, Comedy]   \n",
       "1           [Action, Drama, Adventure, War]   \n",
       "2        [Action, Thriller, ScienceFiction]   \n",
       "3  [Action, ScienceFiction, Comedy, Family]   \n",
       "4                          [Action, Comedy]   \n",
       "\n",
       "                                            keywords  \\\n",
       "0  [sea, ocean, villain, musical, sequel, duringc...   \n",
       "1  [basedonnovelorbook, affectation, basedontrues...   \n",
       "2  [hero, superhero, revenge, blunt, aftercredits...   \n",
       "3  [moon, sequel, basedonvideogame, burlesque, du...   \n",
       "4  [assistant, zoo, panda, superstar, rescueopera...   \n",
       "\n",
       "                                             cast  \\\n",
       "0  [AuliʻiCravalho, DwayneJohnson, HualālaiChung]   \n",
       "1        [Sivakarthikeyan, SaiPallavi, RahulBose]   \n",
       "2     [AnthonyMackie, HarrisonFord, DannyRamirez]   \n",
       "3           [JimCarrey, BenSchwartz, KeanuReeves]   \n",
       "4                   [JackieChan, ShiCe, WeiXiang]   \n",
       "\n",
       "                                            director  \\\n",
       "0   [DavidG.DerrickJr., JasonHand, DanaLedouxMiller]   \n",
       "1                                [RajkumarPeriasamy]   \n",
       "2  [JuliusOnah, MichelePanelli-Venetis, RobertAlo...   \n",
       "3  [JeffFowler, JoeyCoughlin, PeterLyonsCollister...   \n",
       "4                                        [ZhangLuan]   \n",
       "\n",
       "                                                tags  \n",
       "0  [After, receiving, an, unexpected, call, from,...  \n",
       "1  [A, heroic, true, story, of, Major, Mukund, Va...  \n",
       "2  [After, meeting, with, newly, elected, U.S., P...  \n",
       "3  [Sonic,, Knuckles,, and, Tails, reunite, again...  \n",
       "4  [International, action, star, Jackie, Chan, is...  "
      ]
     },
     "execution_count": 170,
     "metadata": {},
     "output_type": "execute_result"
    }
   ],
   "source": [
    "movies.head()"
   ]
  },
  {
   "cell_type": "code",
   "execution_count": 171,
   "metadata": {},
   "outputs": [],
   "source": [
    "for col in cols:\n",
    "    movies['tags'] += movies[col]"
   ]
  },
  {
   "cell_type": "code",
   "execution_count": 173,
   "metadata": {},
   "outputs": [
    {
     "data": {
      "text/plain": [
       "['After',\n",
       " 'receiving',\n",
       " 'an',\n",
       " 'unexpected',\n",
       " 'call',\n",
       " 'from',\n",
       " 'her',\n",
       " 'wayfinding',\n",
       " 'ancestors,',\n",
       " 'Moana',\n",
       " 'journeys',\n",
       " 'alongside',\n",
       " 'Maui',\n",
       " 'and',\n",
       " 'a',\n",
       " 'new',\n",
       " 'crew',\n",
       " 'to',\n",
       " 'the',\n",
       " 'far',\n",
       " 'seas',\n",
       " 'of',\n",
       " 'Oceania',\n",
       " 'and',\n",
       " 'into',\n",
       " 'dangerous,',\n",
       " 'long-lost',\n",
       " 'waters',\n",
       " 'for',\n",
       " 'an',\n",
       " 'adventure',\n",
       " 'unlike',\n",
       " 'anything',\n",
       " \"she's\",\n",
       " 'ever',\n",
       " 'faced.',\n",
       " 'Animation',\n",
       " 'Adventure',\n",
       " 'Family',\n",
       " 'Comedy',\n",
       " 'sea',\n",
       " 'ocean',\n",
       " 'villain',\n",
       " 'musical',\n",
       " 'sequel',\n",
       " 'duringcreditsstinger',\n",
       " 'absurd',\n",
       " 'AuliʻiCravalho',\n",
       " 'DwayneJohnson',\n",
       " 'HualālaiChung',\n",
       " 'DavidG.DerrickJr.',\n",
       " 'JasonHand',\n",
       " 'DanaLedouxMiller']"
      ]
     },
     "execution_count": 173,
     "metadata": {},
     "output_type": "execute_result"
    }
   ],
   "source": [
    "movies.tags[0]"
   ]
  },
  {
   "cell_type": "code",
   "execution_count": 315,
   "metadata": {},
   "outputs": [],
   "source": [
    "new_df = movies[['id', 'title', 'tags']]"
   ]
  },
  {
   "cell_type": "code",
   "execution_count": 316,
   "metadata": {},
   "outputs": [
    {
     "data": {
      "text/html": [
       "<div>\n",
       "<style scoped>\n",
       "    .dataframe tbody tr th:only-of-type {\n",
       "        vertical-align: middle;\n",
       "    }\n",
       "\n",
       "    .dataframe tbody tr th {\n",
       "        vertical-align: top;\n",
       "    }\n",
       "\n",
       "    .dataframe thead th {\n",
       "        text-align: right;\n",
       "    }\n",
       "</style>\n",
       "<table border=\"1\" class=\"dataframe\">\n",
       "  <thead>\n",
       "    <tr style=\"text-align: right;\">\n",
       "      <th></th>\n",
       "      <th>id</th>\n",
       "      <th>title</th>\n",
       "      <th>tags</th>\n",
       "    </tr>\n",
       "  </thead>\n",
       "  <tbody>\n",
       "    <tr>\n",
       "      <th>0</th>\n",
       "      <td>1241982</td>\n",
       "      <td>Moana 2</td>\n",
       "      <td>[After, receiving, an, unexpected, call, from,...</td>\n",
       "    </tr>\n",
       "    <tr>\n",
       "      <th>1</th>\n",
       "      <td>927342</td>\n",
       "      <td>Amaran</td>\n",
       "      <td>[A, heroic, true, story, of, Major, Mukund, Va...</td>\n",
       "    </tr>\n",
       "    <tr>\n",
       "      <th>2</th>\n",
       "      <td>822119</td>\n",
       "      <td>Captain America: Brave New World</td>\n",
       "      <td>[After, meeting, with, newly, elected, U.S., P...</td>\n",
       "    </tr>\n",
       "    <tr>\n",
       "      <th>3</th>\n",
       "      <td>939243</td>\n",
       "      <td>Sonic the Hedgehog 3</td>\n",
       "      <td>[Sonic,, Knuckles,, and, Tails, reunite, again...</td>\n",
       "    </tr>\n",
       "    <tr>\n",
       "      <th>4</th>\n",
       "      <td>1160956</td>\n",
       "      <td>Panda Plan</td>\n",
       "      <td>[International, action, star, Jackie, Chan, is...</td>\n",
       "    </tr>\n",
       "    <tr>\n",
       "      <th>...</th>\n",
       "      <td>...</td>\n",
       "      <td>...</td>\n",
       "      <td>...</td>\n",
       "    </tr>\n",
       "    <tr>\n",
       "      <th>3896</th>\n",
       "      <td>1080512</td>\n",
       "      <td>Pandemonium</td>\n",
       "      <td>[Nathan, and, Daniel, are, caught, in, a, road...</td>\n",
       "    </tr>\n",
       "    <tr>\n",
       "      <th>3897</th>\n",
       "      <td>901385</td>\n",
       "      <td>Significant Other</td>\n",
       "      <td>[Ruth, and, Harry, decide, to, take, a, romant...</td>\n",
       "    </tr>\n",
       "    <tr>\n",
       "      <th>3898</th>\n",
       "      <td>11439</td>\n",
       "      <td>The Ghost Writer</td>\n",
       "      <td>[A, writer, stumbles, upon, a, long-hidden, se...</td>\n",
       "    </tr>\n",
       "    <tr>\n",
       "      <th>3899</th>\n",
       "      <td>526050</td>\n",
       "      <td>Little</td>\n",
       "      <td>[Jordan, Sanders,, a, take-no-prisoners, tech,...</td>\n",
       "    </tr>\n",
       "    <tr>\n",
       "      <th>3900</th>\n",
       "      <td>6615</td>\n",
       "      <td>Lars and the Real Girl</td>\n",
       "      <td>[Extremely, shy, Lars, finds, it, impossible, ...</td>\n",
       "    </tr>\n",
       "  </tbody>\n",
       "</table>\n",
       "<p>3866 rows × 3 columns</p>\n",
       "</div>"
      ],
      "text/plain": [
       "           id                             title  \\\n",
       "0     1241982                           Moana 2   \n",
       "1      927342                            Amaran   \n",
       "2      822119  Captain America: Brave New World   \n",
       "3      939243              Sonic the Hedgehog 3   \n",
       "4     1160956                        Panda Plan   \n",
       "...       ...                               ...   \n",
       "3896  1080512                       Pandemonium   \n",
       "3897   901385                 Significant Other   \n",
       "3898    11439                  The Ghost Writer   \n",
       "3899   526050                            Little   \n",
       "3900     6615            Lars and the Real Girl   \n",
       "\n",
       "                                                   tags  \n",
       "0     [After, receiving, an, unexpected, call, from,...  \n",
       "1     [A, heroic, true, story, of, Major, Mukund, Va...  \n",
       "2     [After, meeting, with, newly, elected, U.S., P...  \n",
       "3     [Sonic,, Knuckles,, and, Tails, reunite, again...  \n",
       "4     [International, action, star, Jackie, Chan, is...  \n",
       "...                                                 ...  \n",
       "3896  [Nathan, and, Daniel, are, caught, in, a, road...  \n",
       "3897  [Ruth, and, Harry, decide, to, take, a, romant...  \n",
       "3898  [A, writer, stumbles, upon, a, long-hidden, se...  \n",
       "3899  [Jordan, Sanders,, a, take-no-prisoners, tech,...  \n",
       "3900  [Extremely, shy, Lars, finds, it, impossible, ...  \n",
       "\n",
       "[3866 rows x 3 columns]"
      ]
     },
     "execution_count": 316,
     "metadata": {},
     "output_type": "execute_result"
    }
   ],
   "source": [
    "new_df"
   ]
  },
  {
   "cell_type": "code",
   "execution_count": 317,
   "metadata": {},
   "outputs": [
    {
     "name": "stderr",
     "output_type": "stream",
     "text": [
      "C:\\Users\\shubh\\AppData\\Local\\Temp\\ipykernel_11680\\1824047427.py:1: SettingWithCopyWarning: \n",
      "A value is trying to be set on a copy of a slice from a DataFrame.\n",
      "Try using .loc[row_indexer,col_indexer] = value instead\n",
      "\n",
      "See the caveats in the documentation: https://pandas.pydata.org/pandas-docs/stable/user_guide/indexing.html#returning-a-view-versus-a-copy\n",
      "  new_df['tags'] = new_df['tags'].apply(lambda x: \" \".join(x))\n"
     ]
    }
   ],
   "source": [
    "new_df['tags'] = new_df['tags'].apply(lambda x: \" \".join(x))"
   ]
  },
  {
   "cell_type": "code",
   "execution_count": 318,
   "metadata": {},
   "outputs": [
    {
     "name": "stdout",
     "output_type": "stream",
     "text": [
      "Pleasure\n",
      "19 year old Linnéa leaves her small town in Sweden and heads for Los Angeles with the aim of becoming the world's next big porn star, but the road to her goal turns out to be bumpier than she imagined. Drama pornography femalefriendship pornstar femaleprotagonist losangeles california pornindustry pornactress womandirector intimate absurd disgusted SofiaKappel ZeldaMorrison TeeReel JessamynLand JasonM.Roberts MikeRoque ZacharyWalker KhayiClement EmilyMathason AdamAndersson Kentucky JeniferEllis StevenRodgers SarahGarrettson KatieScholz NinjaThyberg\n"
     ]
    }
   ],
   "source": [
    "print(new_df['title'][100])\n",
    "print(new_df['tags'][100])"
   ]
  },
  {
   "cell_type": "code",
   "execution_count": 319,
   "metadata": {},
   "outputs": [
    {
     "name": "stderr",
     "output_type": "stream",
     "text": [
      "C:\\Users\\shubh\\AppData\\Local\\Temp\\ipykernel_11680\\1380776331.py:1: SettingWithCopyWarning: \n",
      "A value is trying to be set on a copy of a slice from a DataFrame.\n",
      "Try using .loc[row_indexer,col_indexer] = value instead\n",
      "\n",
      "See the caveats in the documentation: https://pandas.pydata.org/pandas-docs/stable/user_guide/indexing.html#returning-a-view-versus-a-copy\n",
      "  new_df['tags'] = new_df['tags'].apply(lambda x: x.lower())\n"
     ]
    }
   ],
   "source": [
    "new_df['tags'] = new_df['tags'].apply(lambda x: x.lower())"
   ]
  },
  {
   "cell_type": "code",
   "execution_count": 320,
   "metadata": {},
   "outputs": [
    {
     "data": {
      "text/plain": [
       "\"19 year old linnéa leaves her small town in sweden and heads for los angeles with the aim of becoming the world's next big porn star, but the road to her goal turns out to be bumpier than she imagined. drama pornography femalefriendship pornstar femaleprotagonist losangeles california pornindustry pornactress womandirector intimate absurd disgusted sofiakappel zeldamorrison teereel jessamynland jasonm.roberts mikeroque zacharywalker khayiclement emilymathason adamandersson kentucky jeniferellis stevenrodgers sarahgarrettson katiescholz ninjathyberg\""
      ]
     },
     "execution_count": 320,
     "metadata": {},
     "output_type": "execute_result"
    }
   ],
   "source": [
    "new_df['tags'][100]"
   ]
  },
  {
   "cell_type": "code",
   "execution_count": 321,
   "metadata": {},
   "outputs": [
    {
     "data": {
      "text/plain": [
       "(3866, 3)"
      ]
     },
     "execution_count": 321,
     "metadata": {},
     "output_type": "execute_result"
    }
   ],
   "source": [
    "new_df.shape"
   ]
  },
  {
   "cell_type": "code",
   "execution_count": 322,
   "metadata": {},
   "outputs": [],
   "source": [
    "import re\n",
    "from nltk.stem import PorterStemmer\n",
    "\n",
    "ps = PorterStemmer()\n",
    "\n",
    "def clean_text(text):\n",
    "    text = re.sub(r'[^\\w\\s]', '', text).lower()\n",
    "    return ' '.join([ps.stem(word) for word in text.split()])\n",
    "\n",
    "\n"
   ]
  },
  {
   "cell_type": "code",
   "execution_count": 323,
   "metadata": {},
   "outputs": [
    {
     "name": "stderr",
     "output_type": "stream",
     "text": [
      "C:\\Users\\shubh\\AppData\\Local\\Temp\\ipykernel_11680\\1957625099.py:1: SettingWithCopyWarning: \n",
      "A value is trying to be set on a copy of a slice from a DataFrame.\n",
      "Try using .loc[row_indexer,col_indexer] = value instead\n",
      "\n",
      "See the caveats in the documentation: https://pandas.pydata.org/pandas-docs/stable/user_guide/indexing.html#returning-a-view-versus-a-copy\n",
      "  new_df['tags'] = new_df['tags'].apply(clean_text)\n"
     ]
    }
   ],
   "source": [
    "new_df['tags'] = new_df['tags'].apply(clean_text)"
   ]
  },
  {
   "cell_type": "code",
   "execution_count": 324,
   "metadata": {},
   "outputs": [],
   "source": [
    "from sklearn.feature_extraction.text import CountVectorizer\n",
    "cv = CountVectorizer(max_features=4000, stop_words='english', token_pattern=r'\\b\\w+\\b')"
   ]
  },
  {
   "cell_type": "code",
   "execution_count": 325,
   "metadata": {},
   "outputs": [],
   "source": [
    "vectors = cv.fit_transform(new_df['tags']).toarray()"
   ]
  },
  {
   "cell_type": "code",
   "execution_count": 326,
   "metadata": {},
   "outputs": [
    {
     "data": {
      "text/plain": [
       "array([0, 0, 0, ..., 0, 0, 0], dtype=int64)"
      ]
     },
     "execution_count": 326,
     "metadata": {},
     "output_type": "execute_result"
    }
   ],
   "source": [
    "vectors[0]"
   ]
  },
  {
   "cell_type": "code",
   "execution_count": 332,
   "metadata": {},
   "outputs": [],
   "source": [
    "from sklearn.metrics.pairwise import cosine_similarity"
   ]
  },
  {
   "cell_type": "code",
   "execution_count": 333,
   "metadata": {},
   "outputs": [],
   "source": [
    "similarity = cosine_similarity(vectors)"
   ]
  },
  {
   "cell_type": "code",
   "execution_count": 334,
   "metadata": {},
   "outputs": [
    {
     "data": {
      "text/plain": [
       "array([[1.        , 0.0559017 , 0.        , ..., 0.        , 0.03125   ,\n",
       "        0.07995027],\n",
       "       [0.0559017 , 1.        , 0.07798129, ..., 0.11009638, 0.        ,\n",
       "        0.23836565],\n",
       "       [0.        , 0.07798129, 1.        , ..., 0.02861819, 0.02906191,\n",
       "        0.02478408],\n",
       "       ...,\n",
       "       [0.        , 0.11009638, 0.02861819, ..., 1.        , 0.09231862,\n",
       "        0.07872958],\n",
       "       [0.03125   , 0.        , 0.02906191, ..., 0.09231862, 1.        ,\n",
       "        0.05330018],\n",
       "       [0.07995027, 0.23836565, 0.02478408, ..., 0.07872958, 0.05330018,\n",
       "        1.        ]])"
      ]
     },
     "execution_count": 334,
     "metadata": {},
     "output_type": "execute_result"
    }
   ],
   "source": [
    "similarity"
   ]
  },
  {
   "cell_type": "code",
   "execution_count": 335,
   "metadata": {},
   "outputs": [
    {
     "data": {
      "text/plain": [
       "array([1.        , 0.0559017 , 0.        , ..., 0.        , 0.03125   ,\n",
       "       0.07995027])"
      ]
     },
     "execution_count": 335,
     "metadata": {},
     "output_type": "execute_result"
    }
   ],
   "source": [
    "similarity[0]"
   ]
  },
  {
   "cell_type": "code",
   "execution_count": 336,
   "metadata": {},
   "outputs": [
    {
     "data": {
      "text/plain": [
       "(3866, 3866)"
      ]
     },
     "execution_count": 336,
     "metadata": {},
     "output_type": "execute_result"
    }
   ],
   "source": [
    "similarity.shape"
   ]
  },
  {
   "cell_type": "code",
   "execution_count": 1,
   "metadata": {},
   "outputs": [],
   "source": [
    "def recommend(movie):\n",
    "    movie_index = new_df[new_df['title'] == movie].index[0]\n",
    "    print(movie_index)"
   ]
  },
  {
   "cell_type": "code",
   "execution_count": 340,
   "metadata": {},
   "outputs": [
    {
     "data": {
      "text/plain": [
       "167"
      ]
     },
     "execution_count": 340,
     "metadata": {},
     "output_type": "execute_result"
    }
   ],
   "source": [
    "new_df[new_df['title'] == 'Avatar'].index[0]"
   ]
  },
  {
   "cell_type": "code",
   "execution_count": 344,
   "metadata": {},
   "outputs": [
    {
     "data": {
      "text/html": [
       "<div>\n",
       "<style scoped>\n",
       "    .dataframe tbody tr th:only-of-type {\n",
       "        vertical-align: middle;\n",
       "    }\n",
       "\n",
       "    .dataframe tbody tr th {\n",
       "        vertical-align: top;\n",
       "    }\n",
       "\n",
       "    .dataframe thead th {\n",
       "        text-align: right;\n",
       "    }\n",
       "</style>\n",
       "<table border=\"1\" class=\"dataframe\">\n",
       "  <thead>\n",
       "    <tr style=\"text-align: right;\">\n",
       "      <th></th>\n",
       "      <th>id</th>\n",
       "      <th>title</th>\n",
       "      <th>tags</th>\n",
       "    </tr>\n",
       "  </thead>\n",
       "  <tbody>\n",
       "  </tbody>\n",
       "</table>\n",
       "</div>"
      ],
      "text/plain": [
       "Empty DataFrame\n",
       "Columns: [id, title, tags]\n",
       "Index: []"
      ]
     },
     "execution_count": 344,
     "metadata": {},
     "output_type": "execute_result"
    }
   ],
   "source": [
    "new_df[new_df['title'] == 'Batman Begins']\n"
   ]
  },
  {
   "cell_type": "code",
   "execution_count": null,
   "metadata": {},
   "outputs": [],
   "source": []
  }
 ],
 "metadata": {
  "kernelspec": {
   "display_name": "base",
   "language": "python",
   "name": "python3"
  },
  "language_info": {
   "codemirror_mode": {
    "name": "ipython",
    "version": 3
   },
   "file_extension": ".py",
   "mimetype": "text/x-python",
   "name": "python",
   "nbconvert_exporter": "python",
   "pygments_lexer": "ipython3",
   "version": "3.11.4"
  }
 },
 "nbformat": 4,
 "nbformat_minor": 2
}
