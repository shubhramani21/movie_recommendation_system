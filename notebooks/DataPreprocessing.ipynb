{
 "cells": [
  {
   "cell_type": "code",
   "execution_count": 2,
   "metadata": {},
   "outputs": [],
   "source": [
    "import pandas as pd\n",
    "import numpy as np"
   ]
  },
  {
   "cell_type": "code",
   "execution_count": 3,
   "metadata": {},
   "outputs": [],
   "source": [
    "movies_5000 = pd.read_csv('../data/kaggle/tmdb_5000_movies.csv')\n",
    "credits_5000 = pd.read_csv('../data/kaggle/tmdb_5000_credits.csv')"
   ]
  },
  {
   "cell_type": "code",
   "execution_count": 4,
   "metadata": {},
   "outputs": [],
   "source": [
    "movies = pd.read_csv('../data/api/tmdb_movies.csv')\n",
    "credits = pd.read_csv('../data/api/tmdb_credits.csv')"
   ]
  },
  {
   "cell_type": "code",
   "execution_count": 359,
   "metadata": {},
   "outputs": [
    {
     "data": {
      "text/plain": [
       "0"
      ]
     },
     "execution_count": 359,
     "metadata": {},
     "output_type": "execute_result"
    }
   ],
   "source": [
    "movies = movies.drop_duplicates(subset=['id'])\n",
    "movies.duplicated().sum()"
   ]
  },
  {
   "cell_type": "code",
   "execution_count": 360,
   "metadata": {},
   "outputs": [
    {
     "data": {
      "text/plain": [
       "0"
      ]
     },
     "execution_count": 360,
     "metadata": {},
     "output_type": "execute_result"
    }
   ],
   "source": [
    "credits = credits.drop_duplicates(subset=['movie_id'])\n",
    "credits.duplicated().sum()"
   ]
  },
  {
   "cell_type": "code",
   "execution_count": 361,
   "metadata": {},
   "outputs": [
    {
     "data": {
      "text/plain": [
       "0"
      ]
     },
     "execution_count": 361,
     "metadata": {},
     "output_type": "execute_result"
    }
   ],
   "source": [
    "credits_5000 = credits_5000.drop_duplicates(subset=['movie_id'])\n",
    "credits_5000.duplicated().sum()"
   ]
  },
  {
   "cell_type": "code",
   "execution_count": 362,
   "metadata": {},
   "outputs": [
    {
     "data": {
      "text/plain": [
       "0"
      ]
     },
     "execution_count": 362,
     "metadata": {},
     "output_type": "execute_result"
    }
   ],
   "source": [
    "movies_5000 = movies_5000.drop_duplicates(subset=['id'])\n",
    "movies_5000.duplicated().sum()"
   ]
  },
  {
   "cell_type": "code",
   "execution_count": 363,
   "metadata": {},
   "outputs": [],
   "source": [
    "credits.rename(columns={'movie_id':'id'}, inplace=True)"
   ]
  },
  {
   "cell_type": "code",
   "execution_count": 364,
   "metadata": {},
   "outputs": [],
   "source": [
    "credits.drop('title' ,axis = 1, inplace = True)"
   ]
  },
  {
   "cell_type": "code",
   "execution_count": 365,
   "metadata": {},
   "outputs": [],
   "source": [
    "credits_5000.rename(columns={'movie_id':'id'}, inplace=True)"
   ]
  },
  {
   "cell_type": "code",
   "execution_count": 366,
   "metadata": {},
   "outputs": [],
   "source": [
    "credits_5000.drop('title' ,axis = 1, inplace = True)\n"
   ]
  },
  {
   "cell_type": "code",
   "execution_count": 367,
   "metadata": {},
   "outputs": [
    {
     "data": {
      "text/html": [
       "<div>\n",
       "<style scoped>\n",
       "    .dataframe tbody tr th:only-of-type {\n",
       "        vertical-align: middle;\n",
       "    }\n",
       "\n",
       "    .dataframe tbody tr th {\n",
       "        vertical-align: top;\n",
       "    }\n",
       "\n",
       "    .dataframe thead th {\n",
       "        text-align: right;\n",
       "    }\n",
       "</style>\n",
       "<table border=\"1\" class=\"dataframe\">\n",
       "  <thead>\n",
       "    <tr style=\"text-align: right;\">\n",
       "      <th></th>\n",
       "      <th>budget</th>\n",
       "      <th>genres</th>\n",
       "      <th>homepage</th>\n",
       "      <th>id</th>\n",
       "      <th>keywords</th>\n",
       "      <th>original_language</th>\n",
       "      <th>original_title</th>\n",
       "      <th>overview</th>\n",
       "      <th>popularity</th>\n",
       "      <th>production_companies</th>\n",
       "      <th>production_countries</th>\n",
       "      <th>release_date</th>\n",
       "      <th>revenue</th>\n",
       "      <th>runtime</th>\n",
       "      <th>spoken_languages</th>\n",
       "      <th>status</th>\n",
       "      <th>tagline</th>\n",
       "      <th>title</th>\n",
       "      <th>vote_average</th>\n",
       "      <th>vote_count</th>\n",
       "    </tr>\n",
       "  </thead>\n",
       "  <tbody>\n",
       "    <tr>\n",
       "      <th>662</th>\n",
       "      <td>63000000</td>\n",
       "      <td>[{\"id\": 18, \"name\": \"Drama\"}]</td>\n",
       "      <td>http://www.foxmovies.com/movies/fight-club</td>\n",
       "      <td>550</td>\n",
       "      <td>[{\"id\": 825, \"name\": \"support group\"}, {\"id\": ...</td>\n",
       "      <td>en</td>\n",
       "      <td>Fight Club</td>\n",
       "      <td>A ticking-time-bomb insomniac and a slippery s...</td>\n",
       "      <td>146.757391</td>\n",
       "      <td>[{\"name\": \"Regency Enterprises\", \"id\": 508}, {...</td>\n",
       "      <td>[{\"iso_3166_1\": \"DE\", \"name\": \"Germany\"}, {\"is...</td>\n",
       "      <td>1999-10-15</td>\n",
       "      <td>100853753</td>\n",
       "      <td>139.0</td>\n",
       "      <td>[{\"iso_639_1\": \"en\", \"name\": \"English\"}]</td>\n",
       "      <td>Released</td>\n",
       "      <td>Mischief. Mayhem. Soap.</td>\n",
       "      <td>Fight Club</td>\n",
       "      <td>8.3</td>\n",
       "      <td>9413</td>\n",
       "    </tr>\n",
       "  </tbody>\n",
       "</table>\n",
       "</div>"
      ],
      "text/plain": [
       "       budget                         genres  \\\n",
       "662  63000000  [{\"id\": 18, \"name\": \"Drama\"}]   \n",
       "\n",
       "                                       homepage   id  \\\n",
       "662  http://www.foxmovies.com/movies/fight-club  550   \n",
       "\n",
       "                                              keywords original_language  \\\n",
       "662  [{\"id\": 825, \"name\": \"support group\"}, {\"id\": ...                en   \n",
       "\n",
       "    original_title                                           overview  \\\n",
       "662     Fight Club  A ticking-time-bomb insomniac and a slippery s...   \n",
       "\n",
       "     popularity                               production_companies  \\\n",
       "662  146.757391  [{\"name\": \"Regency Enterprises\", \"id\": 508}, {...   \n",
       "\n",
       "                                  production_countries release_date  \\\n",
       "662  [{\"iso_3166_1\": \"DE\", \"name\": \"Germany\"}, {\"is...   1999-10-15   \n",
       "\n",
       "       revenue  runtime                          spoken_languages    status  \\\n",
       "662  100853753    139.0  [{\"iso_639_1\": \"en\", \"name\": \"English\"}]  Released   \n",
       "\n",
       "                     tagline       title  vote_average  vote_count  \n",
       "662  Mischief. Mayhem. Soap.  Fight Club           8.3        9413  "
      ]
     },
     "execution_count": 367,
     "metadata": {},
     "output_type": "execute_result"
    }
   ],
   "source": [
    "movies_5000[movies_5000['title'] == 'Fight Club']"
   ]
  },
  {
   "cell_type": "code",
   "execution_count": 368,
   "metadata": {},
   "outputs": [
    {
     "name": "stdout",
     "output_type": "stream",
     "text": [
      "<class 'pandas.core.frame.DataFrame'>\n",
      "Int64Index: 4803 entries, 0 to 4802\n",
      "Data columns (total 20 columns):\n",
      " #   Column                Non-Null Count  Dtype  \n",
      "---  ------                --------------  -----  \n",
      " 0   budget                4803 non-null   int64  \n",
      " 1   genres                4803 non-null   object \n",
      " 2   homepage              1712 non-null   object \n",
      " 3   id                    4803 non-null   int64  \n",
      " 4   keywords              4803 non-null   object \n",
      " 5   original_language     4803 non-null   object \n",
      " 6   original_title        4803 non-null   object \n",
      " 7   overview              4800 non-null   object \n",
      " 8   popularity            4803 non-null   float64\n",
      " 9   production_companies  4803 non-null   object \n",
      " 10  production_countries  4803 non-null   object \n",
      " 11  release_date          4802 non-null   object \n",
      " 12  revenue               4803 non-null   int64  \n",
      " 13  runtime               4801 non-null   float64\n",
      " 14  spoken_languages      4803 non-null   object \n",
      " 15  status                4803 non-null   object \n",
      " 16  tagline               3959 non-null   object \n",
      " 17  title                 4803 non-null   object \n",
      " 18  vote_average          4803 non-null   float64\n",
      " 19  vote_count            4803 non-null   int64  \n",
      "dtypes: float64(3), int64(4), object(13)\n",
      "memory usage: 788.0+ KB\n"
     ]
    }
   ],
   "source": [
    "movies_5000.info()"
   ]
  },
  {
   "cell_type": "code",
   "execution_count": 369,
   "metadata": {},
   "outputs": [
    {
     "name": "stdout",
     "output_type": "stream",
     "text": [
      "<class 'pandas.core.frame.DataFrame'>\n",
      "Int64Index: 3901 entries, 0 to 4999\n",
      "Data columns (total 20 columns):\n",
      " #   Column                Non-Null Count  Dtype  \n",
      "---  ------                --------------  -----  \n",
      " 0   budget                3901 non-null   int64  \n",
      " 1   genres                3889 non-null   object \n",
      " 2   homepage              2029 non-null   object \n",
      " 3   id                    3901 non-null   int64  \n",
      " 4   keywords              3643 non-null   object \n",
      " 5   original_language     3901 non-null   object \n",
      " 6   original_title        3901 non-null   object \n",
      " 7   overview              3876 non-null   object \n",
      " 8   popularity            3901 non-null   float64\n",
      " 9   production_companies  3771 non-null   object \n",
      " 10  production_countries  3858 non-null   object \n",
      " 11  release_date          3894 non-null   object \n",
      " 12  revenue               3901 non-null   int64  \n",
      " 13  runtime               3901 non-null   int64  \n",
      " 14  spoken_languages      3884 non-null   object \n",
      " 15  status                3901 non-null   object \n",
      " 16  tagline               3152 non-null   object \n",
      " 17  title                 3901 non-null   object \n",
      " 18  vote_average          3901 non-null   float64\n",
      " 19  vote_count            3901 non-null   int64  \n",
      "dtypes: float64(2), int64(5), object(13)\n",
      "memory usage: 640.0+ KB\n"
     ]
    }
   ],
   "source": [
    "movies.info()"
   ]
  },
  {
   "cell_type": "code",
   "execution_count": 370,
   "metadata": {},
   "outputs": [
    {
     "data": {
      "text/html": [
       "<div>\n",
       "<style scoped>\n",
       "    .dataframe tbody tr th:only-of-type {\n",
       "        vertical-align: middle;\n",
       "    }\n",
       "\n",
       "    .dataframe tbody tr th {\n",
       "        vertical-align: top;\n",
       "    }\n",
       "\n",
       "    .dataframe thead th {\n",
       "        text-align: right;\n",
       "    }\n",
       "</style>\n",
       "<table border=\"1\" class=\"dataframe\">\n",
       "  <thead>\n",
       "    <tr style=\"text-align: right;\">\n",
       "      <th></th>\n",
       "      <th>budget</th>\n",
       "      <th>genres</th>\n",
       "      <th>homepage</th>\n",
       "      <th>id</th>\n",
       "      <th>keywords</th>\n",
       "      <th>original_language</th>\n",
       "      <th>original_title</th>\n",
       "      <th>overview</th>\n",
       "      <th>popularity</th>\n",
       "      <th>production_companies</th>\n",
       "      <th>production_countries</th>\n",
       "      <th>release_date</th>\n",
       "      <th>revenue</th>\n",
       "      <th>runtime</th>\n",
       "      <th>spoken_languages</th>\n",
       "      <th>status</th>\n",
       "      <th>tagline</th>\n",
       "      <th>title</th>\n",
       "      <th>vote_average</th>\n",
       "      <th>vote_count</th>\n",
       "    </tr>\n",
       "  </thead>\n",
       "  <tbody>\n",
       "    <tr>\n",
       "      <th>3424</th>\n",
       "      <td>6500000</td>\n",
       "      <td>[{\"id\": 28, \"name\": \"Action\"}, {\"id\": 12, \"nam...</td>\n",
       "      <td>NaN</td>\n",
       "      <td>34723</td>\n",
       "      <td>[{\"id\": 168598, \"name\": \"southern accent\"}, {\"...</td>\n",
       "      <td>en</td>\n",
       "      <td>The Adventures of Huck Finn</td>\n",
       "      <td>Climb aboard for an extraordinary version of M...</td>\n",
       "      <td>2.163683</td>\n",
       "      <td>[{\"name\": \"Walt Disney Pictures\", \"id\": 2}]</td>\n",
       "      <td>[{\"iso_3166_1\": \"US\", \"name\": \"United States o...</td>\n",
       "      <td>1993-04-02</td>\n",
       "      <td>0</td>\n",
       "      <td>108.0</td>\n",
       "      <td>[{\"iso_639_1\": \"en\", \"name\": \"English\"}, {\"iso...</td>\n",
       "      <td>Released</td>\n",
       "      <td>For anyone who has ever dreamed of running awa...</td>\n",
       "      <td>The Adventures of Huck Finn</td>\n",
       "      <td>6.2</td>\n",
       "      <td>42</td>\n",
       "    </tr>\n",
       "  </tbody>\n",
       "</table>\n",
       "</div>"
      ],
      "text/plain": [
       "       budget                                             genres homepage  \\\n",
       "3424  6500000  [{\"id\": 28, \"name\": \"Action\"}, {\"id\": 12, \"nam...      NaN   \n",
       "\n",
       "         id                                           keywords  \\\n",
       "3424  34723  [{\"id\": 168598, \"name\": \"southern accent\"}, {\"...   \n",
       "\n",
       "     original_language               original_title  \\\n",
       "3424                en  The Adventures of Huck Finn   \n",
       "\n",
       "                                               overview  popularity  \\\n",
       "3424  Climb aboard for an extraordinary version of M...    2.163683   \n",
       "\n",
       "                             production_companies  \\\n",
       "3424  [{\"name\": \"Walt Disney Pictures\", \"id\": 2}]   \n",
       "\n",
       "                                   production_countries release_date  revenue  \\\n",
       "3424  [{\"iso_3166_1\": \"US\", \"name\": \"United States o...   1993-04-02        0   \n",
       "\n",
       "      runtime                                   spoken_languages    status  \\\n",
       "3424    108.0  [{\"iso_639_1\": \"en\", \"name\": \"English\"}, {\"iso...  Released   \n",
       "\n",
       "                                                tagline  \\\n",
       "3424  For anyone who has ever dreamed of running awa...   \n",
       "\n",
       "                            title  vote_average  vote_count  \n",
       "3424  The Adventures of Huck Finn           6.2          42  "
      ]
     },
     "execution_count": 370,
     "metadata": {},
     "output_type": "execute_result"
    }
   ],
   "source": [
    "movies_5000.sample()"
   ]
  },
  {
   "cell_type": "code",
   "execution_count": 371,
   "metadata": {},
   "outputs": [],
   "source": [
    "movies = movies.merge(credits, on='id')"
   ]
  },
  {
   "cell_type": "code",
   "execution_count": 372,
   "metadata": {},
   "outputs": [],
   "source": [
    "movies_5000 = movies_5000.merge(credits_5000, on='id')"
   ]
  },
  {
   "cell_type": "code",
   "execution_count": 373,
   "metadata": {},
   "outputs": [
    {
     "name": "stdout",
     "output_type": "stream",
     "text": [
      "<class 'pandas.core.frame.DataFrame'>\n",
      "Int64Index: 3901 entries, 0 to 3900\n",
      "Data columns (total 22 columns):\n",
      " #   Column                Non-Null Count  Dtype  \n",
      "---  ------                --------------  -----  \n",
      " 0   budget                3901 non-null   int64  \n",
      " 1   genres                3889 non-null   object \n",
      " 2   homepage              2029 non-null   object \n",
      " 3   id                    3901 non-null   int64  \n",
      " 4   keywords              3643 non-null   object \n",
      " 5   original_language     3901 non-null   object \n",
      " 6   original_title        3901 non-null   object \n",
      " 7   overview              3876 non-null   object \n",
      " 8   popularity            3901 non-null   float64\n",
      " 9   production_companies  3771 non-null   object \n",
      " 10  production_countries  3858 non-null   object \n",
      " 11  release_date          3894 non-null   object \n",
      " 12  revenue               3901 non-null   int64  \n",
      " 13  runtime               3901 non-null   int64  \n",
      " 14  spoken_languages      3884 non-null   object \n",
      " 15  status                3901 non-null   object \n",
      " 16  tagline               3152 non-null   object \n",
      " 17  title                 3901 non-null   object \n",
      " 18  vote_average          3901 non-null   float64\n",
      " 19  vote_count            3901 non-null   int64  \n",
      " 20  cast                  3901 non-null   object \n",
      " 21  crew                  3901 non-null   object \n",
      "dtypes: float64(2), int64(5), object(15)\n",
      "memory usage: 701.0+ KB\n"
     ]
    }
   ],
   "source": [
    "movies.info()"
   ]
  },
  {
   "cell_type": "code",
   "execution_count": 374,
   "metadata": {},
   "outputs": [
    {
     "name": "stdout",
     "output_type": "stream",
     "text": [
      "<class 'pandas.core.frame.DataFrame'>\n",
      "Int64Index: 4803 entries, 0 to 4802\n",
      "Data columns (total 22 columns):\n",
      " #   Column                Non-Null Count  Dtype  \n",
      "---  ------                --------------  -----  \n",
      " 0   budget                4803 non-null   int64  \n",
      " 1   genres                4803 non-null   object \n",
      " 2   homepage              1712 non-null   object \n",
      " 3   id                    4803 non-null   int64  \n",
      " 4   keywords              4803 non-null   object \n",
      " 5   original_language     4803 non-null   object \n",
      " 6   original_title        4803 non-null   object \n",
      " 7   overview              4800 non-null   object \n",
      " 8   popularity            4803 non-null   float64\n",
      " 9   production_companies  4803 non-null   object \n",
      " 10  production_countries  4803 non-null   object \n",
      " 11  release_date          4802 non-null   object \n",
      " 12  revenue               4803 non-null   int64  \n",
      " 13  runtime               4801 non-null   float64\n",
      " 14  spoken_languages      4803 non-null   object \n",
      " 15  status                4803 non-null   object \n",
      " 16  tagline               3959 non-null   object \n",
      " 17  title                 4803 non-null   object \n",
      " 18  vote_average          4803 non-null   float64\n",
      " 19  vote_count            4803 non-null   int64  \n",
      " 20  cast                  4803 non-null   object \n",
      " 21  crew                  4803 non-null   object \n",
      "dtypes: float64(3), int64(4), object(15)\n",
      "memory usage: 863.0+ KB\n"
     ]
    }
   ],
   "source": [
    "movies_5000.info()"
   ]
  },
  {
   "cell_type": "code",
   "execution_count": 375,
   "metadata": {},
   "outputs": [],
   "source": [
    "movies = movies[['id', 'title', 'overview', 'genres', 'keywords', 'cast', 'crew', 'vote_average']]"
   ]
  },
  {
   "cell_type": "code",
   "execution_count": 376,
   "metadata": {},
   "outputs": [],
   "source": [
    "movies_5000 = movies_5000[['id', 'title', 'overview', 'genres', 'keywords', 'cast', 'crew', 'vote_average']]"
   ]
  },
  {
   "cell_type": "code",
   "execution_count": 377,
   "metadata": {},
   "outputs": [
    {
     "data": {
      "text/html": [
       "<div>\n",
       "<style scoped>\n",
       "    .dataframe tbody tr th:only-of-type {\n",
       "        vertical-align: middle;\n",
       "    }\n",
       "\n",
       "    .dataframe tbody tr th {\n",
       "        vertical-align: top;\n",
       "    }\n",
       "\n",
       "    .dataframe thead th {\n",
       "        text-align: right;\n",
       "    }\n",
       "</style>\n",
       "<table border=\"1\" class=\"dataframe\">\n",
       "  <thead>\n",
       "    <tr style=\"text-align: right;\">\n",
       "      <th></th>\n",
       "      <th>id</th>\n",
       "      <th>title</th>\n",
       "      <th>overview</th>\n",
       "      <th>genres</th>\n",
       "      <th>keywords</th>\n",
       "      <th>cast</th>\n",
       "      <th>crew</th>\n",
       "      <th>vote_average</th>\n",
       "    </tr>\n",
       "  </thead>\n",
       "  <tbody>\n",
       "    <tr>\n",
       "      <th>0</th>\n",
       "      <td>1241982</td>\n",
       "      <td>Moana 2</td>\n",
       "      <td>After receiving an unexpected call from her wa...</td>\n",
       "      <td>Animation, Adventure, Family, Comedy</td>\n",
       "      <td>sea, ocean, villain, musical, sequel, duringcr...</td>\n",
       "      <td>[{'name': 'Auliʻi Cravalho', 'role': 'Moana (v...</td>\n",
       "      <td>[{'name': 'David G. Derrick Jr.', 'department'...</td>\n",
       "      <td>7.200</td>\n",
       "    </tr>\n",
       "    <tr>\n",
       "      <th>1</th>\n",
       "      <td>927342</td>\n",
       "      <td>Amaran</td>\n",
       "      <td>A heroic true story of Major Mukund Varadaraja...</td>\n",
       "      <td>Action, Drama, Adventure, War</td>\n",
       "      <td>based on novel or book, affectation, based on ...</td>\n",
       "      <td>[{'name': 'Sivakarthikeyan', 'role': 'Major Mu...</td>\n",
       "      <td>[{'name': 'C. H. Sai', 'department': 'Camera'}...</td>\n",
       "      <td>8.167</td>\n",
       "    </tr>\n",
       "    <tr>\n",
       "      <th>2</th>\n",
       "      <td>822119</td>\n",
       "      <td>Captain America: Brave New World</td>\n",
       "      <td>After meeting with newly elected U.S. Presiden...</td>\n",
       "      <td>Action, Thriller, Science Fiction</td>\n",
       "      <td>hero, superhero, revenge, blunt, aftercreditss...</td>\n",
       "      <td>[{'name': 'Anthony Mackie', 'role': 'Sam Wilso...</td>\n",
       "      <td>[{'name': 'Kevin Feige', 'department': 'Produc...</td>\n",
       "      <td>6.200</td>\n",
       "    </tr>\n",
       "    <tr>\n",
       "      <th>3</th>\n",
       "      <td>939243</td>\n",
       "      <td>Sonic the Hedgehog 3</td>\n",
       "      <td>Sonic, Knuckles, and Tails reunite against a p...</td>\n",
       "      <td>Action, Science Fiction, Comedy, Family</td>\n",
       "      <td>moon, sequel, based on video game, burlesque, ...</td>\n",
       "      <td>[{'name': 'Jim Carrey', 'role': 'Ivo Robotnik ...</td>\n",
       "      <td>[{'name': 'Neal H. Moritz', 'department': 'Pro...</td>\n",
       "      <td>7.777</td>\n",
       "    </tr>\n",
       "    <tr>\n",
       "      <th>4</th>\n",
       "      <td>1160956</td>\n",
       "      <td>Panda Plan</td>\n",
       "      <td>International action star Jackie Chan is invit...</td>\n",
       "      <td>Action, Comedy</td>\n",
       "      <td>assistant, zoo, panda, superstar, rescue opera...</td>\n",
       "      <td>[{'name': 'Jackie Chan', 'role': 'Jackie'}, {'...</td>\n",
       "      <td>[{'name': 'Wei Xu', 'department': 'Writing'}, ...</td>\n",
       "      <td>7.277</td>\n",
       "    </tr>\n",
       "  </tbody>\n",
       "</table>\n",
       "</div>"
      ],
      "text/plain": [
       "        id                             title  \\\n",
       "0  1241982                           Moana 2   \n",
       "1   927342                            Amaran   \n",
       "2   822119  Captain America: Brave New World   \n",
       "3   939243              Sonic the Hedgehog 3   \n",
       "4  1160956                        Panda Plan   \n",
       "\n",
       "                                            overview  \\\n",
       "0  After receiving an unexpected call from her wa...   \n",
       "1  A heroic true story of Major Mukund Varadaraja...   \n",
       "2  After meeting with newly elected U.S. Presiden...   \n",
       "3  Sonic, Knuckles, and Tails reunite against a p...   \n",
       "4  International action star Jackie Chan is invit...   \n",
       "\n",
       "                                    genres  \\\n",
       "0     Animation, Adventure, Family, Comedy   \n",
       "1            Action, Drama, Adventure, War   \n",
       "2        Action, Thriller, Science Fiction   \n",
       "3  Action, Science Fiction, Comedy, Family   \n",
       "4                           Action, Comedy   \n",
       "\n",
       "                                            keywords  \\\n",
       "0  sea, ocean, villain, musical, sequel, duringcr...   \n",
       "1  based on novel or book, affectation, based on ...   \n",
       "2  hero, superhero, revenge, blunt, aftercreditss...   \n",
       "3  moon, sequel, based on video game, burlesque, ...   \n",
       "4  assistant, zoo, panda, superstar, rescue opera...   \n",
       "\n",
       "                                                cast  \\\n",
       "0  [{'name': 'Auliʻi Cravalho', 'role': 'Moana (v...   \n",
       "1  [{'name': 'Sivakarthikeyan', 'role': 'Major Mu...   \n",
       "2  [{'name': 'Anthony Mackie', 'role': 'Sam Wilso...   \n",
       "3  [{'name': 'Jim Carrey', 'role': 'Ivo Robotnik ...   \n",
       "4  [{'name': 'Jackie Chan', 'role': 'Jackie'}, {'...   \n",
       "\n",
       "                                                crew  vote_average  \n",
       "0  [{'name': 'David G. Derrick Jr.', 'department'...         7.200  \n",
       "1  [{'name': 'C. H. Sai', 'department': 'Camera'}...         8.167  \n",
       "2  [{'name': 'Kevin Feige', 'department': 'Produc...         6.200  \n",
       "3  [{'name': 'Neal H. Moritz', 'department': 'Pro...         7.777  \n",
       "4  [{'name': 'Wei Xu', 'department': 'Writing'}, ...         7.277  "
      ]
     },
     "execution_count": 377,
     "metadata": {},
     "output_type": "execute_result"
    }
   ],
   "source": [
    "movies.head()"
   ]
  },
  {
   "cell_type": "code",
   "execution_count": 378,
   "metadata": {},
   "outputs": [
    {
     "data": {
      "text/html": [
       "<div>\n",
       "<style scoped>\n",
       "    .dataframe tbody tr th:only-of-type {\n",
       "        vertical-align: middle;\n",
       "    }\n",
       "\n",
       "    .dataframe tbody tr th {\n",
       "        vertical-align: top;\n",
       "    }\n",
       "\n",
       "    .dataframe thead th {\n",
       "        text-align: right;\n",
       "    }\n",
       "</style>\n",
       "<table border=\"1\" class=\"dataframe\">\n",
       "  <thead>\n",
       "    <tr style=\"text-align: right;\">\n",
       "      <th></th>\n",
       "      <th>id</th>\n",
       "      <th>title</th>\n",
       "      <th>overview</th>\n",
       "      <th>genres</th>\n",
       "      <th>keywords</th>\n",
       "      <th>cast</th>\n",
       "      <th>crew</th>\n",
       "      <th>vote_average</th>\n",
       "    </tr>\n",
       "  </thead>\n",
       "  <tbody>\n",
       "    <tr>\n",
       "      <th>0</th>\n",
       "      <td>19995</td>\n",
       "      <td>Avatar</td>\n",
       "      <td>In the 22nd century, a paraplegic Marine is di...</td>\n",
       "      <td>[{\"id\": 28, \"name\": \"Action\"}, {\"id\": 12, \"nam...</td>\n",
       "      <td>[{\"id\": 1463, \"name\": \"culture clash\"}, {\"id\":...</td>\n",
       "      <td>[{\"cast_id\": 242, \"character\": \"Jake Sully\", \"...</td>\n",
       "      <td>[{\"credit_id\": \"52fe48009251416c750aca23\", \"de...</td>\n",
       "      <td>7.2</td>\n",
       "    </tr>\n",
       "    <tr>\n",
       "      <th>1</th>\n",
       "      <td>285</td>\n",
       "      <td>Pirates of the Caribbean: At World's End</td>\n",
       "      <td>Captain Barbossa, long believed to be dead, ha...</td>\n",
       "      <td>[{\"id\": 12, \"name\": \"Adventure\"}, {\"id\": 14, \"...</td>\n",
       "      <td>[{\"id\": 270, \"name\": \"ocean\"}, {\"id\": 726, \"na...</td>\n",
       "      <td>[{\"cast_id\": 4, \"character\": \"Captain Jack Spa...</td>\n",
       "      <td>[{\"credit_id\": \"52fe4232c3a36847f800b579\", \"de...</td>\n",
       "      <td>6.9</td>\n",
       "    </tr>\n",
       "    <tr>\n",
       "      <th>2</th>\n",
       "      <td>206647</td>\n",
       "      <td>Spectre</td>\n",
       "      <td>A cryptic message from Bond’s past sends him o...</td>\n",
       "      <td>[{\"id\": 28, \"name\": \"Action\"}, {\"id\": 12, \"nam...</td>\n",
       "      <td>[{\"id\": 470, \"name\": \"spy\"}, {\"id\": 818, \"name...</td>\n",
       "      <td>[{\"cast_id\": 1, \"character\": \"James Bond\", \"cr...</td>\n",
       "      <td>[{\"credit_id\": \"54805967c3a36829b5002c41\", \"de...</td>\n",
       "      <td>6.3</td>\n",
       "    </tr>\n",
       "    <tr>\n",
       "      <th>3</th>\n",
       "      <td>49026</td>\n",
       "      <td>The Dark Knight Rises</td>\n",
       "      <td>Following the death of District Attorney Harve...</td>\n",
       "      <td>[{\"id\": 28, \"name\": \"Action\"}, {\"id\": 80, \"nam...</td>\n",
       "      <td>[{\"id\": 849, \"name\": \"dc comics\"}, {\"id\": 853,...</td>\n",
       "      <td>[{\"cast_id\": 2, \"character\": \"Bruce Wayne / Ba...</td>\n",
       "      <td>[{\"credit_id\": \"52fe4781c3a36847f81398c3\", \"de...</td>\n",
       "      <td>7.6</td>\n",
       "    </tr>\n",
       "    <tr>\n",
       "      <th>4</th>\n",
       "      <td>49529</td>\n",
       "      <td>John Carter</td>\n",
       "      <td>John Carter is a war-weary, former military ca...</td>\n",
       "      <td>[{\"id\": 28, \"name\": \"Action\"}, {\"id\": 12, \"nam...</td>\n",
       "      <td>[{\"id\": 818, \"name\": \"based on novel\"}, {\"id\":...</td>\n",
       "      <td>[{\"cast_id\": 5, \"character\": \"John Carter\", \"c...</td>\n",
       "      <td>[{\"credit_id\": \"52fe479ac3a36847f813eaa3\", \"de...</td>\n",
       "      <td>6.1</td>\n",
       "    </tr>\n",
       "  </tbody>\n",
       "</table>\n",
       "</div>"
      ],
      "text/plain": [
       "       id                                     title  \\\n",
       "0   19995                                    Avatar   \n",
       "1     285  Pirates of the Caribbean: At World's End   \n",
       "2  206647                                   Spectre   \n",
       "3   49026                     The Dark Knight Rises   \n",
       "4   49529                               John Carter   \n",
       "\n",
       "                                            overview  \\\n",
       "0  In the 22nd century, a paraplegic Marine is di...   \n",
       "1  Captain Barbossa, long believed to be dead, ha...   \n",
       "2  A cryptic message from Bond’s past sends him o...   \n",
       "3  Following the death of District Attorney Harve...   \n",
       "4  John Carter is a war-weary, former military ca...   \n",
       "\n",
       "                                              genres  \\\n",
       "0  [{\"id\": 28, \"name\": \"Action\"}, {\"id\": 12, \"nam...   \n",
       "1  [{\"id\": 12, \"name\": \"Adventure\"}, {\"id\": 14, \"...   \n",
       "2  [{\"id\": 28, \"name\": \"Action\"}, {\"id\": 12, \"nam...   \n",
       "3  [{\"id\": 28, \"name\": \"Action\"}, {\"id\": 80, \"nam...   \n",
       "4  [{\"id\": 28, \"name\": \"Action\"}, {\"id\": 12, \"nam...   \n",
       "\n",
       "                                            keywords  \\\n",
       "0  [{\"id\": 1463, \"name\": \"culture clash\"}, {\"id\":...   \n",
       "1  [{\"id\": 270, \"name\": \"ocean\"}, {\"id\": 726, \"na...   \n",
       "2  [{\"id\": 470, \"name\": \"spy\"}, {\"id\": 818, \"name...   \n",
       "3  [{\"id\": 849, \"name\": \"dc comics\"}, {\"id\": 853,...   \n",
       "4  [{\"id\": 818, \"name\": \"based on novel\"}, {\"id\":...   \n",
       "\n",
       "                                                cast  \\\n",
       "0  [{\"cast_id\": 242, \"character\": \"Jake Sully\", \"...   \n",
       "1  [{\"cast_id\": 4, \"character\": \"Captain Jack Spa...   \n",
       "2  [{\"cast_id\": 1, \"character\": \"James Bond\", \"cr...   \n",
       "3  [{\"cast_id\": 2, \"character\": \"Bruce Wayne / Ba...   \n",
       "4  [{\"cast_id\": 5, \"character\": \"John Carter\", \"c...   \n",
       "\n",
       "                                                crew  vote_average  \n",
       "0  [{\"credit_id\": \"52fe48009251416c750aca23\", \"de...           7.2  \n",
       "1  [{\"credit_id\": \"52fe4232c3a36847f800b579\", \"de...           6.9  \n",
       "2  [{\"credit_id\": \"54805967c3a36829b5002c41\", \"de...           6.3  \n",
       "3  [{\"credit_id\": \"52fe4781c3a36847f81398c3\", \"de...           7.6  \n",
       "4  [{\"credit_id\": \"52fe479ac3a36847f813eaa3\", \"de...           6.1  "
      ]
     },
     "execution_count": 378,
     "metadata": {},
     "output_type": "execute_result"
    }
   ],
   "source": [
    "movies_5000.head()"
   ]
  },
  {
   "cell_type": "code",
   "execution_count": 379,
   "metadata": {},
   "outputs": [
    {
     "data": {
      "text/plain": [
       "(3901, 8)"
      ]
     },
     "execution_count": 379,
     "metadata": {},
     "output_type": "execute_result"
    }
   ],
   "source": [
    "movies.shape"
   ]
  },
  {
   "cell_type": "code",
   "execution_count": 380,
   "metadata": {},
   "outputs": [
    {
     "data": {
      "text/plain": [
       "(4803, 8)"
      ]
     },
     "execution_count": 380,
     "metadata": {},
     "output_type": "execute_result"
    }
   ],
   "source": [
    "movies_5000.shape"
   ]
  },
  {
   "cell_type": "code",
   "execution_count": 381,
   "metadata": {},
   "outputs": [
    {
     "data": {
      "text/plain": [
       "id                0\n",
       "title             0\n",
       "overview         25\n",
       "genres           12\n",
       "keywords        258\n",
       "cast              0\n",
       "crew              0\n",
       "vote_average      0\n",
       "dtype: int64"
      ]
     },
     "execution_count": 381,
     "metadata": {},
     "output_type": "execute_result"
    }
   ],
   "source": [
    "movies.isnull().sum()"
   ]
  },
  {
   "cell_type": "code",
   "execution_count": 382,
   "metadata": {},
   "outputs": [
    {
     "data": {
      "text/plain": [
       "id              0\n",
       "title           0\n",
       "overview        3\n",
       "genres          0\n",
       "keywords        0\n",
       "cast            0\n",
       "crew            0\n",
       "vote_average    0\n",
       "dtype: int64"
      ]
     },
     "execution_count": 382,
     "metadata": {},
     "output_type": "execute_result"
    }
   ],
   "source": [
    "movies_5000.isnull().sum()"
   ]
  },
  {
   "cell_type": "code",
   "execution_count": 383,
   "metadata": {},
   "outputs": [],
   "source": [
    "movies_5000.dropna(inplace=True)"
   ]
  },
  {
   "cell_type": "code",
   "execution_count": 384,
   "metadata": {},
   "outputs": [
    {
     "data": {
      "text/plain": [
       "id              0\n",
       "title           0\n",
       "overview        0\n",
       "genres          0\n",
       "keywords        0\n",
       "cast            0\n",
       "crew            0\n",
       "vote_average    0\n",
       "dtype: int64"
      ]
     },
     "execution_count": 384,
     "metadata": {},
     "output_type": "execute_result"
    }
   ],
   "source": [
    "movies_5000.isnull().sum()"
   ]
  },
  {
   "cell_type": "code",
   "execution_count": 385,
   "metadata": {},
   "outputs": [],
   "source": [
    "movies = movies.dropna(subset=['overview', 'genres'])"
   ]
  },
  {
   "cell_type": "code",
   "execution_count": 386,
   "metadata": {},
   "outputs": [],
   "source": [
    "movies['keywords'].fillna('', inplace=True)"
   ]
  },
  {
   "cell_type": "code",
   "execution_count": 387,
   "metadata": {},
   "outputs": [
    {
     "data": {
      "text/plain": [
       "id              0\n",
       "title           0\n",
       "overview        0\n",
       "genres          0\n",
       "keywords        0\n",
       "cast            0\n",
       "crew            0\n",
       "vote_average    0\n",
       "dtype: int64"
      ]
     },
     "execution_count": 387,
     "metadata": {},
     "output_type": "execute_result"
    }
   ],
   "source": [
    "movies.isnull().sum()"
   ]
  },
  {
   "cell_type": "code",
   "execution_count": 388,
   "metadata": {},
   "outputs": [
    {
     "data": {
      "text/plain": [
       "(4800, 8)"
      ]
     },
     "execution_count": 388,
     "metadata": {},
     "output_type": "execute_result"
    }
   ],
   "source": [
    "movies_5000.shape"
   ]
  },
  {
   "cell_type": "code",
   "execution_count": 389,
   "metadata": {},
   "outputs": [
    {
     "data": {
      "text/plain": [
       "(3866, 8)"
      ]
     },
     "execution_count": 389,
     "metadata": {},
     "output_type": "execute_result"
    }
   ],
   "source": [
    "movies.shape"
   ]
  },
  {
   "cell_type": "code",
   "execution_count": 390,
   "metadata": {},
   "outputs": [],
   "source": [
    "movies['genres'] = movies['genres'].apply(lambda x: x.split(','))\n",
    "movies['keywords'] = movies['keywords'].apply(lambda x: x.split(','))"
   ]
  },
  {
   "cell_type": "code",
   "execution_count": 391,
   "metadata": {},
   "outputs": [
    {
     "data": {
      "text/html": [
       "<div>\n",
       "<style scoped>\n",
       "    .dataframe tbody tr th:only-of-type {\n",
       "        vertical-align: middle;\n",
       "    }\n",
       "\n",
       "    .dataframe tbody tr th {\n",
       "        vertical-align: top;\n",
       "    }\n",
       "\n",
       "    .dataframe thead th {\n",
       "        text-align: right;\n",
       "    }\n",
       "</style>\n",
       "<table border=\"1\" class=\"dataframe\">\n",
       "  <thead>\n",
       "    <tr style=\"text-align: right;\">\n",
       "      <th></th>\n",
       "      <th>id</th>\n",
       "      <th>title</th>\n",
       "      <th>overview</th>\n",
       "      <th>genres</th>\n",
       "      <th>keywords</th>\n",
       "      <th>cast</th>\n",
       "      <th>crew</th>\n",
       "      <th>vote_average</th>\n",
       "    </tr>\n",
       "  </thead>\n",
       "  <tbody>\n",
       "    <tr>\n",
       "      <th>2294</th>\n",
       "      <td>989937</td>\n",
       "      <td>The Seven Deadly Sins: Grudge of Edinburgh Part 1</td>\n",
       "      <td>Tristan, the son of Meliodas and Elizabeth, in...</td>\n",
       "      <td>[Animation,  Fantasy,  Adventure,  Action]</td>\n",
       "      <td>[based on manga,  anime]</td>\n",
       "      <td>[{'name': 'Ayumu Murase', 'role': 'Tristan (vo...</td>\n",
       "      <td>[{'name': 'Bob Shirohata', 'department': 'Dire...</td>\n",
       "      <td>7.802</td>\n",
       "    </tr>\n",
       "  </tbody>\n",
       "</table>\n",
       "</div>"
      ],
      "text/plain": [
       "          id                                              title  \\\n",
       "2294  989937  The Seven Deadly Sins: Grudge of Edinburgh Part 1   \n",
       "\n",
       "                                               overview  \\\n",
       "2294  Tristan, the son of Meliodas and Elizabeth, in...   \n",
       "\n",
       "                                          genres                  keywords  \\\n",
       "2294  [Animation,  Fantasy,  Adventure,  Action]  [based on manga,  anime]   \n",
       "\n",
       "                                                   cast  \\\n",
       "2294  [{'name': 'Ayumu Murase', 'role': 'Tristan (vo...   \n",
       "\n",
       "                                                   crew  vote_average  \n",
       "2294  [{'name': 'Bob Shirohata', 'department': 'Dire...         7.802  "
      ]
     },
     "execution_count": 391,
     "metadata": {},
     "output_type": "execute_result"
    }
   ],
   "source": [
    "movies.sample()"
   ]
  },
  {
   "cell_type": "code",
   "execution_count": 392,
   "metadata": {},
   "outputs": [],
   "source": [
    "import ast\n",
    "\n",
    "def getCast(str_obj):\n",
    "    obj = ast.literal_eval(str_obj)\n",
    "    top3 = 3\n",
    "    cast = []\n",
    "    for i in obj[:top3]:\n",
    "        cast.append(i['name'])\n",
    "\n",
    "    return cast"
   ]
  },
  {
   "cell_type": "code",
   "execution_count": 393,
   "metadata": {},
   "outputs": [],
   "source": [
    "movies['cast'] = movies['cast'].apply(getCast)"
   ]
  },
  {
   "cell_type": "code",
   "execution_count": 394,
   "metadata": {},
   "outputs": [
    {
     "data": {
      "text/html": [
       "<div>\n",
       "<style scoped>\n",
       "    .dataframe tbody tr th:only-of-type {\n",
       "        vertical-align: middle;\n",
       "    }\n",
       "\n",
       "    .dataframe tbody tr th {\n",
       "        vertical-align: top;\n",
       "    }\n",
       "\n",
       "    .dataframe thead th {\n",
       "        text-align: right;\n",
       "    }\n",
       "</style>\n",
       "<table border=\"1\" class=\"dataframe\">\n",
       "  <thead>\n",
       "    <tr style=\"text-align: right;\">\n",
       "      <th></th>\n",
       "      <th>id</th>\n",
       "      <th>title</th>\n",
       "      <th>overview</th>\n",
       "      <th>genres</th>\n",
       "      <th>keywords</th>\n",
       "      <th>cast</th>\n",
       "      <th>crew</th>\n",
       "      <th>vote_average</th>\n",
       "    </tr>\n",
       "  </thead>\n",
       "  <tbody>\n",
       "    <tr>\n",
       "      <th>2079</th>\n",
       "      <td>544401</td>\n",
       "      <td>Cherry</td>\n",
       "      <td>Cherry drifts from college dropout to army med...</td>\n",
       "      <td>[Drama,  Crime]</td>\n",
       "      <td>[post-traumatic stress disorder (ptsd),  based...</td>\n",
       "      <td>[Tom Holland, Ciara Bravo, Jack Reynor]</td>\n",
       "      <td>[{'name': 'Dustin Bowser', 'department': 'Visu...</td>\n",
       "      <td>7.351</td>\n",
       "    </tr>\n",
       "  </tbody>\n",
       "</table>\n",
       "</div>"
      ],
      "text/plain": [
       "          id   title                                           overview  \\\n",
       "2079  544401  Cherry  Cherry drifts from college dropout to army med...   \n",
       "\n",
       "               genres                                           keywords  \\\n",
       "2079  [Drama,  Crime]  [post-traumatic stress disorder (ptsd),  based...   \n",
       "\n",
       "                                         cast  \\\n",
       "2079  [Tom Holland, Ciara Bravo, Jack Reynor]   \n",
       "\n",
       "                                                   crew  vote_average  \n",
       "2079  [{'name': 'Dustin Bowser', 'department': 'Visu...         7.351  "
      ]
     },
     "execution_count": 394,
     "metadata": {},
     "output_type": "execute_result"
    }
   ],
   "source": [
    "movies.sample()"
   ]
  },
  {
   "cell_type": "code",
   "execution_count": 395,
   "metadata": {},
   "outputs": [],
   "source": [
    "def getDirector(str_obj):\n",
    "    obj = ast.literal_eval(str_obj)\n",
    "    director = []\n",
    "    for role in obj:\n",
    "        if role['department'] == 'Directing':\n",
    "            director.append(role['name'])\n",
    "    \n",
    "    return director"
   ]
  },
  {
   "cell_type": "code",
   "execution_count": 396,
   "metadata": {},
   "outputs": [],
   "source": [
    "movies['director'] = movies['crew'].apply(getDirector)"
   ]
  },
  {
   "cell_type": "code",
   "execution_count": 397,
   "metadata": {},
   "outputs": [
    {
     "data": {
      "text/html": [
       "<div>\n",
       "<style scoped>\n",
       "    .dataframe tbody tr th:only-of-type {\n",
       "        vertical-align: middle;\n",
       "    }\n",
       "\n",
       "    .dataframe tbody tr th {\n",
       "        vertical-align: top;\n",
       "    }\n",
       "\n",
       "    .dataframe thead th {\n",
       "        text-align: right;\n",
       "    }\n",
       "</style>\n",
       "<table border=\"1\" class=\"dataframe\">\n",
       "  <thead>\n",
       "    <tr style=\"text-align: right;\">\n",
       "      <th></th>\n",
       "      <th>id</th>\n",
       "      <th>title</th>\n",
       "      <th>overview</th>\n",
       "      <th>genres</th>\n",
       "      <th>keywords</th>\n",
       "      <th>cast</th>\n",
       "      <th>crew</th>\n",
       "      <th>vote_average</th>\n",
       "      <th>director</th>\n",
       "    </tr>\n",
       "  </thead>\n",
       "  <tbody>\n",
       "    <tr>\n",
       "      <th>104</th>\n",
       "      <td>155</td>\n",
       "      <td>The Dark Knight</td>\n",
       "      <td>Batman raises the stakes in his war on crime. ...</td>\n",
       "      <td>[Drama,  Action,  Crime,  Thriller]</td>\n",
       "      <td>[joker,  sadism,  chaos,  secret identity,  cr...</td>\n",
       "      <td>[Christian Bale, Heath Ledger, Aaron Eckhart]</td>\n",
       "      <td>[{'name': 'Lee Smith', 'department': 'Editing'...</td>\n",
       "      <td>8.519</td>\n",
       "      <td>[Steve Gehrke, Brandon Lambdin, Nilo Otero, Ch...</td>\n",
       "    </tr>\n",
       "  </tbody>\n",
       "</table>\n",
       "</div>"
      ],
      "text/plain": [
       "      id            title                                           overview  \\\n",
       "104  155  The Dark Knight  Batman raises the stakes in his war on crime. ...   \n",
       "\n",
       "                                  genres  \\\n",
       "104  [Drama,  Action,  Crime,  Thriller]   \n",
       "\n",
       "                                              keywords  \\\n",
       "104  [joker,  sadism,  chaos,  secret identity,  cr...   \n",
       "\n",
       "                                              cast  \\\n",
       "104  [Christian Bale, Heath Ledger, Aaron Eckhart]   \n",
       "\n",
       "                                                  crew  vote_average  \\\n",
       "104  [{'name': 'Lee Smith', 'department': 'Editing'...         8.519   \n",
       "\n",
       "                                              director  \n",
       "104  [Steve Gehrke, Brandon Lambdin, Nilo Otero, Ch...  "
      ]
     },
     "execution_count": 397,
     "metadata": {},
     "output_type": "execute_result"
    }
   ],
   "source": [
    "movies[movies['title'] == 'The Dark Knight']"
   ]
  },
  {
   "cell_type": "code",
   "execution_count": 398,
   "metadata": {},
   "outputs": [],
   "source": [
    "movies.drop('crew', axis = 1, inplace = True)"
   ]
  },
  {
   "cell_type": "code",
   "execution_count": 399,
   "metadata": {},
   "outputs": [
    {
     "data": {
      "text/html": [
       "<div>\n",
       "<style scoped>\n",
       "    .dataframe tbody tr th:only-of-type {\n",
       "        vertical-align: middle;\n",
       "    }\n",
       "\n",
       "    .dataframe tbody tr th {\n",
       "        vertical-align: top;\n",
       "    }\n",
       "\n",
       "    .dataframe thead th {\n",
       "        text-align: right;\n",
       "    }\n",
       "</style>\n",
       "<table border=\"1\" class=\"dataframe\">\n",
       "  <thead>\n",
       "    <tr style=\"text-align: right;\">\n",
       "      <th></th>\n",
       "      <th>id</th>\n",
       "      <th>title</th>\n",
       "      <th>overview</th>\n",
       "      <th>genres</th>\n",
       "      <th>keywords</th>\n",
       "      <th>cast</th>\n",
       "      <th>vote_average</th>\n",
       "      <th>director</th>\n",
       "    </tr>\n",
       "  </thead>\n",
       "  <tbody>\n",
       "    <tr>\n",
       "      <th>722</th>\n",
       "      <td>1059372</td>\n",
       "      <td>Dear David</td>\n",
       "      <td>A secret fantasy blog might jeopardize the pro...</td>\n",
       "      <td>[Drama,  Romance,  Fantasy]</td>\n",
       "      <td>[high school,  bullying,  love,  student]</td>\n",
       "      <td>[Shenina Cinnamon, Emir Mahira, Caitlin North ...</td>\n",
       "      <td>6.2</td>\n",
       "      <td>[Lucky Kuswandi]</td>\n",
       "    </tr>\n",
       "  </tbody>\n",
       "</table>\n",
       "</div>"
      ],
      "text/plain": [
       "          id       title                                           overview  \\\n",
       "722  1059372  Dear David  A secret fantasy blog might jeopardize the pro...   \n",
       "\n",
       "                          genres                                   keywords  \\\n",
       "722  [Drama,  Romance,  Fantasy]  [high school,  bullying,  love,  student]   \n",
       "\n",
       "                                                  cast  vote_average  \\\n",
       "722  [Shenina Cinnamon, Emir Mahira, Caitlin North ...           6.2   \n",
       "\n",
       "             director  \n",
       "722  [Lucky Kuswandi]  "
      ]
     },
     "execution_count": 399,
     "metadata": {},
     "output_type": "execute_result"
    }
   ],
   "source": [
    "movies.sample()"
   ]
  },
  {
   "cell_type": "code",
   "execution_count": 400,
   "metadata": {},
   "outputs": [
    {
     "data": {
      "text/html": [
       "<div>\n",
       "<style scoped>\n",
       "    .dataframe tbody tr th:only-of-type {\n",
       "        vertical-align: middle;\n",
       "    }\n",
       "\n",
       "    .dataframe tbody tr th {\n",
       "        vertical-align: top;\n",
       "    }\n",
       "\n",
       "    .dataframe thead th {\n",
       "        text-align: right;\n",
       "    }\n",
       "</style>\n",
       "<table border=\"1\" class=\"dataframe\">\n",
       "  <thead>\n",
       "    <tr style=\"text-align: right;\">\n",
       "      <th></th>\n",
       "      <th>id</th>\n",
       "      <th>title</th>\n",
       "      <th>overview</th>\n",
       "      <th>genres</th>\n",
       "      <th>keywords</th>\n",
       "      <th>cast</th>\n",
       "      <th>crew</th>\n",
       "      <th>vote_average</th>\n",
       "    </tr>\n",
       "  </thead>\n",
       "  <tbody>\n",
       "    <tr>\n",
       "      <th>0</th>\n",
       "      <td>19995</td>\n",
       "      <td>Avatar</td>\n",
       "      <td>In the 22nd century, a paraplegic Marine is di...</td>\n",
       "      <td>[{\"id\": 28, \"name\": \"Action\"}, {\"id\": 12, \"nam...</td>\n",
       "      <td>[{\"id\": 1463, \"name\": \"culture clash\"}, {\"id\":...</td>\n",
       "      <td>[{\"cast_id\": 242, \"character\": \"Jake Sully\", \"...</td>\n",
       "      <td>[{\"credit_id\": \"52fe48009251416c750aca23\", \"de...</td>\n",
       "      <td>7.2</td>\n",
       "    </tr>\n",
       "  </tbody>\n",
       "</table>\n",
       "</div>"
      ],
      "text/plain": [
       "      id   title                                           overview  \\\n",
       "0  19995  Avatar  In the 22nd century, a paraplegic Marine is di...   \n",
       "\n",
       "                                              genres  \\\n",
       "0  [{\"id\": 28, \"name\": \"Action\"}, {\"id\": 12, \"nam...   \n",
       "\n",
       "                                            keywords  \\\n",
       "0  [{\"id\": 1463, \"name\": \"culture clash\"}, {\"id\":...   \n",
       "\n",
       "                                                cast  \\\n",
       "0  [{\"cast_id\": 242, \"character\": \"Jake Sully\", \"...   \n",
       "\n",
       "                                                crew  vote_average  \n",
       "0  [{\"credit_id\": \"52fe48009251416c750aca23\", \"de...           7.2  "
      ]
     },
     "execution_count": 400,
     "metadata": {},
     "output_type": "execute_result"
    }
   ],
   "source": [
    "movies_5000.head(1)"
   ]
  },
  {
   "cell_type": "code",
   "execution_count": 401,
   "metadata": {},
   "outputs": [],
   "source": [
    "def getName(str_obj):\n",
    "    obj = ast.literal_eval(str_obj)\n",
    "    name = []\n",
    "    for i in obj:\n",
    "        name.append(i['name'])\n",
    "    \n",
    "    return name"
   ]
  },
  {
   "cell_type": "code",
   "execution_count": 402,
   "metadata": {},
   "outputs": [],
   "source": [
    "movies_5000['genres'] = movies_5000['genres'].apply(getName)\n",
    "movies_5000['keywords'] = movies_5000['keywords'].apply(getName)"
   ]
  },
  {
   "cell_type": "code",
   "execution_count": 403,
   "metadata": {},
   "outputs": [
    {
     "data": {
      "text/html": [
       "<div>\n",
       "<style scoped>\n",
       "    .dataframe tbody tr th:only-of-type {\n",
       "        vertical-align: middle;\n",
       "    }\n",
       "\n",
       "    .dataframe tbody tr th {\n",
       "        vertical-align: top;\n",
       "    }\n",
       "\n",
       "    .dataframe thead th {\n",
       "        text-align: right;\n",
       "    }\n",
       "</style>\n",
       "<table border=\"1\" class=\"dataframe\">\n",
       "  <thead>\n",
       "    <tr style=\"text-align: right;\">\n",
       "      <th></th>\n",
       "      <th>id</th>\n",
       "      <th>title</th>\n",
       "      <th>overview</th>\n",
       "      <th>genres</th>\n",
       "      <th>keywords</th>\n",
       "      <th>cast</th>\n",
       "      <th>crew</th>\n",
       "      <th>vote_average</th>\n",
       "    </tr>\n",
       "  </thead>\n",
       "  <tbody>\n",
       "    <tr>\n",
       "      <th>1665</th>\n",
       "      <td>11162</td>\n",
       "      <td>The Merchant of Venice</td>\n",
       "      <td>In 16th century Venice, when a merchant must d...</td>\n",
       "      <td>[Drama, Romance]</td>\n",
       "      <td>[venice, shakespeare, jew, ship, salesperson, ...</td>\n",
       "      <td>[{\"cast_id\": 1, \"character\": \"Shylock\", \"credi...</td>\n",
       "      <td>[{\"credit_id\": \"52fe44049251416c750262b9\", \"de...</td>\n",
       "      <td>6.7</td>\n",
       "    </tr>\n",
       "  </tbody>\n",
       "</table>\n",
       "</div>"
      ],
      "text/plain": [
       "         id                   title  \\\n",
       "1665  11162  The Merchant of Venice   \n",
       "\n",
       "                                               overview            genres  \\\n",
       "1665  In 16th century Venice, when a merchant must d...  [Drama, Romance]   \n",
       "\n",
       "                                               keywords  \\\n",
       "1665  [venice, shakespeare, jew, ship, salesperson, ...   \n",
       "\n",
       "                                                   cast  \\\n",
       "1665  [{\"cast_id\": 1, \"character\": \"Shylock\", \"credi...   \n",
       "\n",
       "                                                   crew  vote_average  \n",
       "1665  [{\"credit_id\": \"52fe44049251416c750262b9\", \"de...           6.7  "
      ]
     },
     "execution_count": 403,
     "metadata": {},
     "output_type": "execute_result"
    }
   ],
   "source": [
    "movies_5000.sample()"
   ]
  },
  {
   "cell_type": "code",
   "execution_count": 404,
   "metadata": {},
   "outputs": [],
   "source": [
    "def getCast(str_obj):\n",
    "    obj = ast.literal_eval(str_obj)\n",
    "    top3 = 3\n",
    "    cast = []\n",
    "\n",
    "    for i in obj[:top3]:\n",
    "        cast.append(i['name'])\n",
    "\n",
    "    return cast\n"
   ]
  },
  {
   "cell_type": "code",
   "execution_count": 405,
   "metadata": {},
   "outputs": [],
   "source": [
    "movies_5000['cast'] = movies_5000['cast'].apply(getCast)"
   ]
  },
  {
   "cell_type": "code",
   "execution_count": 406,
   "metadata": {},
   "outputs": [
    {
     "data": {
      "text/html": [
       "<div>\n",
       "<style scoped>\n",
       "    .dataframe tbody tr th:only-of-type {\n",
       "        vertical-align: middle;\n",
       "    }\n",
       "\n",
       "    .dataframe tbody tr th {\n",
       "        vertical-align: top;\n",
       "    }\n",
       "\n",
       "    .dataframe thead th {\n",
       "        text-align: right;\n",
       "    }\n",
       "</style>\n",
       "<table border=\"1\" class=\"dataframe\">\n",
       "  <thead>\n",
       "    <tr style=\"text-align: right;\">\n",
       "      <th></th>\n",
       "      <th>id</th>\n",
       "      <th>title</th>\n",
       "      <th>overview</th>\n",
       "      <th>genres</th>\n",
       "      <th>keywords</th>\n",
       "      <th>cast</th>\n",
       "      <th>crew</th>\n",
       "      <th>vote_average</th>\n",
       "    </tr>\n",
       "  </thead>\n",
       "  <tbody>\n",
       "    <tr>\n",
       "      <th>1828</th>\n",
       "      <td>117</td>\n",
       "      <td>The Untouchables</td>\n",
       "      <td>Young Treasury Agent Elliot Ness arrives in Ch...</td>\n",
       "      <td>[Crime, Drama, History, Thriller]</td>\n",
       "      <td>[white suit, al capone, tough cop, treasury ag...</td>\n",
       "      <td>[Kevin Costner, Sean Connery, Charles Martin S...</td>\n",
       "      <td>[{\"credit_id\": \"52fe421ac3a36847f8004273\", \"de...</td>\n",
       "      <td>7.6</td>\n",
       "    </tr>\n",
       "  </tbody>\n",
       "</table>\n",
       "</div>"
      ],
      "text/plain": [
       "       id             title  \\\n",
       "1828  117  The Untouchables   \n",
       "\n",
       "                                               overview  \\\n",
       "1828  Young Treasury Agent Elliot Ness arrives in Ch...   \n",
       "\n",
       "                                 genres  \\\n",
       "1828  [Crime, Drama, History, Thriller]   \n",
       "\n",
       "                                               keywords  \\\n",
       "1828  [white suit, al capone, tough cop, treasury ag...   \n",
       "\n",
       "                                                   cast  \\\n",
       "1828  [Kevin Costner, Sean Connery, Charles Martin S...   \n",
       "\n",
       "                                                   crew  vote_average  \n",
       "1828  [{\"credit_id\": \"52fe421ac3a36847f8004273\", \"de...           7.6  "
      ]
     },
     "execution_count": 406,
     "metadata": {},
     "output_type": "execute_result"
    }
   ],
   "source": [
    "movies_5000.sample()"
   ]
  },
  {
   "cell_type": "code",
   "execution_count": 407,
   "metadata": {},
   "outputs": [],
   "source": [
    "def getDirector(str_obj):\n",
    "    obj = ast.literal_eval(str_obj)\n",
    "\n",
    "    director = []\n",
    "\n",
    "    for i in obj:\n",
    "        if i['department'] == 'Directing':\n",
    "            director.append(i['name'])\n",
    "    \n",
    "    return director"
   ]
  },
  {
   "cell_type": "code",
   "execution_count": 408,
   "metadata": {},
   "outputs": [],
   "source": [
    "movies_5000['director'] = movies_5000['crew'].apply(getDirector)"
   ]
  },
  {
   "cell_type": "code",
   "execution_count": 409,
   "metadata": {},
   "outputs": [],
   "source": [
    "movies_5000.drop('crew', axis = 1, inplace = True)"
   ]
  },
  {
   "cell_type": "code",
   "execution_count": 410,
   "metadata": {},
   "outputs": [
    {
     "data": {
      "text/html": [
       "<div>\n",
       "<style scoped>\n",
       "    .dataframe tbody tr th:only-of-type {\n",
       "        vertical-align: middle;\n",
       "    }\n",
       "\n",
       "    .dataframe tbody tr th {\n",
       "        vertical-align: top;\n",
       "    }\n",
       "\n",
       "    .dataframe thead th {\n",
       "        text-align: right;\n",
       "    }\n",
       "</style>\n",
       "<table border=\"1\" class=\"dataframe\">\n",
       "  <thead>\n",
       "    <tr style=\"text-align: right;\">\n",
       "      <th></th>\n",
       "      <th>id</th>\n",
       "      <th>title</th>\n",
       "      <th>overview</th>\n",
       "      <th>genres</th>\n",
       "      <th>keywords</th>\n",
       "      <th>cast</th>\n",
       "      <th>vote_average</th>\n",
       "      <th>director</th>\n",
       "    </tr>\n",
       "  </thead>\n",
       "  <tbody>\n",
       "    <tr>\n",
       "      <th>2816</th>\n",
       "      <td>3049</td>\n",
       "      <td>Ace Ventura: Pet Detective</td>\n",
       "      <td>He's Ace Ventura: Pet Detective. Jim Carrey is...</td>\n",
       "      <td>[Comedy, Mystery]</td>\n",
       "      <td>[dolphin, mascot, private detective, pets]</td>\n",
       "      <td>[Jim Carrey, Sean Young, Courteney Cox]</td>\n",
       "      <td>6.4</td>\n",
       "      <td>[Tom Shadyac]</td>\n",
       "    </tr>\n",
       "  </tbody>\n",
       "</table>\n",
       "</div>"
      ],
      "text/plain": [
       "        id                       title  \\\n",
       "2816  3049  Ace Ventura: Pet Detective   \n",
       "\n",
       "                                               overview             genres  \\\n",
       "2816  He's Ace Ventura: Pet Detective. Jim Carrey is...  [Comedy, Mystery]   \n",
       "\n",
       "                                        keywords  \\\n",
       "2816  [dolphin, mascot, private detective, pets]   \n",
       "\n",
       "                                         cast  vote_average       director  \n",
       "2816  [Jim Carrey, Sean Young, Courteney Cox]           6.4  [Tom Shadyac]  "
      ]
     },
     "execution_count": 410,
     "metadata": {},
     "output_type": "execute_result"
    }
   ],
   "source": [
    "movies_5000.sample()"
   ]
  },
  {
   "cell_type": "code",
   "execution_count": 411,
   "metadata": {},
   "outputs": [
    {
     "data": {
      "text/html": [
       "<div>\n",
       "<style scoped>\n",
       "    .dataframe tbody tr th:only-of-type {\n",
       "        vertical-align: middle;\n",
       "    }\n",
       "\n",
       "    .dataframe tbody tr th {\n",
       "        vertical-align: top;\n",
       "    }\n",
       "\n",
       "    .dataframe thead th {\n",
       "        text-align: right;\n",
       "    }\n",
       "</style>\n",
       "<table border=\"1\" class=\"dataframe\">\n",
       "  <thead>\n",
       "    <tr style=\"text-align: right;\">\n",
       "      <th></th>\n",
       "      <th>id</th>\n",
       "      <th>title</th>\n",
       "      <th>overview</th>\n",
       "      <th>genres</th>\n",
       "      <th>keywords</th>\n",
       "      <th>cast</th>\n",
       "      <th>vote_average</th>\n",
       "      <th>director</th>\n",
       "    </tr>\n",
       "  </thead>\n",
       "  <tbody>\n",
       "    <tr>\n",
       "      <th>630</th>\n",
       "      <td>615777</td>\n",
       "      <td>Babylon</td>\n",
       "      <td>A tale of outsized ambition and outrageous exc...</td>\n",
       "      <td>[Drama,  Comedy]</td>\n",
       "      <td>[elephant,  gambling,  gambling debt,  movie b...</td>\n",
       "      <td>[Brad Pitt, Margot Robbie, Diego Calva]</td>\n",
       "      <td>7.376</td>\n",
       "      <td>[Robert E. Kay, Bob Wagner, David Marnell, Car...</td>\n",
       "    </tr>\n",
       "  </tbody>\n",
       "</table>\n",
       "</div>"
      ],
      "text/plain": [
       "         id    title                                           overview  \\\n",
       "630  615777  Babylon  A tale of outsized ambition and outrageous exc...   \n",
       "\n",
       "               genres                                           keywords  \\\n",
       "630  [Drama,  Comedy]  [elephant,  gambling,  gambling debt,  movie b...   \n",
       "\n",
       "                                        cast  vote_average  \\\n",
       "630  [Brad Pitt, Margot Robbie, Diego Calva]         7.376   \n",
       "\n",
       "                                              director  \n",
       "630  [Robert E. Kay, Bob Wagner, David Marnell, Car...  "
      ]
     },
     "execution_count": 411,
     "metadata": {},
     "output_type": "execute_result"
    }
   ],
   "source": [
    "movies.sample()"
   ]
  },
  {
   "cell_type": "code",
   "execution_count": 412,
   "metadata": {},
   "outputs": [
    {
     "name": "stdout",
     "output_type": "stream",
     "text": [
      "movies: (3866, 8)\n",
      "movies_5000: (4800, 8)\n"
     ]
    }
   ],
   "source": [
    "print('movies:', movies.shape)\n",
    "print('movies_5000:', movies_5000.shape)"
   ]
  },
  {
   "cell_type": "code",
   "execution_count": null,
   "metadata": {},
   "outputs": [
    {
     "data": {
      "text/plain": [
       "Index(['genres', 'keywords', 'cast', 'vote_average', 'director'], dtype='object')"
      ]
     },
     "execution_count": 413,
     "metadata": {},
     "output_type": "execute_result"
    }
   ],
   "source": [
    "cols = movies.columns[3:]\n",
    "cols"
   ]
  },
  {
   "cell_type": "code",
   "execution_count": 415,
   "metadata": {},
   "outputs": [],
   "source": [
    "for col_name in cols:\n",
    "    if col_name == 'vote_average':continue\n",
    "    movies[col_name] = movies[col_name].apply(lambda cast : [name.replace(' ', '') for name in cast])\n",
    "    movies_5000[col_name] = movies_5000[col_name].apply(lambda cast : [name.replace(' ', '') for name in cast])"
   ]
  },
  {
   "cell_type": "code",
   "execution_count": 416,
   "metadata": {},
   "outputs": [
    {
     "data": {
      "text/html": [
       "<div>\n",
       "<style scoped>\n",
       "    .dataframe tbody tr th:only-of-type {\n",
       "        vertical-align: middle;\n",
       "    }\n",
       "\n",
       "    .dataframe tbody tr th {\n",
       "        vertical-align: top;\n",
       "    }\n",
       "\n",
       "    .dataframe thead th {\n",
       "        text-align: right;\n",
       "    }\n",
       "</style>\n",
       "<table border=\"1\" class=\"dataframe\">\n",
       "  <thead>\n",
       "    <tr style=\"text-align: right;\">\n",
       "      <th></th>\n",
       "      <th>id</th>\n",
       "      <th>title</th>\n",
       "      <th>overview</th>\n",
       "      <th>genres</th>\n",
       "      <th>keywords</th>\n",
       "      <th>cast</th>\n",
       "      <th>vote_average</th>\n",
       "      <th>director</th>\n",
       "    </tr>\n",
       "  </thead>\n",
       "  <tbody>\n",
       "    <tr>\n",
       "      <th>4321</th>\n",
       "      <td>39895</td>\n",
       "      <td>From a Whisper to a Scream</td>\n",
       "      <td>The uncle of an executed murderess relates fou...</td>\n",
       "      <td>[Comedy, Horror]</td>\n",
       "      <td>[civilwar, narration, voodoo, necrophilia, ant...</td>\n",
       "      <td>[VincentPrice, CluGulager, TerryKiser]</td>\n",
       "      <td>6.8</td>\n",
       "      <td>[JeffBurr]</td>\n",
       "    </tr>\n",
       "  </tbody>\n",
       "</table>\n",
       "</div>"
      ],
      "text/plain": [
       "         id                       title  \\\n",
       "4321  39895  From a Whisper to a Scream   \n",
       "\n",
       "                                               overview            genres  \\\n",
       "4321  The uncle of an executed murderess relates fou...  [Comedy, Horror]   \n",
       "\n",
       "                                               keywords  \\\n",
       "4321  [civilwar, narration, voodoo, necrophilia, ant...   \n",
       "\n",
       "                                        cast  vote_average    director  \n",
       "4321  [VincentPrice, CluGulager, TerryKiser]           6.8  [JeffBurr]  "
      ]
     },
     "execution_count": 416,
     "metadata": {},
     "output_type": "execute_result"
    }
   ],
   "source": [
    "movies_5000.sample()"
   ]
  },
  {
   "cell_type": "code",
   "execution_count": 417,
   "metadata": {},
   "outputs": [
    {
     "data": {
      "text/html": [
       "<div>\n",
       "<style scoped>\n",
       "    .dataframe tbody tr th:only-of-type {\n",
       "        vertical-align: middle;\n",
       "    }\n",
       "\n",
       "    .dataframe tbody tr th {\n",
       "        vertical-align: top;\n",
       "    }\n",
       "\n",
       "    .dataframe thead th {\n",
       "        text-align: right;\n",
       "    }\n",
       "</style>\n",
       "<table border=\"1\" class=\"dataframe\">\n",
       "  <thead>\n",
       "    <tr style=\"text-align: right;\">\n",
       "      <th></th>\n",
       "      <th>id</th>\n",
       "      <th>title</th>\n",
       "      <th>overview</th>\n",
       "      <th>genres</th>\n",
       "      <th>keywords</th>\n",
       "      <th>cast</th>\n",
       "      <th>vote_average</th>\n",
       "      <th>director</th>\n",
       "    </tr>\n",
       "  </thead>\n",
       "  <tbody>\n",
       "    <tr>\n",
       "      <th>2621</th>\n",
       "      <td>47002</td>\n",
       "      <td>Love Letter</td>\n",
       "      <td>Hiroko attends the memorial service of her fia...</td>\n",
       "      <td>[Drama, Romance]</td>\n",
       "      <td>[loveletter]</td>\n",
       "      <td>[MihoNakayama, EtsushiToyokawa, BunjakuHan]</td>\n",
       "      <td>7.8</td>\n",
       "      <td>[ShunjiIwai, IsaoYukisada, AkaneShiratori]</td>\n",
       "    </tr>\n",
       "  </tbody>\n",
       "</table>\n",
       "</div>"
      ],
      "text/plain": [
       "         id        title                                           overview  \\\n",
       "2621  47002  Love Letter  Hiroko attends the memorial service of her fia...   \n",
       "\n",
       "                genres      keywords  \\\n",
       "2621  [Drama, Romance]  [loveletter]   \n",
       "\n",
       "                                             cast  vote_average  \\\n",
       "2621  [MihoNakayama, EtsushiToyokawa, BunjakuHan]           7.8   \n",
       "\n",
       "                                        director  \n",
       "2621  [ShunjiIwai, IsaoYukisada, AkaneShiratori]  "
      ]
     },
     "execution_count": 417,
     "metadata": {},
     "output_type": "execute_result"
    }
   ],
   "source": [
    "movies.sample()"
   ]
  },
  {
   "cell_type": "code",
   "execution_count": 418,
   "metadata": {},
   "outputs": [],
   "source": [
    "movies['overview'] = movies['overview'].apply(lambda x : x.split())\n",
    "movies_5000['overview'] = movies_5000['overview'].apply(lambda x : x.split())"
   ]
  },
  {
   "cell_type": "code",
   "execution_count": 419,
   "metadata": {},
   "outputs": [
    {
     "data": {
      "text/html": [
       "<div>\n",
       "<style scoped>\n",
       "    .dataframe tbody tr th:only-of-type {\n",
       "        vertical-align: middle;\n",
       "    }\n",
       "\n",
       "    .dataframe tbody tr th {\n",
       "        vertical-align: top;\n",
       "    }\n",
       "\n",
       "    .dataframe thead th {\n",
       "        text-align: right;\n",
       "    }\n",
       "</style>\n",
       "<table border=\"1\" class=\"dataframe\">\n",
       "  <thead>\n",
       "    <tr style=\"text-align: right;\">\n",
       "      <th></th>\n",
       "      <th>id</th>\n",
       "      <th>title</th>\n",
       "      <th>overview</th>\n",
       "      <th>genres</th>\n",
       "      <th>keywords</th>\n",
       "      <th>cast</th>\n",
       "      <th>vote_average</th>\n",
       "      <th>director</th>\n",
       "    </tr>\n",
       "  </thead>\n",
       "  <tbody>\n",
       "    <tr>\n",
       "      <th>0</th>\n",
       "      <td>19995</td>\n",
       "      <td>Avatar</td>\n",
       "      <td>[In, the, 22nd, century,, a, paraplegic, Marin...</td>\n",
       "      <td>[Action, Adventure, Fantasy, ScienceFiction]</td>\n",
       "      <td>[cultureclash, future, spacewar, spacecolony, ...</td>\n",
       "      <td>[SamWorthington, ZoeSaldana, SigourneyWeaver]</td>\n",
       "      <td>7.2</td>\n",
       "      <td>[JamesCameron]</td>\n",
       "    </tr>\n",
       "  </tbody>\n",
       "</table>\n",
       "</div>"
      ],
      "text/plain": [
       "      id   title                                           overview  \\\n",
       "0  19995  Avatar  [In, the, 22nd, century,, a, paraplegic, Marin...   \n",
       "\n",
       "                                         genres  \\\n",
       "0  [Action, Adventure, Fantasy, ScienceFiction]   \n",
       "\n",
       "                                            keywords  \\\n",
       "0  [cultureclash, future, spacewar, spacecolony, ...   \n",
       "\n",
       "                                            cast  vote_average        director  \n",
       "0  [SamWorthington, ZoeSaldana, SigourneyWeaver]           7.2  [JamesCameron]  "
      ]
     },
     "execution_count": 419,
     "metadata": {},
     "output_type": "execute_result"
    }
   ],
   "source": [
    "movies_5000[movies_5000['title'] == 'Avatar']"
   ]
  },
  {
   "cell_type": "code",
   "execution_count": 420,
   "metadata": {},
   "outputs": [
    {
     "data": {
      "text/html": [
       "<div>\n",
       "<style scoped>\n",
       "    .dataframe tbody tr th:only-of-type {\n",
       "        vertical-align: middle;\n",
       "    }\n",
       "\n",
       "    .dataframe tbody tr th {\n",
       "        vertical-align: top;\n",
       "    }\n",
       "\n",
       "    .dataframe thead th {\n",
       "        text-align: right;\n",
       "    }\n",
       "</style>\n",
       "<table border=\"1\" class=\"dataframe\">\n",
       "  <thead>\n",
       "    <tr style=\"text-align: right;\">\n",
       "      <th></th>\n",
       "      <th>id</th>\n",
       "      <th>title</th>\n",
       "      <th>overview</th>\n",
       "      <th>genres</th>\n",
       "      <th>keywords</th>\n",
       "      <th>cast</th>\n",
       "      <th>vote_average</th>\n",
       "      <th>director</th>\n",
       "    </tr>\n",
       "  </thead>\n",
       "  <tbody>\n",
       "    <tr>\n",
       "      <th>167</th>\n",
       "      <td>19995</td>\n",
       "      <td>Avatar</td>\n",
       "      <td>[In, the, 22nd, century,, a, paraplegic, Marin...</td>\n",
       "      <td>[Action, Adventure, Fantasy, ScienceFiction]</td>\n",
       "      <td>[paraplegic, attachmenttonature, cultureclash,...</td>\n",
       "      <td>[SamWorthington, ZoeSaldaña, SigourneyWeaver]</td>\n",
       "      <td>7.586</td>\n",
       "      <td>[JamesCameron, LucaKouimelis, AnaMariaQuintana...</td>\n",
       "    </tr>\n",
       "  </tbody>\n",
       "</table>\n",
       "</div>"
      ],
      "text/plain": [
       "        id   title                                           overview  \\\n",
       "167  19995  Avatar  [In, the, 22nd, century,, a, paraplegic, Marin...   \n",
       "\n",
       "                                           genres  \\\n",
       "167  [Action, Adventure, Fantasy, ScienceFiction]   \n",
       "\n",
       "                                              keywords  \\\n",
       "167  [paraplegic, attachmenttonature, cultureclash,...   \n",
       "\n",
       "                                              cast  vote_average  \\\n",
       "167  [SamWorthington, ZoeSaldaña, SigourneyWeaver]         7.586   \n",
       "\n",
       "                                              director  \n",
       "167  [JamesCameron, LucaKouimelis, AnaMariaQuintana...  "
      ]
     },
     "execution_count": 420,
     "metadata": {},
     "output_type": "execute_result"
    }
   ],
   "source": [
    "movies[movies['title'] == 'Avatar']"
   ]
  },
  {
   "cell_type": "code",
   "execution_count": 421,
   "metadata": {},
   "outputs": [],
   "source": [
    "movies['tags'] = movies['overview']\n",
    "movies_5000['tags'] = movies_5000['overview']"
   ]
  },
  {
   "cell_type": "code",
   "execution_count": 422,
   "metadata": {},
   "outputs": [],
   "source": [
    "for col in cols:\n",
    "    if col == 'vote_average': continue\n",
    "    movies['tags'] += movies[col]\n",
    "    movies_5000['tags'] += movies_5000[col]"
   ]
  },
  {
   "cell_type": "code",
   "execution_count": 423,
   "metadata": {},
   "outputs": [
    {
     "data": {
      "text/html": [
       "<div>\n",
       "<style scoped>\n",
       "    .dataframe tbody tr th:only-of-type {\n",
       "        vertical-align: middle;\n",
       "    }\n",
       "\n",
       "    .dataframe tbody tr th {\n",
       "        vertical-align: top;\n",
       "    }\n",
       "\n",
       "    .dataframe thead th {\n",
       "        text-align: right;\n",
       "    }\n",
       "</style>\n",
       "<table border=\"1\" class=\"dataframe\">\n",
       "  <thead>\n",
       "    <tr style=\"text-align: right;\">\n",
       "      <th></th>\n",
       "      <th>id</th>\n",
       "      <th>title</th>\n",
       "      <th>overview</th>\n",
       "      <th>genres</th>\n",
       "      <th>keywords</th>\n",
       "      <th>cast</th>\n",
       "      <th>vote_average</th>\n",
       "      <th>director</th>\n",
       "      <th>tags</th>\n",
       "    </tr>\n",
       "  </thead>\n",
       "  <tbody>\n",
       "    <tr>\n",
       "      <th>0</th>\n",
       "      <td>1241982</td>\n",
       "      <td>Moana 2</td>\n",
       "      <td>[After, receiving, an, unexpected, call, from,...</td>\n",
       "      <td>[Animation, Adventure, Family, Comedy]</td>\n",
       "      <td>[sea, ocean, villain, musical, sequel, duringc...</td>\n",
       "      <td>[AuliʻiCravalho, DwayneJohnson, HualālaiChung]</td>\n",
       "      <td>7.200</td>\n",
       "      <td>[DavidG.DerrickJr., JasonHand, DanaLedouxMiller]</td>\n",
       "      <td>[After, receiving, an, unexpected, call, from,...</td>\n",
       "    </tr>\n",
       "    <tr>\n",
       "      <th>1</th>\n",
       "      <td>927342</td>\n",
       "      <td>Amaran</td>\n",
       "      <td>[A, heroic, true, story, of, Major, Mukund, Va...</td>\n",
       "      <td>[Action, Drama, Adventure, War]</td>\n",
       "      <td>[basedonnovelorbook, affectation, basedontrues...</td>\n",
       "      <td>[Sivakarthikeyan, SaiPallavi, RahulBose]</td>\n",
       "      <td>8.167</td>\n",
       "      <td>[RajkumarPeriasamy]</td>\n",
       "      <td>[A, heroic, true, story, of, Major, Mukund, Va...</td>\n",
       "    </tr>\n",
       "    <tr>\n",
       "      <th>2</th>\n",
       "      <td>822119</td>\n",
       "      <td>Captain America: Brave New World</td>\n",
       "      <td>[After, meeting, with, newly, elected, U.S., P...</td>\n",
       "      <td>[Action, Thriller, ScienceFiction]</td>\n",
       "      <td>[hero, superhero, revenge, blunt, aftercredits...</td>\n",
       "      <td>[AnthonyMackie, HarrisonFord, DannyRamirez]</td>\n",
       "      <td>6.200</td>\n",
       "      <td>[JuliusOnah, MichelePanelli-Venetis, RobertAlo...</td>\n",
       "      <td>[After, meeting, with, newly, elected, U.S., P...</td>\n",
       "    </tr>\n",
       "    <tr>\n",
       "      <th>3</th>\n",
       "      <td>939243</td>\n",
       "      <td>Sonic the Hedgehog 3</td>\n",
       "      <td>[Sonic,, Knuckles,, and, Tails, reunite, again...</td>\n",
       "      <td>[Action, ScienceFiction, Comedy, Family]</td>\n",
       "      <td>[moon, sequel, basedonvideogame, burlesque, du...</td>\n",
       "      <td>[JimCarrey, BenSchwartz, KeanuReeves]</td>\n",
       "      <td>7.777</td>\n",
       "      <td>[JeffFowler, JoeyCoughlin, PeterLyonsCollister...</td>\n",
       "      <td>[Sonic,, Knuckles,, and, Tails, reunite, again...</td>\n",
       "    </tr>\n",
       "    <tr>\n",
       "      <th>4</th>\n",
       "      <td>1160956</td>\n",
       "      <td>Panda Plan</td>\n",
       "      <td>[International, action, star, Jackie, Chan, is...</td>\n",
       "      <td>[Action, Comedy]</td>\n",
       "      <td>[assistant, zoo, panda, superstar, rescueopera...</td>\n",
       "      <td>[JackieChan, ShiCe, WeiXiang]</td>\n",
       "      <td>7.277</td>\n",
       "      <td>[ZhangLuan]</td>\n",
       "      <td>[International, action, star, Jackie, Chan, is...</td>\n",
       "    </tr>\n",
       "  </tbody>\n",
       "</table>\n",
       "</div>"
      ],
      "text/plain": [
       "        id                             title  \\\n",
       "0  1241982                           Moana 2   \n",
       "1   927342                            Amaran   \n",
       "2   822119  Captain America: Brave New World   \n",
       "3   939243              Sonic the Hedgehog 3   \n",
       "4  1160956                        Panda Plan   \n",
       "\n",
       "                                            overview  \\\n",
       "0  [After, receiving, an, unexpected, call, from,...   \n",
       "1  [A, heroic, true, story, of, Major, Mukund, Va...   \n",
       "2  [After, meeting, with, newly, elected, U.S., P...   \n",
       "3  [Sonic,, Knuckles,, and, Tails, reunite, again...   \n",
       "4  [International, action, star, Jackie, Chan, is...   \n",
       "\n",
       "                                     genres  \\\n",
       "0    [Animation, Adventure, Family, Comedy]   \n",
       "1           [Action, Drama, Adventure, War]   \n",
       "2        [Action, Thriller, ScienceFiction]   \n",
       "3  [Action, ScienceFiction, Comedy, Family]   \n",
       "4                          [Action, Comedy]   \n",
       "\n",
       "                                            keywords  \\\n",
       "0  [sea, ocean, villain, musical, sequel, duringc...   \n",
       "1  [basedonnovelorbook, affectation, basedontrues...   \n",
       "2  [hero, superhero, revenge, blunt, aftercredits...   \n",
       "3  [moon, sequel, basedonvideogame, burlesque, du...   \n",
       "4  [assistant, zoo, panda, superstar, rescueopera...   \n",
       "\n",
       "                                             cast  vote_average  \\\n",
       "0  [AuliʻiCravalho, DwayneJohnson, HualālaiChung]         7.200   \n",
       "1        [Sivakarthikeyan, SaiPallavi, RahulBose]         8.167   \n",
       "2     [AnthonyMackie, HarrisonFord, DannyRamirez]         6.200   \n",
       "3           [JimCarrey, BenSchwartz, KeanuReeves]         7.777   \n",
       "4                   [JackieChan, ShiCe, WeiXiang]         7.277   \n",
       "\n",
       "                                            director  \\\n",
       "0   [DavidG.DerrickJr., JasonHand, DanaLedouxMiller]   \n",
       "1                                [RajkumarPeriasamy]   \n",
       "2  [JuliusOnah, MichelePanelli-Venetis, RobertAlo...   \n",
       "3  [JeffFowler, JoeyCoughlin, PeterLyonsCollister...   \n",
       "4                                        [ZhangLuan]   \n",
       "\n",
       "                                                tags  \n",
       "0  [After, receiving, an, unexpected, call, from,...  \n",
       "1  [A, heroic, true, story, of, Major, Mukund, Va...  \n",
       "2  [After, meeting, with, newly, elected, U.S., P...  \n",
       "3  [Sonic,, Knuckles,, and, Tails, reunite, again...  \n",
       "4  [International, action, star, Jackie, Chan, is...  "
      ]
     },
     "execution_count": 423,
     "metadata": {},
     "output_type": "execute_result"
    }
   ],
   "source": [
    "movies.head()"
   ]
  },
  {
   "cell_type": "code",
   "execution_count": 424,
   "metadata": {},
   "outputs": [
    {
     "data": {
      "text/plain": [
       "['After',\n",
       " 'receiving',\n",
       " 'an',\n",
       " 'unexpected',\n",
       " 'call',\n",
       " 'from',\n",
       " 'her',\n",
       " 'wayfinding',\n",
       " 'ancestors,',\n",
       " 'Moana',\n",
       " 'journeys',\n",
       " 'alongside',\n",
       " 'Maui',\n",
       " 'and',\n",
       " 'a',\n",
       " 'new',\n",
       " 'crew',\n",
       " 'to',\n",
       " 'the',\n",
       " 'far',\n",
       " 'seas',\n",
       " 'of',\n",
       " 'Oceania',\n",
       " 'and',\n",
       " 'into',\n",
       " 'dangerous,',\n",
       " 'long-lost',\n",
       " 'waters',\n",
       " 'for',\n",
       " 'an',\n",
       " 'adventure',\n",
       " 'unlike',\n",
       " 'anything',\n",
       " \"she's\",\n",
       " 'ever',\n",
       " 'faced.',\n",
       " 'Animation',\n",
       " 'Adventure',\n",
       " 'Family',\n",
       " 'Comedy',\n",
       " 'sea',\n",
       " 'ocean',\n",
       " 'villain',\n",
       " 'musical',\n",
       " 'sequel',\n",
       " 'duringcreditsstinger',\n",
       " 'absurd',\n",
       " 'AuliʻiCravalho',\n",
       " 'DwayneJohnson',\n",
       " 'HualālaiChung',\n",
       " 'DavidG.DerrickJr.',\n",
       " 'JasonHand',\n",
       " 'DanaLedouxMiller']"
      ]
     },
     "execution_count": 424,
     "metadata": {},
     "output_type": "execute_result"
    }
   ],
   "source": [
    "movies.tags[0]"
   ]
  },
  {
   "cell_type": "code",
   "execution_count": 425,
   "metadata": {},
   "outputs": [
    {
     "data": {
      "text/plain": [
       "['In',\n",
       " 'the',\n",
       " '22nd',\n",
       " 'century,',\n",
       " 'a',\n",
       " 'paraplegic',\n",
       " 'Marine',\n",
       " 'is',\n",
       " 'dispatched',\n",
       " 'to',\n",
       " 'the',\n",
       " 'moon',\n",
       " 'Pandora',\n",
       " 'on',\n",
       " 'a',\n",
       " 'unique',\n",
       " 'mission,',\n",
       " 'but',\n",
       " 'becomes',\n",
       " 'torn',\n",
       " 'between',\n",
       " 'following',\n",
       " 'orders',\n",
       " 'and',\n",
       " 'protecting',\n",
       " 'an',\n",
       " 'alien',\n",
       " 'civilization.',\n",
       " 'Action',\n",
       " 'Adventure',\n",
       " 'Fantasy',\n",
       " 'ScienceFiction',\n",
       " 'cultureclash',\n",
       " 'future',\n",
       " 'spacewar',\n",
       " 'spacecolony',\n",
       " 'society',\n",
       " 'spacetravel',\n",
       " 'futuristic',\n",
       " 'romance',\n",
       " 'space',\n",
       " 'alien',\n",
       " 'tribe',\n",
       " 'alienplanet',\n",
       " 'cgi',\n",
       " 'marine',\n",
       " 'soldier',\n",
       " 'battle',\n",
       " 'loveaffair',\n",
       " 'antiwar',\n",
       " 'powerrelations',\n",
       " 'mindandsoul',\n",
       " '3d',\n",
       " 'SamWorthington',\n",
       " 'ZoeSaldana',\n",
       " 'SigourneyWeaver',\n",
       " 'JamesCameron']"
      ]
     },
     "execution_count": 425,
     "metadata": {},
     "output_type": "execute_result"
    }
   ],
   "source": [
    "movies_5000.tags[0]\n"
   ]
  },
  {
   "cell_type": "code",
   "execution_count": 426,
   "metadata": {},
   "outputs": [],
   "source": [
    "new_df = movies[['id', 'title', 'tags','vote_average']]"
   ]
  },
  {
   "cell_type": "code",
   "execution_count": 438,
   "metadata": {},
   "outputs": [
    {
     "data": {
      "text/html": [
       "<div>\n",
       "<style scoped>\n",
       "    .dataframe tbody tr th:only-of-type {\n",
       "        vertical-align: middle;\n",
       "    }\n",
       "\n",
       "    .dataframe tbody tr th {\n",
       "        vertical-align: top;\n",
       "    }\n",
       "\n",
       "    .dataframe thead th {\n",
       "        text-align: right;\n",
       "    }\n",
       "</style>\n",
       "<table border=\"1\" class=\"dataframe\">\n",
       "  <thead>\n",
       "    <tr style=\"text-align: right;\">\n",
       "      <th></th>\n",
       "      <th>id</th>\n",
       "      <th>title</th>\n",
       "      <th>tags</th>\n",
       "      <th>vote_average</th>\n",
       "    </tr>\n",
       "  </thead>\n",
       "  <tbody>\n",
       "    <tr>\n",
       "      <th>1015</th>\n",
       "      <td>201550</td>\n",
       "      <td>Life of a King</td>\n",
       "      <td>[The, true, story, of, one, man's, mission, to...</td>\n",
       "      <td>7.2</td>\n",
       "    </tr>\n",
       "  </tbody>\n",
       "</table>\n",
       "</div>"
      ],
      "text/plain": [
       "          id           title  \\\n",
       "1015  201550  Life of a King   \n",
       "\n",
       "                                                   tags  vote_average  \n",
       "1015  [The, true, story, of, one, man's, mission, to...           7.2  "
      ]
     },
     "execution_count": 438,
     "metadata": {},
     "output_type": "execute_result"
    }
   ],
   "source": [
    "new_df.sample()"
   ]
  },
  {
   "cell_type": "code",
   "execution_count": 439,
   "metadata": {},
   "outputs": [],
   "source": [
    "new_df_5000 = movies_5000[['id', 'title', 'tags', 'vote_average']]"
   ]
  },
  {
   "cell_type": "code",
   "execution_count": 440,
   "metadata": {},
   "outputs": [
    {
     "data": {
      "text/html": [
       "<div>\n",
       "<style scoped>\n",
       "    .dataframe tbody tr th:only-of-type {\n",
       "        vertical-align: middle;\n",
       "    }\n",
       "\n",
       "    .dataframe tbody tr th {\n",
       "        vertical-align: top;\n",
       "    }\n",
       "\n",
       "    .dataframe thead th {\n",
       "        text-align: right;\n",
       "    }\n",
       "</style>\n",
       "<table border=\"1\" class=\"dataframe\">\n",
       "  <thead>\n",
       "    <tr style=\"text-align: right;\">\n",
       "      <th></th>\n",
       "      <th>id</th>\n",
       "      <th>title</th>\n",
       "      <th>tags</th>\n",
       "      <th>vote_average</th>\n",
       "    </tr>\n",
       "  </thead>\n",
       "  <tbody>\n",
       "    <tr>\n",
       "      <th>2845</th>\n",
       "      <td>16241</td>\n",
       "      <td>The Boys from Brazil</td>\n",
       "      <td>[Nazi, hunter, Ezra, Lieberman, discovers, a, ...</td>\n",
       "      <td>6.6</td>\n",
       "    </tr>\n",
       "  </tbody>\n",
       "</table>\n",
       "</div>"
      ],
      "text/plain": [
       "         id                 title  \\\n",
       "2845  16241  The Boys from Brazil   \n",
       "\n",
       "                                                   tags  vote_average  \n",
       "2845  [Nazi, hunter, Ezra, Lieberman, discovers, a, ...           6.6  "
      ]
     },
     "execution_count": 440,
     "metadata": {},
     "output_type": "execute_result"
    }
   ],
   "source": [
    "new_df_5000.sample()"
   ]
  },
  {
   "cell_type": "code",
   "execution_count": 441,
   "metadata": {},
   "outputs": [
    {
     "data": {
      "text/plain": [
       "(3866, 4)"
      ]
     },
     "execution_count": 441,
     "metadata": {},
     "output_type": "execute_result"
    }
   ],
   "source": [
    "new_df.shape"
   ]
  },
  {
   "cell_type": "code",
   "execution_count": 442,
   "metadata": {},
   "outputs": [
    {
     "data": {
      "text/plain": [
       "(4800, 4)"
      ]
     },
     "execution_count": 442,
     "metadata": {},
     "output_type": "execute_result"
    }
   ],
   "source": [
    "new_df_5000.shape"
   ]
  },
  {
   "cell_type": "code",
   "execution_count": 443,
   "metadata": {},
   "outputs": [],
   "source": [
    "\n",
    "merged_df = pd.concat([new_df, new_df_5000]).drop_duplicates(subset=['id']).reset_index(drop=True)"
   ]
  },
  {
   "cell_type": "code",
   "execution_count": 444,
   "metadata": {},
   "outputs": [
    {
     "name": "stdout",
     "output_type": "stream",
     "text": [
      "(7346, 4)\n"
     ]
    }
   ],
   "source": [
    "print(merged_df.shape) "
   ]
  },
  {
   "cell_type": "code",
   "execution_count": 445,
   "metadata": {},
   "outputs": [
    {
     "data": {
      "text/plain": [
       "['After',\n",
       " 'receiving',\n",
       " 'an',\n",
       " 'unexpected',\n",
       " 'call',\n",
       " 'from',\n",
       " 'her',\n",
       " 'wayfinding',\n",
       " 'ancestors,',\n",
       " 'Moana',\n",
       " 'journeys',\n",
       " 'alongside',\n",
       " 'Maui',\n",
       " 'and',\n",
       " 'a',\n",
       " 'new',\n",
       " 'crew',\n",
       " 'to',\n",
       " 'the',\n",
       " 'far',\n",
       " 'seas',\n",
       " 'of',\n",
       " 'Oceania',\n",
       " 'and',\n",
       " 'into',\n",
       " 'dangerous,',\n",
       " 'long-lost',\n",
       " 'waters',\n",
       " 'for',\n",
       " 'an',\n",
       " 'adventure',\n",
       " 'unlike',\n",
       " 'anything',\n",
       " \"she's\",\n",
       " 'ever',\n",
       " 'faced.',\n",
       " 'Animation',\n",
       " 'Adventure',\n",
       " 'Family',\n",
       " 'Comedy',\n",
       " 'sea',\n",
       " 'ocean',\n",
       " 'villain',\n",
       " 'musical',\n",
       " 'sequel',\n",
       " 'duringcreditsstinger',\n",
       " 'absurd',\n",
       " 'AuliʻiCravalho',\n",
       " 'DwayneJohnson',\n",
       " 'HualālaiChung',\n",
       " 'DavidG.DerrickJr.',\n",
       " 'JasonHand',\n",
       " 'DanaLedouxMiller']"
      ]
     },
     "execution_count": 445,
     "metadata": {},
     "output_type": "execute_result"
    }
   ],
   "source": [
    "merged_df.tags[0]"
   ]
  },
  {
   "cell_type": "code",
   "execution_count": null,
   "metadata": {},
   "outputs": [],
   "source": [
    "merged_df.to_csv('../movies.csv')"
   ]
  },
  {
   "cell_type": "code",
   "execution_count": null,
   "metadata": {},
   "outputs": [],
   "source": []
  }
 ],
 "metadata": {
  "kernelspec": {
   "display_name": "base",
   "language": "python",
   "name": "python3"
  },
  "language_info": {
   "codemirror_mode": {
    "name": "ipython",
    "version": 3
   },
   "file_extension": ".py",
   "mimetype": "text/x-python",
   "name": "python",
   "nbconvert_exporter": "python",
   "pygments_lexer": "ipython3",
   "version": "3.11.4"
  }
 },
 "nbformat": 4,
 "nbformat_minor": 2
}
