{
 "cells": [
  {
   "cell_type": "code",
   "execution_count": 2,
   "metadata": {},
   "outputs": [],
   "source": [
    "import pandas as pd\n",
    "import numpy as np\n",
    "import ast"
   ]
  },
  {
   "cell_type": "code",
   "execution_count": 3,
   "metadata": {},
   "outputs": [],
   "source": [
    "new_df = pd.read_csv('../movies.csv')"
   ]
  },
  {
   "cell_type": "code",
   "execution_count": 4,
   "metadata": {},
   "outputs": [
    {
     "data": {
      "text/plain": [
       "(7346, 5)"
      ]
     },
     "execution_count": 4,
     "metadata": {},
     "output_type": "execute_result"
    }
   ],
   "source": [
    "new_df.shape"
   ]
  },
  {
   "cell_type": "code",
   "execution_count": 5,
   "metadata": {},
   "outputs": [
    {
     "data": {
      "text/plain": [
       "0"
      ]
     },
     "execution_count": 5,
     "metadata": {},
     "output_type": "execute_result"
    }
   ],
   "source": [
    "new_df.duplicated().sum()"
   ]
  },
  {
   "cell_type": "code",
   "execution_count": 6,
   "metadata": {},
   "outputs": [
    {
     "data": {
      "text/plain": [
       "['After',\n",
       " 'receiving',\n",
       " 'an',\n",
       " 'unexpected',\n",
       " 'call',\n",
       " 'from',\n",
       " 'her',\n",
       " 'wayfinding',\n",
       " 'ancestors,',\n",
       " 'Moana',\n",
       " 'journeys',\n",
       " 'alongside',\n",
       " 'Maui',\n",
       " 'and',\n",
       " 'a',\n",
       " 'new',\n",
       " 'crew',\n",
       " 'to',\n",
       " 'the',\n",
       " 'far',\n",
       " 'seas',\n",
       " 'of',\n",
       " 'Oceania',\n",
       " 'and',\n",
       " 'into',\n",
       " 'dangerous,',\n",
       " 'long-lost',\n",
       " 'waters',\n",
       " 'for',\n",
       " 'an',\n",
       " 'adventure',\n",
       " 'unlike',\n",
       " 'anything',\n",
       " \"she's\",\n",
       " 'ever',\n",
       " 'faced.',\n",
       " 'Animation',\n",
       " 'Adventure',\n",
       " 'Family',\n",
       " 'Comedy',\n",
       " 'sea',\n",
       " 'ocean',\n",
       " 'villain',\n",
       " 'musical',\n",
       " 'sequel',\n",
       " 'duringcreditsstinger',\n",
       " 'absurd',\n",
       " 'AuliʻiCravalho',\n",
       " 'DwayneJohnson',\n",
       " 'HualālaiChung',\n",
       " 'DavidG.DerrickJr.',\n",
       " 'JasonHand',\n",
       " 'DanaLedouxMiller']"
      ]
     },
     "execution_count": 6,
     "metadata": {},
     "output_type": "execute_result"
    }
   ],
   "source": [
    "# Convert string representation of lists into actual lists\n",
    "new_df['tags'] = new_df['tags'].apply(lambda x: ast.literal_eval(x) if isinstance(x, str) else x)\n",
    "\n",
    "# Check the first few \n",
    "new_df['tags'][0]"
   ]
  },
  {
   "cell_type": "code",
   "execution_count": 7,
   "metadata": {},
   "outputs": [],
   "source": [
    "new_df['tags'] = new_df['tags'].apply(lambda x: \" \".join(x))"
   ]
  },
  {
   "cell_type": "code",
   "execution_count": 8,
   "metadata": {},
   "outputs": [
    {
     "name": "stdout",
     "output_type": "stream",
     "text": [
      "Pleasure\n",
      "19 year old Linnéa leaves her small town in Sweden and heads for Los Angeles with the aim of becoming the world's next big porn star, but the road to her goal turns out to be bumpier than she imagined. Drama pornography femalefriendship pornstar femaleprotagonist losangeles california pornindustry pornactress womandirector intimate absurd disgusted SofiaKappel ZeldaMorrison TeeReel JessamynLand JasonM.Roberts MikeRoque ZacharyWalker KhayiClement EmilyMathason AdamAndersson Kentucky JeniferEllis StevenRodgers SarahGarrettson KatieScholz NinjaThyberg\n"
     ]
    }
   ],
   "source": [
    "print(new_df['title'][100])\n",
    "print(new_df['tags'][100])"
   ]
  },
  {
   "cell_type": "code",
   "execution_count": 9,
   "metadata": {},
   "outputs": [],
   "source": [
    "new_df['tags'] = new_df['tags'].apply(lambda x: x.lower())"
   ]
  },
  {
   "cell_type": "code",
   "execution_count": 10,
   "metadata": {},
   "outputs": [
    {
     "data": {
      "text/plain": [
       "\"19 year old linnéa leaves her small town in sweden and heads for los angeles with the aim of becoming the world's next big porn star, but the road to her goal turns out to be bumpier than she imagined. drama pornography femalefriendship pornstar femaleprotagonist losangeles california pornindustry pornactress womandirector intimate absurd disgusted sofiakappel zeldamorrison teereel jessamynland jasonm.roberts mikeroque zacharywalker khayiclement emilymathason adamandersson kentucky jeniferellis stevenrodgers sarahgarrettson katiescholz ninjathyberg\""
      ]
     },
     "execution_count": 10,
     "metadata": {},
     "output_type": "execute_result"
    }
   ],
   "source": [
    "new_df['tags'][100]"
   ]
  },
  {
   "cell_type": "code",
   "execution_count": 11,
   "metadata": {},
   "outputs": [
    {
     "data": {
      "text/plain": [
       "(7346, 5)"
      ]
     },
     "execution_count": 11,
     "metadata": {},
     "output_type": "execute_result"
    }
   ],
   "source": [
    "new_df.shape"
   ]
  },
  {
   "cell_type": "code",
   "execution_count": 12,
   "metadata": {},
   "outputs": [],
   "source": [
    "import re\n",
    "from nltk.stem import PorterStemmer\n",
    "\n",
    "ps = PorterStemmer()\n",
    "\n",
    "def clean_text(text):\n",
    "    text = re.sub(r'[^\\w\\s]', '', text).lower()\n",
    "    return ' '.join([ps.stem(word) for word in text.split()])\n",
    "\n",
    "\n"
   ]
  },
  {
   "cell_type": "code",
   "execution_count": 13,
   "metadata": {},
   "outputs": [],
   "source": [
    "new_df['tags'] = new_df['tags'].apply(clean_text)"
   ]
  },
  {
   "cell_type": "code",
   "execution_count": 14,
   "metadata": {},
   "outputs": [
    {
     "data": {
      "text/plain": [
       "(7346, 5)"
      ]
     },
     "execution_count": 14,
     "metadata": {},
     "output_type": "execute_result"
    }
   ],
   "source": [
    "new_df.shape"
   ]
  },
  {
   "cell_type": "code",
   "execution_count": 15,
   "metadata": {},
   "outputs": [],
   "source": [
    "from sklearn.feature_extraction.text import CountVectorizer\n",
    "cv = CountVectorizer(max_features=5000, stop_words='english', token_pattern=r'\\b\\w+\\b')"
   ]
  },
  {
   "cell_type": "code",
   "execution_count": 16,
   "metadata": {},
   "outputs": [],
   "source": [
    "vectors = cv.fit_transform(new_df['tags']).toarray()"
   ]
  },
  {
   "cell_type": "code",
   "execution_count": 17,
   "metadata": {},
   "outputs": [
    {
     "data": {
      "text/plain": [
       "array([0, 0, 0, ..., 0, 0, 0], dtype=int64)"
      ]
     },
     "execution_count": 17,
     "metadata": {},
     "output_type": "execute_result"
    }
   ],
   "source": [
    "vectors[0]"
   ]
  },
  {
   "cell_type": "code",
   "execution_count": 18,
   "metadata": {},
   "outputs": [],
   "source": [
    "from sklearn.metrics.pairwise import cosine_similarity"
   ]
  },
  {
   "cell_type": "code",
   "execution_count": 19,
   "metadata": {},
   "outputs": [],
   "source": [
    "similarity = cosine_similarity(vectors)"
   ]
  },
  {
   "cell_type": "code",
   "execution_count": 20,
   "metadata": {},
   "outputs": [
    {
     "data": {
      "text/plain": [
       "array([[1.        , 0.05679618, 0.        , ..., 0.02400077, 0.02677398,\n",
       "        0.02913583],\n",
       "       [0.05679618, 1.        , 0.075     , ..., 0.08451543, 0.14142136,\n",
       "        0.07694838],\n",
       "       [0.        , 0.075     , 1.        , ..., 0.02112886, 0.04714045,\n",
       "        0.02564946],\n",
       "       ...,\n",
       "       [0.02400077, 0.08451543, 0.02112886, ..., 1.        , 0.03984095,\n",
       "        0.02167775],\n",
       "       [0.02677398, 0.14142136, 0.04714045, ..., 0.03984095, 1.        ,\n",
       "        0.07254763],\n",
       "       [0.02913583, 0.07694838, 0.02564946, ..., 0.02167775, 0.07254763,\n",
       "        1.        ]])"
      ]
     },
     "execution_count": 20,
     "metadata": {},
     "output_type": "execute_result"
    }
   ],
   "source": [
    "similarity"
   ]
  },
  {
   "cell_type": "code",
   "execution_count": 21,
   "metadata": {},
   "outputs": [
    {
     "data": {
      "text/plain": [
       "(7346, 7346)"
      ]
     },
     "execution_count": 21,
     "metadata": {},
     "output_type": "execute_result"
    }
   ],
   "source": [
    "similarity.shape"
   ]
  },
  {
   "cell_type": "code",
   "execution_count": 22,
   "metadata": {},
   "outputs": [
    {
     "data": {
      "text/plain": [
       "166"
      ]
     },
     "execution_count": 22,
     "metadata": {},
     "output_type": "execute_result"
    }
   ],
   "source": [
    "new_df[new_df['title'] == 'Avatar'].index[0]"
   ]
  },
  {
   "cell_type": "code",
   "execution_count": 23,
   "metadata": {},
   "outputs": [
    {
     "data": {
      "text/plain": [
       "3894"
      ]
     },
     "execution_count": 23,
     "metadata": {},
     "output_type": "execute_result"
    }
   ],
   "source": [
    "new_df[new_df['title'] == 'Batman Begins'].index[0]"
   ]
  },
  {
   "cell_type": "code",
   "execution_count": 24,
   "metadata": {},
   "outputs": [
    {
     "data": {
      "text/plain": [
       "[(3952, 0.3592106040535498),\n",
       " (1377, 0.35560035560053344),\n",
       " (1721, 0.33256439728421594),\n",
       " (864, 0.32128773156099955),\n",
       " (2117, 0.31108550841912763)]"
      ]
     },
     "execution_count": 24,
     "metadata": {},
     "output_type": "execute_result"
    }
   ],
   "source": [
    "sorted(list(enumerate(similarity[0])), reverse=True, key=lambda x : x[1])[1:6]"
   ]
  },
  {
   "cell_type": "code",
   "execution_count": 25,
   "metadata": {},
   "outputs": [],
   "source": [
    "def recommend(movie):\n",
    "    movie_index = new_df[new_df['title'] == movie].index[0]\n",
    "    distance = similarity[movie_index]\n",
    "    sort_list = sorted(list(enumerate(distance)), reverse=True, key=lambda x: x[1])\n",
    "\n",
    "    movies_list = []  # Use a list instead of a set\n",
    "\n",
    "    for i in sort_list:\n",
    "        if new_df.iloc[i[0]].title == movie: \n",
    "            continue  # Skip the same movie\n",
    "\n",
    "        if new_df.iloc[i[0]].vote_average >= 7 and len(movies_list) < 6:  # Stop at 6 movies\n",
    "            movies_list.append(new_df.iloc[i[0]].title)\n",
    "\n",
    "    return movies_list  # Return the list instead of printing\n",
    "\n"
   ]
  },
  {
   "cell_type": "code",
   "execution_count": 26,
   "metadata": {},
   "outputs": [
    {
     "data": {
      "text/plain": [
       "['Batman: The Dark Knight Returns, Part 1',\n",
       " 'The Dark Knight',\n",
       " 'The Raid 2',\n",
       " 'Batman',\n",
       " 'Batman: Under the Red Hood',\n",
       " 'Batman: Mask of the Phantasm']"
      ]
     },
     "execution_count": 26,
     "metadata": {},
     "output_type": "execute_result"
    }
   ],
   "source": [
    "# Example usage:\n",
    "recommend(\"Batman Begins\")\n"
   ]
  },
  {
   "cell_type": "code",
   "execution_count": 27,
   "metadata": {},
   "outputs": [],
   "source": [
    "import pickle"
   ]
  },
  {
   "cell_type": "code",
   "execution_count": 28,
   "metadata": {},
   "outputs": [],
   "source": [
    "pickle.dump(new_df, open('../movies.pkl', 'wb'))"
   ]
  },
  {
   "cell_type": "code",
   "execution_count": 29,
   "metadata": {},
   "outputs": [],
   "source": [
    "pickle.dump(similarity, open('../pythonProject/similarity.pkl', 'wb'))"
   ]
  },
  {
   "cell_type": "code",
   "execution_count": 49,
   "metadata": {},
   "outputs": [
    {
     "data": {
      "text/html": [
       "<div>\n",
       "<style scoped>\n",
       "    .dataframe tbody tr th:only-of-type {\n",
       "        vertical-align: middle;\n",
       "    }\n",
       "\n",
       "    .dataframe tbody tr th {\n",
       "        vertical-align: top;\n",
       "    }\n",
       "\n",
       "    .dataframe thead th {\n",
       "        text-align: right;\n",
       "    }\n",
       "</style>\n",
       "<table border=\"1\" class=\"dataframe\">\n",
       "  <thead>\n",
       "    <tr style=\"text-align: right;\">\n",
       "      <th></th>\n",
       "      <th>Unnamed: 0</th>\n",
       "      <th>id</th>\n",
       "      <th>title</th>\n",
       "      <th>tags</th>\n",
       "      <th>vote_average</th>\n",
       "    </tr>\n",
       "  </thead>\n",
       "  <tbody>\n",
       "    <tr>\n",
       "      <th>2951</th>\n",
       "      <td>2951</td>\n",
       "      <td>12572</td>\n",
       "      <td>New York, I Love You</td>\n",
       "      <td>new york i love you delv into the intim live o...</td>\n",
       "      <td>5.942</td>\n",
       "    </tr>\n",
       "  </tbody>\n",
       "</table>\n",
       "</div>"
      ],
      "text/plain": [
       "      Unnamed: 0     id                 title  \\\n",
       "2951        2951  12572  New York, I Love You   \n",
       "\n",
       "                                                   tags  vote_average  \n",
       "2951  new york i love you delv into the intim live o...         5.942  "
      ]
     },
     "execution_count": 49,
     "metadata": {},
     "output_type": "execute_result"
    }
   ],
   "source": [
    "new_df.sample()"
   ]
  },
  {
   "cell_type": "code",
   "execution_count": 56,
   "metadata": {},
   "outputs": [
    {
     "data": {
      "text/plain": [
       "5.942"
      ]
     },
     "execution_count": 56,
     "metadata": {},
     "output_type": "execute_result"
    }
   ],
   "source": [
    "movie = 'New York, I Love You'\n",
    "current_movie_vote = float(new_df[new_df['title'] == movie].vote_average)\n",
    "current_movie_vote"
   ]
  },
  {
   "cell_type": "code",
   "execution_count": null,
   "metadata": {},
   "outputs": [],
   "source": []
  }
 ],
 "metadata": {
  "kernelspec": {
   "display_name": "base",
   "language": "python",
   "name": "python3"
  },
  "language_info": {
   "codemirror_mode": {
    "name": "ipython",
    "version": 3
   },
   "file_extension": ".py",
   "mimetype": "text/x-python",
   "name": "python",
   "nbconvert_exporter": "python",
   "pygments_lexer": "ipython3",
   "version": "3.11.4"
  }
 },
 "nbformat": 4,
 "nbformat_minor": 2
}
